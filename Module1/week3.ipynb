{
 "cells": [
  {
   "cell_type": "code",
   "execution_count": null,
   "id": "2208352c",
   "metadata": {},
   "outputs": [],
   "source": [
    "import torch\n",
    "import torch.nn as nn"
   ]
  },
  {
   "cell_type": "code",
   "execution_count": null,
   "id": "e93790a2",
   "metadata": {},
   "outputs": [],
   "source": [
    "x = torch.tensor([5.0, 3.0])\n",
    "\n",
    "output = torch.sigmoid(x)\n",
    "print(output)"
   ]
  },
  {
   "cell_type": "code",
   "execution_count": null,
   "id": "a509ecb4",
   "metadata": {},
   "outputs": [],
   "source": [
    "class MySigmoid(nn.Module):\n",
    "    def __init__(self):\n",
    "        super().__init__()\n",
    "\n",
    "    def forward(self, x):\n",
    "        return torch.sigmoid(x)\n",
    "\n",
    "\n",
    "data = torch.Tensor([3.0, -2.0])\n",
    "my_sigmoid = MySigmoid()\n",
    "output = my_sigmoid(data)\n",
    "print(output)"
   ]
  },
  {
   "cell_type": "code",
   "execution_count": null,
   "id": "78d4284b",
   "metadata": {},
   "outputs": [],
   "source": [
    "from abc import ABC, abstractmethod\n",
    "\n",
    "class Person(ABC):\n",
    "    def __init__(self, name:str, yob:int):\n",
    "        self._name = name\n",
    "        self._yob = yob\n",
    "\n",
    "    def getYoB(self):\n",
    "        return self._yob\n",
    "\n",
    "    @abstractmethod\n",
    "    def describe(self):\n",
    "        pass\n",
    "\n",
    "class Student(Person):\n",
    "    def __init__(self, name:str, yob:int, grade:int):\n",
    "        super().__init__(name, yob)\n",
    "        self.grade = grade\n",
    "\n",
    "    def describe(self):\n",
    "        print(f'Student - Name:{self._name} - YoB:{self._yob} - Grade:{self.grade}')"
   ]
  },
  {
   "cell_type": "code",
   "execution_count": null,
   "id": "53f7ca35",
   "metadata": {},
   "outputs": [],
   "source": [
    "\n",
    "student1 = Student(name=\"studentZ2023\", yob=2011, grade=\"6\")\n",
    "student1.describe()"
   ]
  },
  {
   "cell_type": "code",
   "execution_count": null,
   "id": "437d9531",
   "metadata": {},
   "outputs": [],
   "source": [
    "class Teacher(Person):\n",
    "    def __init__(self, name:str, yob:int, subject:str):\n",
    "        super().__init__(name, yob)\n",
    "        self.subject = subject\n",
    "\n",
    "    def describe(self):\n",
    "        print(f'Teacher - Name: {self._name} - YoB: {self.getYoB()} - Subject: {self.subject}')"
   ]
  },
  {
   "cell_type": "code",
   "execution_count": null,
   "id": "3c19b184",
   "metadata": {},
   "outputs": [],
   "source": [
    "\n",
    "teacher1 = Teacher(name=\"teacherZ2023\", yob=1991, subject=\"History\")\n",
    "teacher1.describe()"
   ]
  },
  {
   "cell_type": "code",
   "execution_count": null,
   "id": "1978c821",
   "metadata": {},
   "outputs": [],
   "source": [
    "class Doctor(Person):\n",
    "    def __init__(self, name:str, yob:int, specialist:str):\n",
    "        super().__init__(name, yob)\n",
    "        self.specialist = specialist\n",
    "\n",
    "    def describe(self):\n",
    "        print(f\"Doctor - Name: {self._name} - YoB: {self.getYoB()} - Specialist: {self.specialist}\")\n"
   ]
  },
  {
   "cell_type": "code",
   "execution_count": null,
   "id": "e75e2bdb",
   "metadata": {},
   "outputs": [],
   "source": [
    "doctor1 = Doctor(name=\"doctorZ2023\", yob=1981, specialist=\"Endocrinologists\")\n",
    "doctor1.describe()"
   ]
  },
  {
   "cell_type": "code",
   "execution_count": null,
   "id": "ab2b642a",
   "metadata": {},
   "outputs": [],
   "source": [
    "class SayHi():\n",
    "    def __init__(self, name):\n",
    "        self.name = name\n",
    "\n",
    "    def hello(self):\n",
    "        print(f\"Hello {self.name}\")\n",
    "    \n",
    "    def __call__(self, prefix):\n",
    "        print(f\"{prefix} and {self.name}\")\n",
    "\n",
    "obj1 = SayHi('lucy')\n",
    "obj1('LLLOOO')\n",
    "\n",
    "vars(obj1)"
   ]
  },
  {
   "cell_type": "code",
   "execution_count": null,
   "id": "e3931f8f",
   "metadata": {},
   "outputs": [],
   "source": [
    "class Animal:\n",
    "    def __init__(self):\n",
    "        self.age = 1\n",
    "\n",
    "class Cat(Animal):\n",
    "    def __init__(self):\n",
    "        self.age = 2\n",
    "        super().__init__()\n",
    "\n",
    "    def describe(self):\n",
    "        print(self.age)\n",
    "\n",
    "a_cat = Cat()\n",
    "a_cat.describe()"
   ]
  },
  {
   "cell_type": "code",
   "execution_count": null,
   "id": "86629a22",
   "metadata": {},
   "outputs": [],
   "source": [
    "class Student:\n",
    "    id_student = '12345'\n",
    "    name = 'John'\n",
    "\n",
    "john = Student()\n",
    "print(john.id_student)\n",
    "vars(john)"
   ]
  },
  {
   "cell_type": "code",
   "execution_count": null,
   "id": "224e4df9",
   "metadata": {},
   "outputs": [],
   "source": [
    "class Ward:\n",
    "    def __init__(self, name:str):\n",
    "        self.__name = name\n",
    "        self.__listPeople = list()\n",
    "\n",
    "    def addPerson(self, person:Person):\n",
    "        self.__listPeople.append(person)\n",
    "\n",
    "    def describe(self):\n",
    "        print(f'Ward Name: {self.__name}')\n",
    "        for p in self.__listPeople:\n",
    "            p.describe()\n",
    "    \n",
    "    def countDoctor(self):\n",
    "        count = 0\n",
    "        for p in self.__listPeople:\n",
    "            if isinstance(p, Doctor):\n",
    "                count += 1\n",
    "        return count\n",
    "\n",
    "student1 = Student(name=\"studentA\", yob=2010, grade=\"7\")\n",
    "teacher1 = Teacher(name=\"teacherA\", yob=1969, subject=\"Math\")\n",
    "teacher2 = Teacher(name=\"teacherB\", yob=1995, subject=\"History\")\n",
    "doctor1 = Doctor(name=\"doctorA\", yob=1945, specialist=\"Endocrinologists\")\n",
    "doctor2 = Doctor(name=\"doctorB\", yob=1975, specialist=\"Cardiologists\")\n",
    "ward1 = Ward(name=\"Ward1\")\n",
    "ward1.addPerson(student1)\n",
    "ward1.addPerson(teacher1)\n",
    "ward1.addPerson(teacher2)\n",
    "ward1.addPerson(doctor1)\n",
    "ward1.addPerson(doctor2)\n",
    "ward1.countDoctor()\n"
   ]
  },
  {
   "cell_type": "code",
   "execution_count": 71,
   "id": "20b48518",
   "metadata": {},
   "outputs": [
    {
     "name": "stdout",
     "output_type": "stream",
     "text": [
      "{'_MyStack__capacity': 5, '_MyStack__stack': []}\n",
      "False\n",
      "2\n"
     ]
    }
   ],
   "source": [
    "class MyStack:\n",
    "    def __init__(self, capacity):\n",
    "        self.__capacity = capacity\n",
    "        self.__stack = []\n",
    "\n",
    "    def isFull(self):\n",
    "        return len(self.__stack) == self.__capacity\n",
    "    \n",
    "    def push(self, value):\n",
    "        if self.isFull():\n",
    "            print('Do Nothing')\n",
    "        else:\n",
    "            self.__stack.append(value)\n",
    "\n",
    "    def top(self):\n",
    "        return self.__stack[-1]\n",
    "    \n",
    "    def enqueue(self, value):\n",
    "        if self.isFull():\n",
    "            print('Do Nothing')\n",
    "        else:\n",
    "            self.__stack.append(value)\n",
    "\n",
    "stack1 = MyStack(capacity=5)\n",
    "print(vars(stack1))\n",
    "stack1.push(1)\n",
    "stack1.push(2)\n",
    "print(stack1.isFull())\n",
    "print(stack1.top())"
   ]
  },
  {
   "cell_type": "code",
   "execution_count": 78,
   "id": "23b53b58",
   "metadata": {},
   "outputs": [
    {
     "name": "stdout",
     "output_type": "stream",
     "text": [
      "1\n"
     ]
    }
   ],
   "source": [
    "class MyQueue:\n",
    "    def __init__(self, capacity):\n",
    "        self.__capacity = capacity\n",
    "        self.__queue = []\n",
    "    \n",
    "    def isFull(self):\n",
    "        return len(self.__queue) == self.__capacity\n",
    "\n",
    "    def isEmpty(self):\n",
    "        return len(self.__queue) == 0\n",
    "\n",
    "    def enqueue(self, value):\n",
    "        if self.isFull():\n",
    "            print('Do Nothing')\n",
    "        else:\n",
    "            self.__queue.append(value)\n",
    "\n",
    "    def dequeue(self):\n",
    "        if self.isEmpty():\n",
    "            print('Do Nothing')\n",
    "        else:\n",
    "            self.__queue.pop()\n",
    "\n",
    "    def front(self):\n",
    "        if self.isEmpty():\n",
    "            print('Do Nothing')\n",
    "        else:\n",
    "            return self.__queue[0]\n",
    "\n",
    "queue1 = MyQueue(capacity=5)\n",
    "queue1.enqueue(1)\n",
    "assert queue1.isFull() == False\n",
    "queue1.enqueue(2)\n",
    "print(queue1.front())"
   ]
  },
  {
   "cell_type": "code",
   "execution_count": 88,
   "id": "b1383617",
   "metadata": {},
   "outputs": [
    {
     "name": "stdout",
     "output_type": "stream",
     "text": [
      "Name: Peter was born on\n",
      "Day: 18 - Month: 4 - Year: 1999\n"
     ]
    }
   ],
   "source": [
    "class Date:\n",
    "    def __init__(self, day, month, year):\n",
    "        self.__day = day\n",
    "        self.__month = month\n",
    "        self.__year = year\n",
    "\n",
    "    def get_day(self):\n",
    "        return self.__day\n",
    "\n",
    "    def get_month(self):\n",
    "        return self.__month\n",
    "\n",
    "    def get_year(self):\n",
    "        return self.__year\n",
    "\n",
    "    def describe(self):\n",
    "        print(f'Day: {self.get_day()} - Month: {self.get_month()} - Year: {self.get_year()}')\n",
    "\n",
    "    def check_same_date(self, date):\n",
    "        return self.__day == date.__day\n",
    "\n",
    "\n",
    "class Person:\n",
    "    def __init__(self, name, date):\n",
    "        self.__name = name\n",
    "        self.__date_of_birth = date\n",
    "\n",
    "    def describe(self):\n",
    "        print(f'Name: {self.__name} was born on')\n",
    "        self.__date_of_birth.describe()\n",
    "\n",
    "    def check_same_dob(self, person):\n",
    "        return self.__date_of_birth.check_same_date(person.__date_of_birth)\n",
    "\n",
    "\n",
    "\n",
    "date = Date(18,4,1999)\n",
    "person1 = Person('Peter', date)\n",
    "person1.describe()\n",
    "    "
   ]
  },
  {
   "cell_type": "code",
   "execution_count": 91,
   "id": "8f5fa9c9",
   "metadata": {},
   "outputs": [
    {
     "name": "stdout",
     "output_type": "stream",
     "text": [
      "True\n",
      "720\n",
      "2.7182815255731922\n"
     ]
    }
   ],
   "source": [
    "class Math1:\n",
    "    def is_even(self, number):\n",
    "        if number%2:\n",
    "            return True\n",
    "        else:\n",
    "            return False\n",
    "\n",
    "    def factorial(self, number):\n",
    "        result = 1\n",
    "        for i in range(1, number+1):\n",
    "            result *= i\n",
    "        return result\n",
    "\n",
    "class Math2(Math1):\n",
    "    def estimate_euler(self, number):\n",
    "        result = 1\n",
    "        for i in range(1, number+1):\n",
    "            result = result + 1/self.factorial(i)\n",
    "        return result\n",
    "\n",
    "math2 = Math2()\n",
    "print(math2.is_even(5))\n",
    "print(math2.factorial(6))\n",
    "print(math2.estimate_euler(9))"
   ]
  },
  {
   "cell_type": "code",
   "execution_count": 92,
   "id": "7d033213",
   "metadata": {},
   "outputs": [
    {
     "ename": "AttributeError",
     "evalue": "'int' object has no attribute '_Cat__age'",
     "output_type": "error",
     "traceback": [
      "\u001b[31m---------------------------------------------------------------------------\u001b[39m",
      "\u001b[31mAttributeError\u001b[39m                            Traceback (most recent call last)",
      "\u001b[36mCell\u001b[39m\u001b[36m \u001b[39m\u001b[32mIn[92]\u001b[39m\u001b[32m, line 7\u001b[39m\n\u001b[32m      4\u001b[39m         \u001b[38;5;28mprint\u001b[39m(this, age.__age)\n\u001b[32m      6\u001b[39m cat = Cat()\n\u001b[32m----> \u001b[39m\u001b[32m7\u001b[39m \u001b[43mcat\u001b[49m\u001b[43m.\u001b[49m\u001b[43mdescribe\u001b[49m\u001b[43m(\u001b[49m\u001b[32;43m1\u001b[39;49m\u001b[43m)\u001b[49m\n",
      "\u001b[36mCell\u001b[39m\u001b[36m \u001b[39m\u001b[32mIn[92]\u001b[39m\u001b[32m, line 3\u001b[39m, in \u001b[36mCat.describe\u001b[39m\u001b[34m(this, age)\u001b[39m\n\u001b[32m      2\u001b[39m \u001b[38;5;28;01mdef\u001b[39;00m\u001b[38;5;250m \u001b[39m\u001b[34mdescribe\u001b[39m(this, age):\n\u001b[32m----> \u001b[39m\u001b[32m3\u001b[39m     \u001b[43mage\u001b[49m\u001b[43m.\u001b[49m\u001b[43m__age\u001b[49m=\u001b[32m9\u001b[39m\n\u001b[32m      4\u001b[39m     \u001b[38;5;28mprint\u001b[39m(this, age.__age)\n",
      "\u001b[31mAttributeError\u001b[39m: 'int' object has no attribute '_Cat__age'"
     ]
    }
   ],
   "source": [
    "class Cat:\n",
    "    def describe(this, age):\n",
    "        age.__age=9\n",
    "        print(this, age.__age)\n",
    "\n",
    "cat = Cat()\n",
    "cat.describe(1)"
   ]
  },
  {
   "cell_type": "code",
   "execution_count": null,
   "id": "35029803",
   "metadata": {},
   "outputs": [],
   "source": []
  }
 ],
 "metadata": {
  "kernelspec": {
   "display_name": "pytorch_intel_env",
   "language": "python",
   "name": "python3"
  },
  "language_info": {
   "codemirror_mode": {
    "name": "ipython",
    "version": 3
   },
   "file_extension": ".py",
   "mimetype": "text/x-python",
   "name": "python",
   "nbconvert_exporter": "python",
   "pygments_lexer": "ipython3",
   "version": "3.11.13"
  }
 },
 "nbformat": 4,
 "nbformat_minor": 5
}

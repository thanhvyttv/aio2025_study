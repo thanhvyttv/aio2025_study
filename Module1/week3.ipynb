{
 "cells": [
  {
   "cell_type": "code",
   "execution_count": null,
   "id": "2208352c",
   "metadata": {},
   "outputs": [],
   "source": [
    "import torch\n",
    "import torch.nn as nn"
   ]
  },
  {
   "cell_type": "code",
   "execution_count": null,
   "id": "e93790a2",
   "metadata": {},
   "outputs": [],
   "source": [
    "x = torch.tensor([5.0, 3.0])\n",
    "\n",
    "output = torch.sigmoid(x)\n",
    "print(output)"
   ]
  },
  {
   "cell_type": "code",
   "execution_count": null,
   "id": "a509ecb4",
   "metadata": {},
   "outputs": [],
   "source": [
    "class MySigmoid(nn.Module):\n",
    "    def __init__(self):\n",
    "        super().__init__()\n",
    "\n",
    "    def forward(self, x):\n",
    "        return torch.sigmoid(x)\n",
    "\n",
    "\n",
    "data = torch.Tensor([3.0, -2.0])\n",
    "my_sigmoid = MySigmoid()\n",
    "output = my_sigmoid(data)\n",
    "print(output)"
   ]
  },
  {
   "cell_type": "code",
   "execution_count": null,
   "id": "78d4284b",
   "metadata": {},
   "outputs": [],
   "source": [
    "from abc import ABC, abstractmethod\n",
    "\n",
    "class Person(ABC):\n",
    "    def __init__(self, name:str, yob:int):\n",
    "        self._name = name\n",
    "        self._yob = yob\n",
    "\n",
    "    def getYoB(self):\n",
    "        return self._yob\n",
    "\n",
    "    @abstractmethod\n",
    "    def describe(self):\n",
    "        pass\n",
    "\n",
    "class Student(Person):\n",
    "    def __init__(self, name:str, yob:int, grade:int):\n",
    "        super().__init__(name, yob)\n",
    "        self.grade = grade\n",
    "\n",
    "    def describe(self):\n",
    "        print(f'Student - Name:{self._name} - YoB:{self._yob} - Grade:{self.grade}')"
   ]
  },
  {
   "cell_type": "code",
   "execution_count": null,
   "id": "53f7ca35",
   "metadata": {},
   "outputs": [],
   "source": [
    "\n",
    "student1 = Student(name=\"studentZ2023\", yob=2011, grade=\"6\")\n",
    "student1.describe()"
   ]
  },
  {
   "cell_type": "code",
   "execution_count": null,
   "id": "437d9531",
   "metadata": {},
   "outputs": [],
   "source": [
    "class Teacher(Person):\n",
    "    def __init__(self, name:str, yob:int, subject:str):\n",
    "        super().__init__(name, yob)\n",
    "        self.subject = subject\n",
    "\n",
    "    def describe(self):\n",
    "        print(f'Teacher - Name: {self._name} - YoB: {self.getYoB()} - Subject: {self.subject}')"
   ]
  },
  {
   "cell_type": "code",
   "execution_count": null,
   "id": "3c19b184",
   "metadata": {},
   "outputs": [],
   "source": [
    "\n",
    "teacher1 = Teacher(name=\"teacherZ2023\", yob=1991, subject=\"History\")\n",
    "teacher1.describe()"
   ]
  },
  {
   "cell_type": "code",
   "execution_count": null,
   "id": "1978c821",
   "metadata": {},
   "outputs": [],
   "source": [
    "class Doctor(Person):\n",
    "    def __init__(self, name:str, yob:int, specialist:str):\n",
    "        super().__init__(name, yob)\n",
    "        self.specialist = specialist\n",
    "\n",
    "    def describe(self):\n",
    "        print(f\"Doctor - Name: {self._name} - YoB: {self.getYoB()} - Specialist: {self.specialist}\")\n"
   ]
  },
  {
   "cell_type": "code",
   "execution_count": null,
   "id": "e75e2bdb",
   "metadata": {},
   "outputs": [],
   "source": [
    "doctor1 = Doctor(name=\"doctorZ2023\", yob=1981, specialist=\"Endocrinologists\")\n",
    "doctor1.describe()"
   ]
  },
  {
   "cell_type": "code",
   "execution_count": null,
   "id": "ab2b642a",
   "metadata": {},
   "outputs": [],
   "source": [
    "class SayHi():\n",
    "    def __init__(self, name):\n",
    "        self.name = name\n",
    "\n",
    "    def hello(self):\n",
    "        print(f\"Hello {self.name}\")\n",
    "    \n",
    "    def __call__(self, prefix):\n",
    "        print(f\"{prefix} and {self.name}\")\n",
    "\n",
    "obj1 = SayHi('lucy')\n",
    "obj1('LLLOOO')\n",
    "\n",
    "vars(obj1)"
   ]
  },
  {
   "cell_type": "code",
   "execution_count": null,
   "id": "e3931f8f",
   "metadata": {},
   "outputs": [],
   "source": [
    "class Animal:\n",
    "    def __init__(self):\n",
    "        self.age = 1\n",
    "\n",
    "class Cat(Animal):\n",
    "    def __init__(self):\n",
    "        self.age = 2\n",
    "        super().__init__()\n",
    "\n",
    "    def describe(self):\n",
    "        print(self.age)\n",
    "\n",
    "a_cat = Cat()\n",
    "a_cat.describe()"
   ]
  },
  {
   "cell_type": "code",
   "execution_count": null,
   "id": "86629a22",
   "metadata": {},
   "outputs": [],
   "source": [
    "class Student:\n",
    "    id_student = '12345'\n",
    "    name = 'John'\n",
    "\n",
    "john = Student()\n",
    "print(john.id_student)\n",
    "vars(john)"
   ]
  },
  {
   "cell_type": "code",
   "execution_count": null,
   "id": "224e4df9",
   "metadata": {},
   "outputs": [],
   "source": [
    "class Ward:\n",
    "    def __init__(self, name:str):\n",
    "        self.__name = name\n",
    "        self.__listPeople = list()\n",
    "\n",
    "    def addPerson(self, person:Person):\n",
    "        self.__listPeople.append(person)\n",
    "\n",
    "    def describe(self):\n",
    "        print(f'Ward Name: {self.__name}')\n",
    "        for p in self.__listPeople:\n",
    "            p.describe()\n",
    "    \n",
    "    def countDoctor(self):\n",
    "        count = 0\n",
    "        for p in self.__listPeople:\n",
    "            if isinstance(p, Doctor):\n",
    "                count += 1\n",
    "        return count\n",
    "\n",
    "student1 = Student(name=\"studentA\", yob=2010, grade=\"7\")\n",
    "teacher1 = Teacher(name=\"teacherA\", yob=1969, subject=\"Math\")\n",
    "teacher2 = Teacher(name=\"teacherB\", yob=1995, subject=\"History\")\n",
    "doctor1 = Doctor(name=\"doctorA\", yob=1945, specialist=\"Endocrinologists\")\n",
    "doctor2 = Doctor(name=\"doctorB\", yob=1975, specialist=\"Cardiologists\")\n",
    "ward1 = Ward(name=\"Ward1\")\n",
    "ward1.addPerson(student1)\n",
    "ward1.addPerson(teacher1)\n",
    "ward1.addPerson(teacher2)\n",
    "ward1.addPerson(doctor1)\n",
    "ward1.addPerson(doctor2)\n",
    "ward1.countDoctor()\n"
   ]
  },
  {
   "cell_type": "code",
   "execution_count": 71,
   "id": "20b48518",
   "metadata": {},
   "outputs": [
    {
     "name": "stdout",
     "output_type": "stream",
     "text": [
      "{'_MyStack__capacity': 5, '_MyStack__stack': []}\n",
      "False\n",
      "2\n"
     ]
    }
   ],
   "source": [
    "class MyStack:\n",
    "    def __init__(self, capacity):\n",
    "        self.__capacity = capacity\n",
    "        self.__stack = []\n",
    "\n",
    "    def isFull(self):\n",
    "        return len(self.__stack) == self.__capacity\n",
    "    \n",
    "    def push(self, value):\n",
    "        if self.isFull():\n",
    "            print('Do Nothing')\n",
    "        else:\n",
    "            self.__stack.append(value)\n",
    "\n",
    "    def top(self):\n",
    "        return self.__stack[-1]\n",
    "    \n",
    "    def enqueue(self, value):\n",
    "        if self.isFull():\n",
    "            print('Do Nothing')\n",
    "        else:\n",
    "            self.__stack.append(value)\n",
    "\n",
    "stack1 = MyStack(capacity=5)\n",
    "print(vars(stack1))\n",
    "stack1.push(1)\n",
    "stack1.push(2)\n",
    "print(stack1.isFull())\n",
    "print(stack1.top())"
   ]
  },
  {
   "cell_type": "code",
   "execution_count": 78,
   "id": "23b53b58",
   "metadata": {},
   "outputs": [
    {
     "name": "stdout",
     "output_type": "stream",
     "text": [
      "1\n"
     ]
    }
   ],
   "source": [
    "class MyQueue:\n",
    "    def __init__(self, capacity):\n",
    "        self.__capacity = capacity\n",
    "        self.__queue = []\n",
    "    \n",
    "    def isFull(self):\n",
    "        return len(self.__queue) == self.__capacity\n",
    "\n",
    "    def isEmpty(self):\n",
    "        return len(self.__queue) == 0\n",
    "\n",
    "    def enqueue(self, value):\n",
    "        if self.isFull():\n",
    "            print('Do Nothing')\n",
    "        else:\n",
    "            self.__queue.append(value)\n",
    "\n",
    "    def dequeue(self):\n",
    "        if self.isEmpty():\n",
    "            print('Do Nothing')\n",
    "        else:\n",
    "            self.__queue.pop()\n",
    "\n",
    "    def front(self):\n",
    "        if self.isEmpty():\n",
    "            print('Do Nothing')\n",
    "        else:\n",
    "            return self.__queue[0]\n",
    "\n",
    "queue1 = MyQueue(capacity=5)\n",
    "queue1.enqueue(1)\n",
    "assert queue1.isFull() == False\n",
    "queue1.enqueue(2)\n",
    "print(queue1.front())"
   ]
  },
  {
   "cell_type": "code",
   "execution_count": null,
   "id": "b1383617",
   "metadata": {},
   "outputs": [],
   "source": []
  }
 ],
 "metadata": {
  "kernelspec": {
   "display_name": "pytorch_intel_env",
   "language": "python",
   "name": "python3"
  },
  "language_info": {
   "codemirror_mode": {
    "name": "ipython",
    "version": 3
   },
   "file_extension": ".py",
   "mimetype": "text/x-python",
   "name": "python",
   "nbconvert_exporter": "python",
   "pygments_lexer": "ipython3",
   "version": "3.11.13"
  }
 },
 "nbformat": 4,
 "nbformat_minor": 5
}

{
 "cells": [
  {
   "cell_type": "code",
   "execution_count": null,
   "id": "d4ba11d0",
   "metadata": {},
   "outputs": [
    {
     "name": "stdout",
     "output_type": "stream",
     "text": [
      "2\n"
     ]
    }
   ],
   "source": [
    "def func1(data):\n",
    "    if not data:\n",
    "        return None\n",
    "\n",
    "    result = data[0]\n",
    "    for item in data:\n",
    "        if item < result:\n",
    "            result = item\n",
    "\n",
    "    return result\n",
    "\n",
    "\n",
    "test = [10, 3, 7, 2, 9]\n",
    "print(func1(test))"
   ]
  },
  {
   "cell_type": "code",
   "execution_count": null,
   "id": "6e3bf729",
   "metadata": {},
   "outputs": [],
   "source": [
    "def func2(data):\n",
    "    if not data:\n",
    "        return None\n",
    "\n",
    "    result = data[0]\n",
    "    for item in data:\n",
    "        if result < item:\n",
    "            result = item\n",
    "\n",
    "    return result"
   ]
  },
  {
   "cell_type": "code",
   "execution_count": null,
   "id": "18302da5",
   "metadata": {},
   "outputs": [
    {
     "name": "stdout",
     "output_type": "stream",
     "text": [
      "2\n"
     ]
    }
   ],
   "source": [
    "def func3(data):\n",
    "    if not data:\n",
    "        return None\n",
    "\n",
    "    result = 0\n",
    "    for i in range(1, len(data)):\n",
    "        if data[i] < data[result]:\n",
    "            result = i\n",
    "    return result\n",
    "\n",
    "\n",
    "test = [5, 8, 1, 3, 2]\n",
    "print(func3(test))"
   ]
  },
  {
   "cell_type": "code",
   "execution_count": null,
   "id": "49ff262c",
   "metadata": {},
   "outputs": [],
   "source": [
    "def func5(data):\n",
    "    if not data:\n",
    "        return None\n",
    "\n",
    "    value = data[0]\n",
    "    result = 0\n",
    "    index = 1\n",
    "\n",
    "    while index < len(data):\n",
    "        if data[index] < value:\n",
    "            value = data[index]\n",
    "            result = index\n",
    "        index += 1\n",
    "\n",
    "    return result"
   ]
  },
  {
   "cell_type": "code",
   "execution_count": null,
   "id": "98cb4b47",
   "metadata": {},
   "outputs": [
    {
     "name": "stdout",
     "output_type": "stream",
     "text": [
      "4\n"
     ]
    }
   ],
   "source": [
    "def func7(data):\n",
    "    if not data:\n",
    "        return None\n",
    "\n",
    "    result = 0\n",
    "    value = data[0]\n",
    "    for index, item in enumerate(data):\n",
    "        if item > value:\n",
    "            value = item\n",
    "            result = index\n",
    "    return result\n",
    "\n",
    "\n",
    "test = [3, 9, 4, 6, 12, 7]\n",
    "print(func7(test))"
   ]
  },
  {
   "cell_type": "code",
   "execution_count": null,
   "id": "970296df",
   "metadata": {},
   "outputs": [
    {
     "name": "stdout",
     "output_type": "stream",
     "text": [
      "3\n"
     ]
    }
   ],
   "source": [
    "def func4(data):\n",
    "    if not data:\n",
    "        return None\n",
    "\n",
    "    value = data[0]\n",
    "    result = 0\n",
    "    index = 0\n",
    "\n",
    "    for item in data:\n",
    "        if item < value:\n",
    "            value = item\n",
    "            result = index\n",
    "        index += 1\n",
    "\n",
    "    return result\n",
    "\n",
    "\n",
    "test = [4, 7, 12, 2, 9]\n",
    "print(func4(test))"
   ]
  },
  {
   "cell_type": "code",
   "execution_count": null,
   "id": "15307881",
   "metadata": {},
   "outputs": [
    {
     "name": "stdout",
     "output_type": "stream",
     "text": [
      "[4, 5, 9, 10]\n"
     ]
    }
   ],
   "source": [
    "def func8(data, val1, val2):\n",
    "    result = []\n",
    "    if not data:\n",
    "        return None\n",
    "\n",
    "    for item in data:\n",
    "        if item < val1:\n",
    "            result.append(val1)\n",
    "        elif item > val2:\n",
    "            result.append(val2)\n",
    "        else:\n",
    "            result.append(item)\n",
    "\n",
    "    return result\n",
    "\n",
    "\n",
    "data = [2, 5, 9, 12]\n",
    "print(func8(data, 4, 10))"
   ]
  },
  {
   "cell_type": "code",
   "execution_count": null,
   "id": "861c0a20",
   "metadata": {},
   "outputs": [
    {
     "name": "stdout",
     "output_type": "stream",
     "text": [
      "1 1\n",
      "2 7\n",
      "3 1\n",
      "4 1\n",
      "5 1\n",
      "7 2\n"
     ]
    }
   ],
   "source": [
    "input = [4, 1, 7, 3, 2]\n",
    "\n",
    "print(1, func1(input))\n",
    "print(2, func2(input))\n",
    "print(3, func3(input))\n",
    "print(4, func4(input))\n",
    "print(5, func5(input))\n",
    "print(7, func7(input))"
   ]
  },
  {
   "cell_type": "code",
   "execution_count": null,
   "id": "4df25eb5",
   "metadata": {},
   "outputs": [
    {
     "name": "stdout",
     "output_type": "stream",
     "text": [
      "6 1\n"
     ]
    }
   ],
   "source": [
    "def func6(data):\n",
    "    if not data:\n",
    "        return None\n",
    "\n",
    "    result = 0\n",
    "    value = data[0]\n",
    "    for index, item in enumerate(data):\n",
    "        if item < value:\n",
    "            value = item\n",
    "            result = index\n",
    "    return result\n",
    "\n",
    "\n",
    "print(6, func6(input))"
   ]
  },
  {
   "cell_type": "code",
   "execution_count": null,
   "id": "5ad58539",
   "metadata": {},
   "outputs": [
    {
     "name": "stdout",
     "output_type": "stream",
     "text": [
      "2\n",
      "10\n",
      "None\n"
     ]
    }
   ],
   "source": [
    "def my_func():\n",
    "    for i in range(1, 6, 2):\n",
    "        if i == 3:\n",
    "            continue\n",
    "\n",
    "        print(i * 2)\n",
    "\n",
    "\n",
    "print(my_func())"
   ]
  },
  {
   "cell_type": "code",
   "execution_count": null,
   "id": "50b3f9f4",
   "metadata": {},
   "outputs": [
    {
     "name": "stdout",
     "output_type": "stream",
     "text": [
      "6\n"
     ]
    }
   ],
   "source": [
    "def factorial(n):\n",
    "    result = 1\n",
    "    for i in range(2, n + 1):\n",
    "        result = result * i\n",
    "    return result\n",
    "\n",
    "\n",
    "print(factorial(3))"
   ]
  },
  {
   "cell_type": "code",
   "execution_count": null,
   "id": "4379bf5b",
   "metadata": {},
   "outputs": [
    {
     "name": "stdout",
     "output_type": "stream",
     "text": [
      "0\n"
     ]
    }
   ],
   "source": [
    "def func_13(n):\n",
    "    result = 0\n",
    "    for i in range(1, n):\n",
    "        result = result * i * i\n",
    "    return result\n",
    "\n",
    "\n",
    "print(func_13(3))"
   ]
  },
  {
   "cell_type": "code",
   "execution_count": null,
   "id": "545969ee",
   "metadata": {},
   "outputs": [
    {
     "name": "stdout",
     "output_type": "stream",
     "text": [
      "4\n"
     ]
    }
   ],
   "source": [
    "def func_14(n):\n",
    "\n",
    "    for i in range(1, n):\n",
    "        result = 0\n",
    "        result = result + i * i\n",
    "    return result\n",
    "\n",
    "\n",
    "print(func_14(3))"
   ]
  },
  {
   "cell_type": "code",
   "execution_count": null,
   "id": "37496a8e",
   "metadata": {},
   "outputs": [
    {
     "name": "stdout",
     "output_type": "stream",
     "text": [
      "5\n",
      "4\n",
      "3\n",
      "None\n"
     ]
    }
   ],
   "source": [
    "def func_15():\n",
    "    i = 5\n",
    "    while i >= 0:\n",
    "        if i < 3:\n",
    "            break\n",
    "        print(i)\n",
    "        i = i - 1\n",
    "\n",
    "\n",
    "print(func_15())"
   ]
  },
  {
   "cell_type": "code",
   "execution_count": null,
   "id": "6243227f",
   "metadata": {},
   "outputs": [
    {
     "name": "stdout",
     "output_type": "stream",
     "text": [
      "[1, 8, 0, 0, 9]\n"
     ]
    }
   ],
   "source": [
    "def func_16():\n",
    "    data = [1, 8, -1, -3, 9]\n",
    "\n",
    "    data_a = [x if x > 0 else 0 for x in data]\n",
    "    print(data_a)\n",
    "    return\n",
    "\n",
    "\n",
    "func_16()"
   ]
  },
  {
   "cell_type": "code",
   "execution_count": null,
   "id": "e841b59d",
   "metadata": {},
   "outputs": [
    {
     "ename": "SyntaxError",
     "evalue": "expected 'else' after 'if' expression (4087021276.py, line 3)",
     "output_type": "error",
     "traceback": [
      "  \u001b[36mCell\u001b[39m\u001b[36m \u001b[39m\u001b[32mIn[24]\u001b[39m\u001b[32m, line 3\u001b[39m\n\u001b[31m    \u001b[39m\u001b[31mdata_a = [x if x > 0 for x in data]\u001b[39m\n              ^\n\u001b[31mSyntaxError\u001b[39m\u001b[31m:\u001b[39m expected 'else' after 'if' expression\n"
     ]
    }
   ],
   "source": [
    "def func_17():\n",
    "    data = [1, 5, -4, 3, -2]\n",
    "    data_a = [ x if x > 0 for x in data]\n",
    "    print(data_a)\n",
    "\n",
    "func_17()"
   ]
  },
  {
   "cell_type": "code",
   "execution_count": null,
   "id": "df6030af",
   "metadata": {},
   "outputs": [
    {
     "name": "stdout",
     "output_type": "stream",
     "text": [
      "8\n"
     ]
    }
   ],
   "source": [
    "def func_18():\n",
    "    data = [1, 2, 6, 7]\n",
    "    result = sum([x if x % 2 == 0 else 0 for x in data])\n",
    "    print(result)\n",
    "\n",
    "\n",
    "func_18()"
   ]
  },
  {
   "cell_type": "code",
   "execution_count": null,
   "id": "1913fe6f",
   "metadata": {},
   "outputs": [
    {
     "name": "stdout",
     "output_type": "stream",
     "text": [
      "[8, 0]\n"
     ]
    }
   ],
   "source": [
    "def func_19():\n",
    "    data = [1, 2, 8, 7]\n",
    "    result = [x if x % 2 == 0 else 0 for x in data if x > 4]\n",
    "    print(result)\n",
    "\n",
    "\n",
    "func_19()"
   ]
  },
  {
   "cell_type": "code",
   "execution_count": null,
   "id": "6a1577ed",
   "metadata": {},
   "outputs": [
    {
     "name": "stdout",
     "output_type": "stream",
     "text": [
      "[0, 1, 2, 3, 4, 5]\n"
     ]
    }
   ],
   "source": [
    "def func_20():\n",
    "    list = []\n",
    "    for i in range(6):\n",
    "        list.append(i)\n",
    "    print(list)\n",
    "\n",
    "\n",
    "func_20()"
   ]
  },
  {
   "cell_type": "code",
   "execution_count": null,
   "id": "4b23bcf7",
   "metadata": {},
   "outputs": [
    {
     "name": "stdout",
     "output_type": "stream",
     "text": [
      "3.0\n"
     ]
    }
   ],
   "source": [
    "def func_21(data):\n",
    "    result = 0\n",
    "    for i in range(len(data)):\n",
    "        if i % 2 == 1:\n",
    "            result += data[i]\n",
    "    return result / len(data)\n",
    "\n",
    "\n",
    "data = [2, 8, 6, 4]\n",
    "print(func_21(data))"
   ]
  },
  {
   "cell_type": "code",
   "execution_count": null,
   "id": "5c9eec7c",
   "metadata": {},
   "outputs": [
    {
     "name": "stdout",
     "output_type": "stream",
     "text": [
      "9 9 1\n"
     ]
    }
   ],
   "source": [
    "def func_22():\n",
    "    data1 = [1, 2, 3]\n",
    "    data2 = data1\n",
    "    data3 = data1.copy()\n",
    "\n",
    "    data1[0] = 9\n",
    "    print(data1[0], data2[0], data3[0])\n",
    "\n",
    "\n",
    "func_22()"
   ]
  },
  {
   "cell_type": "code",
   "execution_count": null,
   "id": "3a8c6d56",
   "metadata": {},
   "outputs": [
    {
     "name": "stdout",
     "output_type": "stream",
     "text": [
      "0 1 \n",
      "2 3 \n",
      "4 5 \n"
     ]
    }
   ],
   "source": [
    "def print_matrix(matrix):\n",
    "    for i in range(height):\n",
    "        for j in range(width):\n",
    "            print(matrix[i][j], end=\" \")\n",
    "        print()\n",
    "\n",
    "\n",
    "width = 2\n",
    "height = 3\n",
    "matrix = [[0, 0], [0, 0], [0, 0]]\n",
    "\n",
    "for i in range(height):\n",
    "    for j in range(width):\n",
    "        matrix[i][j] = i * width + j\n",
    "\n",
    "print_matrix(matrix)"
   ]
  },
  {
   "cell_type": "code",
   "execution_count": null,
   "id": "49f90522",
   "metadata": {},
   "outputs": [
    {
     "name": "stdout",
     "output_type": "stream",
     "text": [
      "1 1 1 \n",
      "1 3 5 \n",
      "1 5 13 \n"
     ]
    }
   ],
   "source": [
    "def func_24():\n",
    "    width = 3\n",
    "    height = 3\n",
    "    matrix = [[1, 1, 1], [1, 0, 0], [1, 0, 0]]\n",
    "\n",
    "    for i in range(1, height):\n",
    "        for j in range(1, width):\n",
    "            matrix[i][j] = matrix[i - 1][j] + matrix[i][j - 1] + matrix[i - 1][j - 1]\n",
    "\n",
    "    print_matrix(matrix)\n",
    "\n",
    "\n",
    "width = 3\n",
    "height = 3\n",
    "\n",
    "func_24()"
   ]
  },
  {
   "cell_type": "code",
   "execution_count": null,
   "id": "c8a37554",
   "metadata": {},
   "outputs": [
    {
     "name": "stdout",
     "output_type": "stream",
     "text": [
      "[4, 1, 5]\n"
     ]
    }
   ],
   "source": [
    "def func_25():\n",
    "    data = [1, 3]\n",
    "    data.append(5)\n",
    "    data.insert(0, 4)\n",
    "    data.pop(2)\n",
    "    print(data)\n",
    "\n",
    "\n",
    "func_25()"
   ]
  },
  {
   "cell_type": "code",
   "execution_count": null,
   "id": "7eaa80c2",
   "metadata": {},
   "outputs": [
    {
     "name": "stdout",
     "output_type": "stream",
     "text": [
      "[3, 5, 4, 2]\n"
     ]
    }
   ],
   "source": [
    "def func_26():\n",
    "    data = [1, 3]\n",
    "    data.append(5)\n",
    "    data.extend([4, 2])\n",
    "    data.remove(1)\n",
    "    print(data)\n",
    "\n",
    "\n",
    "func_26()"
   ]
  },
  {
   "cell_type": "code",
   "execution_count": null,
   "id": "0e518a01",
   "metadata": {},
   "outputs": [
    {
     "name": "stdout",
     "output_type": "stream",
     "text": [
      "[9, 4, 16]\n"
     ]
    }
   ],
   "source": [
    "def func_27(data):\n",
    "    result = []\n",
    "    for value in data:\n",
    "        result.append(value**2)\n",
    "    return result\n",
    "\n",
    "\n",
    "data = [3, 2, 4]\n",
    "print(func_27(data))"
   ]
  },
  {
   "cell_type": "code",
   "execution_count": null,
   "id": "5b624544",
   "metadata": {},
   "outputs": [
    {
     "name": "stdout",
     "output_type": "stream",
     "text": [
      "12\n"
     ]
    }
   ],
   "source": [
    "def func_28(data):\n",
    "    result = 0\n",
    "    for value in data:\n",
    "        if value % 2 == 1:\n",
    "            result += value\n",
    "    return result\n",
    "\n",
    "\n",
    "data = [6, 5, 7, 2]\n",
    "print(func_28(data))"
   ]
  },
  {
   "cell_type": "code",
   "execution_count": 41,
   "id": "a1564056",
   "metadata": {},
   "outputs": [
    {
     "name": "stdout",
     "output_type": "stream",
     "text": [
      "9\n"
     ]
    }
   ],
   "source": [
    "def func_29(data):\n",
    "    result = 0\n",
    "    length = len(data)\n",
    "    for i in range(length):\n",
    "        \n",
    "        result += data[i]\n",
    "    return result\n",
    "\n",
    "\n",
    "data = [5,1,3]\n",
    "print(func_29(data))"
   ]
  },
  {
   "cell_type": "code",
   "execution_count": 42,
   "id": "f07b6790",
   "metadata": {},
   "outputs": [
    {
     "name": "stdout",
     "output_type": "stream",
     "text": [
      "7\n"
     ]
    }
   ],
   "source": [
    "def func_30(data):\n",
    "    result = 0\n",
    "    length = len(data)\n",
    "    for i in range(length):\n",
    "        if i % 2 == 1:\n",
    "            result += data[i]\n",
    "    return result\n",
    "\n",
    "\n",
    "data = [6, 5, 7, 2]\n",
    "print(func_30(data))"
   ]
  },
  {
   "cell_type": "code",
   "execution_count": 43,
   "id": "4d2bbb47",
   "metadata": {},
   "outputs": [
    {
     "name": "stdout",
     "output_type": "stream",
     "text": [
      "0 1\n"
     ]
    }
   ],
   "source": [
    "class Cat:\n",
    "    __age = 0\n",
    "    def describe(self, age):\n",
    "        print(self.__age, age)\n",
    "\n",
    "cat = Cat()\n",
    "cat.describe(1)"
   ]
  },
  {
   "cell_type": "code",
   "execution_count": 45,
   "id": "b597a312",
   "metadata": {},
   "outputs": [
    {
     "name": "stdout",
     "output_type": "stream",
     "text": [
      "9 1\n"
     ]
    }
   ],
   "source": [
    "class Cat_32:\n",
    "    def describe(age, self):\n",
    "        age.__age = 9\n",
    "        print(age.__age, self)\n",
    "\n",
    "cat = Cat_32()\n",
    "cat.describe(1)"
   ]
  },
  {
   "cell_type": "code",
   "execution_count": 46,
   "id": "3b2046d5",
   "metadata": {},
   "outputs": [
    {
     "ename": "TypeError",
     "evalue": "Cat_33.describe() takes 2 positional arguments but 3 were given",
     "output_type": "error",
     "traceback": [
      "\u001b[31m---------------------------------------------------------------------------\u001b[39m",
      "\u001b[31mTypeError\u001b[39m                                 Traceback (most recent call last)",
      "\u001b[36mCell\u001b[39m\u001b[36m \u001b[39m\u001b[32mIn[46]\u001b[39m\u001b[32m, line 5\u001b[39m\n\u001b[32m      3\u001b[39m        \u001b[38;5;28mprint\u001b[39m(age)\n\u001b[32m      4\u001b[39m cat = Cat_33()\n\u001b[32m----> \u001b[39m\u001b[32m5\u001b[39m \u001b[43mcat\u001b[49m\u001b[43m.\u001b[49m\u001b[43mdescribe\u001b[49m\u001b[43m(\u001b[49m\u001b[32;43m2\u001b[39;49m\u001b[43m,\u001b[49m\u001b[32;43m3\u001b[39;49m\u001b[43m)\u001b[49m\n",
      "\u001b[31mTypeError\u001b[39m: Cat_33.describe() takes 2 positional arguments but 3 were given"
     ]
    }
   ],
   "source": [
    "class Cat_33:\n",
    "    def describe(this, age):\n",
    "       print(age)\n",
    "cat = Cat_33()\n",
    "cat.describe(2,3)"
   ]
  },
  {
   "cell_type": "code",
   "execution_count": 47,
   "id": "1dda785c",
   "metadata": {},
   "outputs": [
    {
     "name": "stdout",
     "output_type": "stream",
     "text": [
      "2\n"
     ]
    },
    {
     "ename": "TypeError",
     "evalue": "Cat_34.__init__() missing 1 required positional argument: 'age'",
     "output_type": "error",
     "traceback": [
      "\u001b[31m---------------------------------------------------------------------------\u001b[39m",
      "\u001b[31mTypeError\u001b[39m                                 Traceback (most recent call last)",
      "\u001b[36mCell\u001b[39m\u001b[36m \u001b[39m\u001b[32mIn[47]\u001b[39m\u001b[32m, line 10\u001b[39m\n\u001b[32m      8\u001b[39m cat1 = Cat_34(\u001b[32m2\u001b[39m)\n\u001b[32m      9\u001b[39m cat1.describe()\n\u001b[32m---> \u001b[39m\u001b[32m10\u001b[39m cat2 = \u001b[43mCat_34\u001b[49m\u001b[43m(\u001b[49m\u001b[43m)\u001b[49m\n\u001b[32m     11\u001b[39m cat2.describe()\n",
      "\u001b[31mTypeError\u001b[39m: Cat_34.__init__() missing 1 required positional argument: 'age'"
     ]
    }
   ],
   "source": [
    "class Cat_34:\n",
    "    age = -1\n",
    "    def __init__(self, age):\n",
    "        self.age = age\n",
    "    def describe(self):\n",
    "        print(self.age)\n",
    "\n",
    "cat1 = Cat_34(2)\n",
    "cat1.describe()\n",
    "cat2 = Cat_34()\n",
    "cat2.describe()\n",
    "        "
   ]
  },
  {
   "cell_type": "code",
   "execution_count": 49,
   "id": "2216da8c",
   "metadata": {},
   "outputs": [
    {
     "name": "stdout",
     "output_type": "stream",
     "text": [
      "-1\n"
     ]
    }
   ],
   "source": [
    "class Cat_35:\n",
    "    age = -1\n",
    "    def init__(self, age):\n",
    "        self.age = age\n",
    "    def describe(self):\n",
    "        print(self.age)\n",
    "\n",
    "cat2 = Cat_35()\n",
    "cat2.describe()"
   ]
  },
  {
   "cell_type": "code",
   "execution_count": 50,
   "id": "be59f664",
   "metadata": {},
   "outputs": [
    {
     "name": "stdout",
     "output_type": "stream",
     "text": [
      "1\n"
     ]
    }
   ],
   "source": [
    "class Cat():\n",
    "    def __init(self, name):\n",
    "        self.__name = name\n",
    "\n",
    "john = Cat()\n",
    "print(1)"
   ]
  },
  {
   "cell_type": "code",
   "execution_count": 51,
   "id": "4ea62b68",
   "metadata": {},
   "outputs": [
    {
     "name": "stdout",
     "output_type": "stream",
     "text": [
      "1\n"
     ]
    },
    {
     "ename": "AttributeError",
     "evalue": "'Cat' object has no attribute 'age'",
     "output_type": "error",
     "traceback": [
      "\u001b[31m---------------------------------------------------------------------------\u001b[39m",
      "\u001b[31mAttributeError\u001b[39m                            Traceback (most recent call last)",
      "\u001b[36mCell\u001b[39m\u001b[36m \u001b[39m\u001b[32mIn[51]\u001b[39m\u001b[32m, line 13\u001b[39m\n\u001b[32m     10\u001b[39m         \u001b[38;5;28mprint\u001b[39m(\u001b[38;5;28mself\u001b[39m.age)\n\u001b[32m     12\u001b[39m a_cat = Cat()\n\u001b[32m---> \u001b[39m\u001b[32m13\u001b[39m \u001b[43ma_cat\u001b[49m\u001b[43m.\u001b[49m\u001b[43mdescribe\u001b[49m\u001b[43m(\u001b[49m\u001b[43m)\u001b[49m\n",
      "\u001b[36mCell\u001b[39m\u001b[36m \u001b[39m\u001b[32mIn[51]\u001b[39m\u001b[32m, line 10\u001b[39m, in \u001b[36mCat.describe\u001b[39m\u001b[34m(self)\u001b[39m\n\u001b[32m      9\u001b[39m \u001b[38;5;28;01mdef\u001b[39;00m\u001b[38;5;250m \u001b[39m\u001b[34mdescribe\u001b[39m(\u001b[38;5;28mself\u001b[39m):\n\u001b[32m---> \u001b[39m\u001b[32m10\u001b[39m     \u001b[38;5;28mprint\u001b[39m(\u001b[38;5;28;43mself\u001b[39;49m\u001b[43m.\u001b[49m\u001b[43mage\u001b[49m)\n",
      "\u001b[31mAttributeError\u001b[39m: 'Cat' object has no attribute 'age'"
     ]
    }
   ],
   "source": [
    "class Animal():\n",
    "    def __init__(self):\n",
    "        self.age = 2\n",
    "\n",
    "class Cat(Animal):\n",
    "    def __init__(self):\n",
    "        print(1)\n",
    "\n",
    "    def describe(self):\n",
    "        print(self.age)\n",
    "\n",
    "a_cat = Cat()\n",
    "a_cat.describe()"
   ]
  },
  {
   "cell_type": "code",
   "execution_count": 52,
   "id": "df5992a1",
   "metadata": {},
   "outputs": [
    {
     "name": "stdout",
     "output_type": "stream",
     "text": [
      "1\n"
     ]
    }
   ],
   "source": [
    "class Animal():\n",
    "    def __init__(self):\n",
    "        self.age = 1\n",
    "\n",
    "class Cat(Animal):\n",
    "    def __init__(self):\n",
    "        self.age = 2\n",
    "        super().__init__()\n",
    "\n",
    "    def describe(self):\n",
    "        print(self.age)\n",
    "\n",
    "a_cat = Cat()\n",
    "a_cat.describe()"
   ]
  },
  {
   "cell_type": "code",
   "execution_count": 53,
   "id": "d9a3623c",
   "metadata": {},
   "outputs": [
    {
     "name": "stdout",
     "output_type": "stream",
     "text": [
      "Calico\n",
      "white\n"
     ]
    },
    {
     "ename": "AttributeError",
     "evalue": "'Cat' object has no attribute '_Cat__age'",
     "output_type": "error",
     "traceback": [
      "\u001b[31m---------------------------------------------------------------------------\u001b[39m",
      "\u001b[31mAttributeError\u001b[39m                            Traceback (most recent call last)",
      "\u001b[36mCell\u001b[39m\u001b[36m \u001b[39m\u001b[32mIn[53]\u001b[39m\u001b[32m, line 17\u001b[39m\n\u001b[32m     14\u001b[39m         \u001b[38;5;28mprint\u001b[39m(\u001b[38;5;28mself\u001b[39m.__age)\n\u001b[32m     16\u001b[39m a_cat = Cat()\n\u001b[32m---> \u001b[39m\u001b[32m17\u001b[39m \u001b[43ma_cat\u001b[49m\u001b[43m.\u001b[49m\u001b[43mdescribe\u001b[49m\u001b[43m(\u001b[49m\u001b[43m)\u001b[49m\n",
      "\u001b[36mCell\u001b[39m\u001b[36m \u001b[39m\u001b[32mIn[53]\u001b[39m\u001b[32m, line 14\u001b[39m, in \u001b[36mCat.describe\u001b[39m\u001b[34m(self)\u001b[39m\n\u001b[32m     12\u001b[39m \u001b[38;5;28mprint\u001b[39m(\u001b[38;5;28mself\u001b[39m.name)\n\u001b[32m     13\u001b[39m \u001b[38;5;28mprint\u001b[39m(\u001b[38;5;28mself\u001b[39m._color)\n\u001b[32m---> \u001b[39m\u001b[32m14\u001b[39m \u001b[38;5;28mprint\u001b[39m(\u001b[38;5;28;43mself\u001b[39;49m\u001b[43m.\u001b[49m\u001b[43m__age\u001b[49m)\n",
      "\u001b[31mAttributeError\u001b[39m: 'Cat' object has no attribute '_Cat__age'"
     ]
    }
   ],
   "source": [
    "class Animal():\n",
    "    def __init__(self):\n",
    "        self.name = \"Calico\"\n",
    "        self._color = \"white\"\n",
    "        self.__age = 1.5\n",
    "\n",
    "class Cat(Animal):\n",
    "    def __init__(self):\n",
    "        super().__init__()\n",
    "\n",
    "    def describe(self):\n",
    "        print(self.name)\n",
    "        print(self._color)\n",
    "        print(self.__age)\n",
    "\n",
    "a_cat = Cat()\n",
    "a_cat.describe()"
   ]
  },
  {
   "cell_type": "code",
   "execution_count": 54,
   "id": "870e3452",
   "metadata": {},
   "outputs": [
    {
     "name": "stdout",
     "output_type": "stream",
     "text": [
      "1.5\n"
     ]
    }
   ],
   "source": [
    "class Animal():\n",
    "    def __init__(self):\n",
    "        self._age = 1.5\n",
    "\n",
    "class Cat(Animal):\n",
    "    def __init__(self):\n",
    "        super().__init__()\n",
    "\n",
    "    def describe(self):\n",
    "        print(self._age)\n",
    "\n",
    "a_cat = Cat()\n",
    "a_cat.describe()"
   ]
  },
  {
   "cell_type": "code",
   "execution_count": null,
   "id": "90ae0c64",
   "metadata": {},
   "outputs": [],
   "source": []
  }
 ],
 "metadata": {
  "kernelspec": {
   "display_name": "venv",
   "language": "python",
   "name": "python3"
  },
  "language_info": {
   "codemirror_mode": {
    "name": "ipython",
    "version": 3
   },
   "file_extension": ".py",
   "mimetype": "text/x-python",
   "name": "python",
   "nbconvert_exporter": "python",
   "pygments_lexer": "ipython3",
   "version": "3.13.4"
  }
 },
 "nbformat": 4,
 "nbformat_minor": 5
}

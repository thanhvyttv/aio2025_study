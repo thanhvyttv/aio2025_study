{
 "cells": [
  {
   "cell_type": "code",
   "execution_count": 24,
   "id": "2814e1f3",
   "metadata": {},
   "outputs": [
    {
     "name": "stdout",
     "output_type": "stream",
     "text": [
      "[5, 5, 5, 5, 10, 12, 33, 33]\n"
     ]
    }
   ],
   "source": [
    "def max_kernel(num_list, k):\n",
    "    result = []\n",
    "\n",
    "    for i in range(len(num_list) - k + 1):\n",
    "        result.append(max(num_list[i : k + i]))\n",
    "    return result\n",
    "\n",
    "\n",
    "assert max_kernel([3, 4, 5, 1, -44], 3) == [5, 5, 5]\n",
    "num_list = [3, 4, 5, 1, -44, 5, 10, 12, 33, 1]\n",
    "k = 3\n",
    "print(max_kernel(num_list, k))"
   ]
  },
  {
   "cell_type": "code",
   "execution_count": null,
   "id": "d9f4bf50",
   "metadata": {},
   "outputs": [
    {
     "name": "stdout",
     "output_type": "stream",
     "text": [
      "{'s': 2, 'm': 1, 'i': 1, 'l': 1, 'e': 1}\n"
     ]
    }
   ],
   "source": [
    "def count_character(word):\n",
    "    char_counts = {}\n",
    "    for char in word:\n",
    "        if char in char_counts:\n",
    "            char_counts[char] += 1\n",
    "        else:\n",
    "            char_counts[char] = 1\n",
    "    return char_counts\n",
    "\n",
    "\n",
    "assert count_character(\"Baby\") == {\"B\": 1, \"a\": 1, \"b\": 1, \"y\": 1}\n",
    "print(count_character(\"smiles\"))"
   ]
  },
  {
   "cell_type": "code",
   "execution_count": null,
   "id": "5b7e3819",
   "metadata": {},
   "outputs": [
    {
     "name": "stdout",
     "output_type": "stream",
     "text": [
      "6\n"
     ]
    }
   ],
   "source": [
    "def count_word(file_path):\n",
    "    # Read file\n",
    "    try:\n",
    "        with open(file_path, \"r\", encoding=\"utf-8\") as file:\n",
    "            content = file.read()\n",
    "    except FileNotFoundError:\n",
    "        print(\"Please confirm the file path.\")\n",
    "    except Exception as e:\n",
    "        print(f\"Error occurred: {e}\")\n",
    "\n",
    "    # Split and sort word in content\n",
    "    words = content.lower().split()\n",
    "    words.sort()\n",
    "    counter = {}\n",
    "    for word in words:\n",
    "        if word in counter:\n",
    "            counter[word] += 1\n",
    "        else:\n",
    "            counter[word] = 1\n",
    "\n",
    "    return counter\n",
    "\n",
    "\n",
    "file_path = \"./data/P1_data.txt\"\n",
    "result = count_word(file_path)\n",
    "assert result[\"who\"] == 3\n",
    "print(result[\"man\"])"
   ]
  },
  {
   "cell_type": "code",
   "execution_count": null,
   "id": "528d0e0f",
   "metadata": {},
   "outputs": [
    {
     "name": "stdout",
     "output_type": "stream",
     "text": [
      "3\n"
     ]
    }
   ],
   "source": [
    "def levenshtein_distance(token1, token2):\n",
    "    # Tạo matrix có số hàng = độ dài token1 + 1 và số cột = độ dài token2 + 1\n",
    "    num_rows = len(token1) + 1\n",
    "    num_cols = len(token2) + 1\n",
    "    matrix = [[0 for _ in range(num_cols)] for _ in range(num_rows)]\n",
    "\n",
    "    # Gán giá trị cho dòng đầu và cột đầu\n",
    "    for i in range(num_rows):\n",
    "        matrix[i][0] = i\n",
    "    for j in range(num_cols):\n",
    "        matrix[0][j] = j\n",
    "\n",
    "    # Tính toán và gán các giá trị vào các phần tử còn lại của matrix\n",
    "    for i in range(1, num_rows):\n",
    "        for j in range(1, num_cols):\n",
    "            cost = 1\n",
    "            # Nếu ký tự thứ i -1 của token1 giống ký tự thứ j - 1 của token2 giống nhau thì cost = 0\n",
    "            if token1[i - 1] == token2[j - 1]:\n",
    "                cost = 0\n",
    "            matrix[i][j] = min(\n",
    "                matrix[i - 1][j] + 1, matrix[i][j - 1] + 1, matrix[i - 1][j - 1] + cost\n",
    "            )\n",
    "    distance = matrix[num_rows - 1][num_cols - 1]\n",
    "    return distance\n",
    "\n",
    "\n",
    "assert levenshtein_distance(\"hi\", \"hello\") == 4\n",
    "print(levenshtein_distance(\"hola\", \"hello\"))"
   ]
  },
  {
   "cell_type": "code",
   "execution_count": null,
   "id": "02c3c39d",
   "metadata": {},
   "outputs": [
    {
     "name": "stdout",
     "output_type": "stream",
     "text": [
      "True\n"
     ]
    }
   ],
   "source": [
    "def check_the_number(N):\n",
    "    list_of_numbers = []\n",
    "    # result = \"\"\n",
    "    for i in range(1, 5):\n",
    "        list_of_numbers.append(i)\n",
    "    if N in list_of_numbers:\n",
    "        results = \"True\"\n",
    "    if N not in list_of_numbers:\n",
    "        results = \"False\"\n",
    "    return results\n",
    "\n",
    "\n",
    "N = 7\n",
    "assert check_the_number(N) == \"False\"\n",
    "N = 2\n",
    "results = check_the_number(N)\n",
    "print(results)"
   ]
  },
  {
   "cell_type": "code",
   "execution_count": null,
   "id": "9847d0b2",
   "metadata": {},
   "outputs": [
    {
     "name": "stdout",
     "output_type": "stream",
     "text": [
      "[2, 2, 2, 1, 1]\n"
     ]
    }
   ],
   "source": [
    "def my_function(data, max, min):\n",
    "    result = []\n",
    "    for i in data:\n",
    "        if i < min:\n",
    "            result.append(min)\n",
    "        elif i > max:\n",
    "            result.append(max)\n",
    "        else:\n",
    "            result.append(i)\n",
    "    return result\n",
    "\n",
    "\n",
    "my_list = [5, 2, 5, 0, 1]\n",
    "max = 1\n",
    "min = 0\n",
    "assert my_function(max=max, min=min, data=my_list) == [1, 1, 1, 0, 1]\n",
    "\n",
    "my_list = [10, 2, 5, 0, 1]\n",
    "max = 2\n",
    "min = 1\n",
    "print(my_function(max=max, min=min, data=my_list))"
   ]
  },
  {
   "cell_type": "code",
   "execution_count": null,
   "id": "693feafc",
   "metadata": {},
   "outputs": [
    {
     "name": "stdout",
     "output_type": "stream",
     "text": [
      "-1\n"
     ]
    }
   ],
   "source": [
    "def find_min(n):\n",
    "    min = n[0]\n",
    "    for i in n:\n",
    "        if i < min:\n",
    "            min = i\n",
    "\n",
    "    return min\n",
    "\n",
    "\n",
    "my_list = [1, 22, 93, -100]\n",
    "\n",
    "assert find_min(my_list) == -100\n",
    "\n",
    "my_list = [1, 2, 3, -1]\n",
    "print(find_min(my_list))"
   ]
  },
  {
   "cell_type": "code",
   "execution_count": 103,
   "id": "6ff1e0ae",
   "metadata": {},
   "outputs": [
    {
     "name": "stdout",
     "output_type": "stream",
     "text": [
      "9\n"
     ]
    }
   ],
   "source": [
    "def find_max(n):\n",
    "    max = n[0]\n",
    "    for i in n:\n",
    "        if i > max:\n",
    "            max = i\n",
    "    return max\n",
    "\n",
    "\n",
    "my_list = [1001, 9, 100, 0]\n",
    "\n",
    "assert find_max(my_list) == 1001\n",
    "\n",
    "my_list = [1, 9, 9, 0]\n",
    "print(find_max(my_list))"
   ]
  },
  {
   "cell_type": "code",
   "execution_count": null,
   "id": "4f8d852e",
   "metadata": {},
   "outputs": [
    {
     "name": "stdout",
     "output_type": "stream",
     "text": [
      "[1, 2, 3, 5, 5, 2, 2]\n",
      "[False, True, False, False, False, True, True]\n"
     ]
    }
   ],
   "source": [
    "my_list = [1, 2, 3, 5, 5, 2, 2]\n",
    "listA = [True if i == 2 else False for i in my_list]\n",
    "print(my_list)\n",
    "print(listA)"
   ]
  },
  {
   "cell_type": "code",
   "execution_count": null,
   "id": "10870c84",
   "metadata": {},
   "outputs": [
    {
     "name": "stdout",
     "output_type": "stream",
     "text": [
      "True\n"
     ]
    }
   ],
   "source": [
    "def my_function(integers, number=1):\n",
    "    return any([True if i == number else False for i in integers])\n",
    "\n",
    "\n",
    "my_list = [1, 3, 9, 4]\n",
    "\n",
    "assert my_function(my_list, -1) == False\n",
    "\n",
    "my_list = [1, 2, 3, 4]\n",
    "print(my_function(my_list, 2))"
   ]
  },
  {
   "cell_type": "code",
   "execution_count": null,
   "id": "30f2b0a1",
   "metadata": {},
   "outputs": [
    {
     "name": "stdout",
     "output_type": "stream",
     "text": [
      "1.0\n"
     ]
    }
   ],
   "source": [
    "def my_function(list_nums=[0, 1, 2]):\n",
    "    var = 0\n",
    "    for i in list_nums:\n",
    "        var += i\n",
    "    return var / len(list_nums)\n",
    "\n",
    "\n",
    "assert my_function([4, 6, 8]) == 6\n",
    "print(my_function())"
   ]
  },
  {
   "cell_type": "code",
   "execution_count": null,
   "id": "6a8d8a7e",
   "metadata": {},
   "outputs": [
    {
     "name": "stdout",
     "output_type": "stream",
     "text": [
      "[3, 6]\n"
     ]
    }
   ],
   "source": [
    "def my_function(data):\n",
    "    var = []\n",
    "    for i in data:\n",
    "        if i % 3 == 0:\n",
    "            var.append(i)\n",
    "\n",
    "    return var\n",
    "\n",
    "\n",
    "assert my_function([3, 9, 4, 5]) == [3, 9]\n",
    "print(my_function([1, 2, 3, 5, 6]))"
   ]
  },
  {
   "cell_type": "code",
   "execution_count": null,
   "id": "03ba45b7",
   "metadata": {},
   "outputs": [
    {
     "name": "stdout",
     "output_type": "stream",
     "text": [
      "24\n"
     ]
    }
   ],
   "source": [
    "def my_function(y):\n",
    "    var = 1\n",
    "    while y > 1:\n",
    "        var *= y\n",
    "        y -= 1\n",
    "    return var\n",
    "\n",
    "\n",
    "assert my_function(8) == 40320\n",
    "\n",
    "print(my_function(4))"
   ]
  },
  {
   "cell_type": "code",
   "execution_count": null,
   "id": "f46b22a1",
   "metadata": {},
   "outputs": [
    {
     "name": "stdout",
     "output_type": "stream",
     "text": [
      "tocirpa\n"
     ]
    }
   ],
   "source": [
    "def my_function(x):\n",
    "    return x[::-1]\n",
    "\n",
    "\n",
    "x = \"I can do it\"\n",
    "assert my_function(x) == \"ti od nac I\"\n",
    "print(my_function(\"apricot\"))"
   ]
  },
  {
   "cell_type": "code",
   "execution_count": null,
   "id": "c6243779",
   "metadata": {},
   "outputs": [
    {
     "name": "stdout",
     "output_type": "stream",
     "text": [
      "['T', 'T', 'T', 'N']\n"
     ]
    }
   ],
   "source": [
    "def function_helper(x):\n",
    "    return \"T\" if x > 0 else \"N\"\n",
    "\n",
    "\n",
    "def my_function(data):\n",
    "    res = [function_helper(x) for x in data]\n",
    "    return res\n",
    "\n",
    "\n",
    "data = [10, 0, -10, -1]\n",
    "assert my_function(data) == [\"T\", \"N\", \"N\", \"N\"]\n",
    "\n",
    "data = [2, 3, 5, -1]\n",
    "print(my_function(data))"
   ]
  },
  {
   "cell_type": "code",
   "execution_count": null,
   "id": "cb06e363",
   "metadata": {},
   "outputs": [
    {
     "name": "stdout",
     "output_type": "stream",
     "text": [
      "[9, 8, 1]\n"
     ]
    }
   ],
   "source": [
    "def function_helper(x, data):\n",
    "    for i in data:\n",
    "        if x == i:\n",
    "            return 0\n",
    "    return 1\n",
    "\n",
    "\n",
    "def my_function(data):\n",
    "    res = []\n",
    "    for i in data:\n",
    "        if function_helper(i, res):\n",
    "            res.append(i)\n",
    "    return res\n",
    "\n",
    "\n",
    "lst = [10, 10, 9, 7, 7]\n",
    "assert my_function(lst) == [10, 9, 7]\n",
    "\n",
    "lst = [9, 9, 8, 1, 1]\n",
    "print(my_function(lst))"
   ]
  },
  {
   "cell_type": "code",
   "execution_count": null,
   "id": "ea46e925",
   "metadata": {},
   "outputs": [],
   "source": []
  }
 ],
 "metadata": {
  "kernelspec": {
   "display_name": "venv",
   "language": "python",
   "name": "python3"
  },
  "language_info": {
   "codemirror_mode": {
    "name": "ipython",
    "version": 3
   },
   "file_extension": ".py",
   "mimetype": "text/x-python",
   "name": "python",
   "nbconvert_exporter": "python",
   "pygments_lexer": "ipython3",
   "version": "3.13.4"
  }
 },
 "nbformat": 4,
 "nbformat_minor": 5
}

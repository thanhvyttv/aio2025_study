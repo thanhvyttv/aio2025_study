{
 "cells": [
  {
   "cell_type": "code",
   "execution_count": 24,
   "id": "2814e1f3",
   "metadata": {},
   "outputs": [
    {
     "name": "stdout",
     "output_type": "stream",
     "text": [
      "[5, 5, 5, 5, 10, 12, 33, 33]\n"
     ]
    }
   ],
   "source": [
    "def max_kernel(num_list, k):\n",
    "    result = []\n",
    "\n",
    "    for i in range(len(num_list) - k + 1):\n",
    "        result.append(max(num_list[i : k + i]))\n",
    "    return result\n",
    "\n",
    "\n",
    "assert max_kernel([3, 4, 5, 1, -44], 3) == [5, 5, 5]\n",
    "num_list = [3, 4, 5, 1, -44, 5, 10, 12, 33, 1]\n",
    "k = 3\n",
    "print(max_kernel(num_list, k))"
   ]
  },
  {
   "cell_type": "code",
   "execution_count": null,
   "id": "d9f4bf50",
   "metadata": {},
   "outputs": [
    {
     "name": "stdout",
     "output_type": "stream",
     "text": [
      "{'s': 2, 'm': 1, 'i': 1, 'l': 1, 'e': 1}\n"
     ]
    }
   ],
   "source": [
    "def count_character(word):\n",
    "    char_counts = {}\n",
    "    for char in word:\n",
    "        if char in char_counts:\n",
    "            char_counts[char] += 1\n",
    "        else:\n",
    "            char_counts[char] = 1\n",
    "    return char_counts\n",
    "\n",
    "\n",
    "assert count_character(\"Baby\") == {\"B\": 1, \"a\": 1, \"b\": 1, \"y\": 1}\n",
    "print(count_character(\"smiles\"))"
   ]
  },
  {
   "cell_type": "code",
   "execution_count": null,
   "id": "7689cb29",
   "metadata": {},
   "outputs": [],
   "source": []
  }
 ],
 "metadata": {
  "kernelspec": {
   "display_name": "venv",
   "language": "python",
   "name": "python3"
  },
  "language_info": {
   "codemirror_mode": {
    "name": "ipython",
    "version": 3
   },
   "file_extension": ".py",
   "mimetype": "text/x-python",
   "name": "python",
   "nbconvert_exporter": "python",
   "pygments_lexer": "ipython3",
   "version": "3.13.4"
  }
 },
 "nbformat": 4,
 "nbformat_minor": 5
}

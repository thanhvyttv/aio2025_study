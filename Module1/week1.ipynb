{
 "cells": [
  {
   "cell_type": "code",
   "execution_count": null,
   "id": "ef810b9a",
   "metadata": {},
   "outputs": [],
   "source": [
    "import math\n",
    "\n",
    "\n",
    "def compute_f1_score(tp, fp, fn):\n",
    "    for param_name, value in [(\"tp\", tp), (\"fp\", fp), (\"fn\", fn)]:\n",
    "        if not isinstance(value, int):\n",
    "            print(f\"{param_name} must be int.\")\n",
    "            return\n",
    "\n",
    "        if value < 0:\n",
    "            print(f\"{param_name} must be greater than or equal zero.\")\n",
    "            return\n",
    "    precision = tp / (tp + fp)\n",
    "    recall = tp / (tp + fn)\n",
    "\n",
    "    if precision + recall == 0:\n",
    "        return 0.0\n",
    "    else:\n",
    "        f1_score = 2 * (precision * recall) / (precision + recall)\n",
    "    return f1_score"
   ]
  },
  {
   "cell_type": "code",
   "execution_count": 34,
   "id": "692329a3",
   "metadata": {},
   "outputs": [
    {
     "name": "stdout",
     "output_type": "stream",
     "text": [
      "0.31\n"
     ]
    }
   ],
   "source": [
    "assert round(compute_f1_score(2, 3, 5), 2) == 0.33\n",
    "print(round(compute_f1_score(2, 4, 5), 2))"
   ]
  },
  {
   "cell_type": "code",
   "execution_count": null,
   "id": "acf90b5d",
   "metadata": {},
   "outputs": [
    {
     "name": "stdout",
     "output_type": "stream",
     "text": [
      "True\n",
      "False\n"
     ]
    }
   ],
   "source": [
    "def is_number(n):\n",
    "    try:\n",
    "        float(n)\n",
    "        return True\n",
    "    except ValueError:\n",
    "        return False\n",
    "\n",
    "\n",
    "assert is_number(3) == 1.0\n",
    "assert is_number(\"-2a\") == 0.0\n",
    "print(is_number(1))\n",
    "print(is_number(\"n\"))"
   ]
  },
  {
   "cell_type": "code",
   "execution_count": null,
   "id": "b43dd8dc",
   "metadata": {},
   "outputs": [
    {
     "name": "stdout",
     "output_type": "stream",
     "text": [
      "0.88\n"
     ]
    }
   ],
   "source": [
    "def calc_sig(x):\n",
    "    return 1 / (1 + math.e ** (-x))\n",
    "\n",
    "\n",
    "assert round(calc_sig(3), 2) == 0.95\n",
    "print(round(calc_sig(2), 2))"
   ]
  },
  {
   "cell_type": "code",
   "execution_count": 65,
   "id": "f4554ec8",
   "metadata": {},
   "outputs": [],
   "source": [
    "def calc_relu(x):\n",
    "    if x <= 0:\n",
    "        return 0\n",
    "    else:\n",
    "        return x"
   ]
  },
  {
   "cell_type": "code",
   "execution_count": null,
   "id": "63281427",
   "metadata": {},
   "outputs": [
    {
     "name": "stdout",
     "output_type": "stream",
     "text": [
      "-0.01\n"
     ]
    }
   ],
   "source": [
    "def calc_elu(x):\n",
    "    alpha = 0.01\n",
    "    if x > 0:\n",
    "        return x\n",
    "    else:\n",
    "        return alpha * (math.e ** (x) - 1)\n",
    "\n",
    "\n",
    "assert round(calc_elu(1)) == 1\n",
    "print(round(calc_elu(-1), 2))"
   ]
  },
  {
   "cell_type": "code",
   "execution_count": null,
   "id": "e53b6047",
   "metadata": {},
   "outputs": [
    {
     "name": "stdout",
     "output_type": "stream",
     "text": [
      "0.95\n"
     ]
    }
   ],
   "source": [
    "def calc_activation_func(x, act_name):\n",
    "    if not is_number(x):\n",
    "        print(f\"{x} is not number\")\n",
    "        return None\n",
    "    support_func = [\"relu\", \"sigmoid\", \"elu\"]\n",
    "    if act_name in support_func:\n",
    "        if act_name == \"relu\":\n",
    "            return calc_relu(x)\n",
    "        if act_name == \"elu\":\n",
    "            return calc_elu(x)\n",
    "        if act_name == \"sigmoid\":\n",
    "            return calc_sig(x)\n",
    "    else:\n",
    "        print(f\"{act_name} is not supported.\")\n",
    "        return None\n",
    "\n",
    "\n",
    "assert calc_activation_func(1, \"relu\") == 1\n",
    "print(round(calc_activation_func(3, \"sigmoid\"), 2))"
   ]
  },
  {
   "cell_type": "code",
   "execution_count": null,
   "id": "f05261b9",
   "metadata": {},
   "outputs": [
    {
     "name": "stdout",
     "output_type": "stream",
     "text": [
      "7\n"
     ]
    }
   ],
   "source": [
    "def calc_ae(y, y_hat):\n",
    "    return abs(y - y_hat)\n",
    "    # return math.fabs(y - y_hat)\n",
    "\n",
    "\n",
    "y = 1\n",
    "y_hat = 6\n",
    "assert calc_ae(y, y_hat) == 5\n",
    "\n",
    "y = 2\n",
    "y_hat = 9\n",
    "print(calc_ae(y, y_hat))"
   ]
  },
  {
   "cell_type": "code",
   "execution_count": null,
   "id": "fd029458",
   "metadata": {},
   "outputs": [
    {
     "name": "stdout",
     "output_type": "stream",
     "text": [
      "1\n"
     ]
    }
   ],
   "source": [
    "def calc_se(y, y_hat):\n",
    "    return (y - y_hat) ** 2\n",
    "    # return math.sqrt(y - y_hat)\n",
    "\n",
    "\n",
    "y = 4\n",
    "y_hat = 2\n",
    "assert calc_se(y, y_hat) == 4\n",
    "print(calc_se(2, 1))"
   ]
  },
  {
   "cell_type": "code",
   "execution_count": 94,
   "id": "d0819965",
   "metadata": {},
   "outputs": [
    {
     "name": "stdout",
     "output_type": "stream",
     "text": [
      "0.0016\n"
     ]
    }
   ],
   "source": [
    "def approx_sin(x: float, n_terms: int):\n",
    "    result = 0.0\n",
    "    for n in range(n_terms):\n",
    "        result += ((-1) ** n) * (x ** (2 * n + 1)) / math.factorial(2 * n + 1)\n",
    "\n",
    "    return result\n",
    "\n",
    "\n",
    "assert round(approx_sin(x=1, n_terms=10), 4) == 0.8415\n",
    "print(round(approx_sin(3.14, 10), 4))"
   ]
  },
  {
   "cell_type": "code",
   "execution_count": null,
   "id": "11299e57",
   "metadata": {},
   "outputs": [
    {
     "name": "stdout",
     "output_type": "stream",
     "text": [
      "-1.0\n"
     ]
    }
   ],
   "source": [
    "def approx_cos(x, n_terms):\n",
    "    result = 0.0\n",
    "    for n in range(n_terms):\n",
    "        result += ((-1) ** n) * (x ** (2 * n)) / math.factorial(2 * n)\n",
    "    return result\n",
    "\n",
    "\n",
    "assert round(approx_cos(1, 10), 2) == 0.54\n",
    "print(round(approx_cos(3.14, 10), 2))"
   ]
  },
  {
   "cell_type": "code",
   "execution_count": null,
   "id": "35fa11a9",
   "metadata": {},
   "outputs": [
    {
     "name": "stdout",
     "output_type": "stream",
     "text": [
      "11.53\n"
     ]
    }
   ],
   "source": [
    "def approx_sinh(x, n_terms):\n",
    "    result = 0.0\n",
    "    for n in range(n_terms):\n",
    "        result += (x ** (2 * n + 1)) / math.factorial(2 * n + 1)\n",
    "    return result\n",
    "\n",
    "\n",
    "assert round(approx_sinh(1, 10), 2) == 1.18\n",
    "print(round(approx_sinh(3.14, 10), 2))"
   ]
  },
  {
   "cell_type": "code",
   "execution_count": null,
   "id": "5f56352f",
   "metadata": {},
   "outputs": [
    {
     "name": "stdout",
     "output_type": "stream",
     "text": [
      "11.57\n"
     ]
    }
   ],
   "source": [
    "def approx_cosh(x, n_terms):\n",
    "    result = 0.0\n",
    "    for n in range(n_terms):\n",
    "        result += (x ** (2 * n)) / math.factorial(2 * n)\n",
    "    return result\n",
    "\n",
    "\n",
    "assert round(approx_cosh(1, 10), 2) == 1.54\n",
    "print(round(approx_cosh(3.14, 10), 2))"
   ]
  },
  {
   "cell_type": "code",
   "execution_count": null,
   "id": "79521b4e",
   "metadata": {},
   "outputs": [],
   "source": []
  }
 ],
 "metadata": {
  "kernelspec": {
   "display_name": "Python 3",
   "language": "python",
   "name": "python3"
  },
  "language_info": {
   "codemirror_mode": {
    "name": "ipython",
    "version": 3
   },
   "file_extension": ".py",
   "mimetype": "text/x-python",
   "name": "python",
   "nbconvert_exporter": "python",
   "pygments_lexer": "ipython3",
   "version": "3.11.8"
  }
 },
 "nbformat": 4,
 "nbformat_minor": 5
}

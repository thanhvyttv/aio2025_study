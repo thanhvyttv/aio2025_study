{
 "cells": [
  {
   "cell_type": "code",
   "execution_count": 3,
   "id": "8cb5bce3",
   "metadata": {},
   "outputs": [],
   "source": [
    "import pandas as pd\n",
    "import numpy as np\n",
    "import random\n",
    "import matplotlib.pyplot as plt"
   ]
  },
  {
   "cell_type": "code",
   "execution_count": null,
   "id": "ebe28f69",
   "metadata": {},
   "outputs": [],
   "source": [
    "def get_column(data, index):\n",
    "    result = [row[index] for row in data]\n",
    "    return result\n",
    "\n",
    "\n",
    "def prepare_data(file_name_dataset):\n",
    "    data = np.genfromtxt(file_name_dataset, delimiter=\",\", skip_header=1).tolist()\n",
    "    # N = len(data)\n",
    "\n",
    "    # Get TV\n",
    "    tv_data = get_column(data, 0)\n",
    "\n",
    "    # Get Radio\n",
    "    radio_data = get_column(data, 1)\n",
    "\n",
    "    # Get Newspaper\n",
    "    newspaper_data = get_column(data, 2)\n",
    "\n",
    "    # Get Sales\n",
    "    sales_data = get_column(data, 3)\n",
    "\n",
    "    # Build X input and y output for training\n",
    "    X = [tv_data, radio_data, newspaper_data]\n",
    "    y = sales_data\n",
    "    return X, y"
   ]
  },
  {
   "cell_type": "code",
   "execution_count": null,
   "id": "54b93898",
   "metadata": {},
   "outputs": [
    {
     "name": "stdout",
     "output_type": "stream",
     "text": [
      "[624.1, 175.1, 300.5, 78.9]\n",
      "200\n"
     ]
    }
   ],
   "source": [
    "X, y = prepare_data(\"./data/advertising.csv\")\n",
    "list_data = [sum(X[0][:5]), sum(X[1][:5]), sum(X[2][:5]), sum(y[:5])]\n",
    "print(list_data)\n"
   ]
  },
  {
   "cell_type": "code",
   "execution_count": 5,
   "id": "724f9748",
   "metadata": {},
   "outputs": [],
   "source": [
    "def initialize_params():\n",
    "    # w1 = random.gauss(mu=0.0, sigma=0.01)\n",
    "    # w2 = random.gauss(mu=0.0, sigma=0.01)\n",
    "    # w3 = random.gauss(mu=0.0, sigma=0.01)\n",
    "    # b = 0\n",
    "\n",
    "    w1, w2, w3, b = (\n",
    "        0.016992259082509283,\n",
    "        0.0070783670518262355,\n",
    "        -0.002307860847821344,\n",
    "        0,\n",
    "    )\n",
    "    return w1, w2, w3, b"
   ]
  },
  {
   "cell_type": "code",
   "execution_count": null,
   "id": "0ecf5102",
   "metadata": {},
   "outputs": [
    {
     "name": "stdout",
     "output_type": "stream",
     "text": [
      "1.0\n"
     ]
    }
   ],
   "source": [
    "def predict(x1, x2, x3, w1, w2, w3, b):\n",
    "    result = w1 * x1 + w2 * x2 + w3 * x3 + b\n",
    "    return result\n",
    "\n",
    "\n",
    "y = predict(x1=1, x2=1, x3=1, w1=0, w2=0.5, w3=0, b=0.5)\n",
    "print(y)"
   ]
  },
  {
   "cell_type": "code",
   "execution_count": null,
   "id": "8660a3ed",
   "metadata": {},
   "outputs": [
    {
     "name": "stdout",
     "output_type": "stream",
     "text": [
      "0.25\n"
     ]
    }
   ],
   "source": [
    "def compute_loss(y_hat, y):\n",
    "    # Mean Squared Error\n",
    "    return (y_hat - y) ** 2\n",
    "\n",
    "\n",
    "loss = compute_loss(1, 0.5)\n",
    "print(loss)"
   ]
  },
  {
   "cell_type": "code",
   "execution_count": null,
   "id": "9c7af235",
   "metadata": {},
   "outputs": [],
   "source": [
    "def compute_gradient_wi(xi, y, y_hat):\n",
    "    dl_dwi = 2 * xi * (y_hat - y)\n",
    "    return dl_dwi\n",
    "\n",
    "\n",
    "def compute_gradient_b(y, y_hat):\n",
    "    dl_db = 2 * (y_hat - y)\n",
    "    return dl_db"
   ]
  },
  {
   "cell_type": "code",
   "execution_count": 9,
   "id": "96bd02de",
   "metadata": {},
   "outputs": [
    {
     "name": "stdout",
     "output_type": "stream",
     "text": [
      "-1.0\n"
     ]
    }
   ],
   "source": [
    "g_wi = compute_gradient_wi(xi=1.0, y=1.0, y_hat=0.5)\n",
    "print(g_wi)"
   ]
  },
  {
   "cell_type": "code",
   "execution_count": 10,
   "id": "57bfe8ac",
   "metadata": {},
   "outputs": [
    {
     "name": "stdout",
     "output_type": "stream",
     "text": [
      "-3.0\n"
     ]
    }
   ],
   "source": [
    "g_b = compute_gradient_b(y=2.0, y_hat=0.5)\n",
    "print(g_b)"
   ]
  },
  {
   "cell_type": "code",
   "execution_count": null,
   "id": "78a23e8a",
   "metadata": {},
   "outputs": [],
   "source": [
    "def update_weight_wi(wi, dl_dwi, lr):\n",
    "    wi = wi - lr * dl_dwi\n",
    "    return wi\n",
    "\n",
    "\n",
    "def update_weight_b(b, dl_db, lr):\n",
    "    b = b - lr * dl_db\n",
    "    return b"
   ]
  },
  {
   "cell_type": "code",
   "execution_count": 12,
   "id": "057bfbf4",
   "metadata": {},
   "outputs": [
    {
     "name": "stdout",
     "output_type": "stream",
     "text": [
      "1.000005\n"
     ]
    }
   ],
   "source": [
    "after_wi = update_weight_wi(wi=1.0, dl_dwi=-0.5, lr=1e-5)\n",
    "print(after_wi)"
   ]
  },
  {
   "cell_type": "code",
   "execution_count": 13,
   "id": "fc83da73",
   "metadata": {},
   "outputs": [
    {
     "name": "stdout",
     "output_type": "stream",
     "text": [
      "0.50001\n"
     ]
    }
   ],
   "source": [
    "after_b = update_weight_b(b=0.5, dl_db=-1.0, lr=1e-5)\n",
    "print(after_b)"
   ]
  },
  {
   "cell_type": "code",
   "execution_count": 19,
   "id": "d49a0bdb",
   "metadata": {},
   "outputs": [
    {
     "name": "stdout",
     "output_type": "stream",
     "text": [
      "200\n"
     ]
    }
   ],
   "source": [
    "print(len(y))"
   ]
  },
  {
   "cell_type": "code",
   "execution_count": null,
   "id": "c05f7bb2",
   "metadata": {},
   "outputs": [],
   "source": [
    "def implement_linear_regression(X_data, y_data, epoch_max = 50, lr = 1e-5):\n",
    "    losses = []\n",
    "    w1, w2, w3, b = initialize_params()\n",
    "    N = len(y_data)\n",
    "    for epoch in range(epoch_max):\n",
    "        print(f\"----Epoch {epoch}----\")\n",
    "        for i in range(N):\n",
    "            # Get sample\n",
    "            x1 = X_data[0][i]\n",
    "            x2 = X_data[1][i]\n",
    "            x3 = X_data[2][i]\n",
    "            y = y_data[i]\n",
    "\n",
    "            # compute output\n",
    "            y_hat = predict(x1, x2, x3, w1, w2, w3, b)\n",
    "\n",
    "            # compute loss\n",
    "            loss = compute_loss(y_hat, y)\n",
    "\n",
    "            # compute gradient w1, w2, w3, b\n",
    "            dl_dw1 = compute_gradient_wi(x1, y, y_hat)\n",
    "            dl_dw2 = compute_gradient_wi(x2, y, y_hat)\n",
    "            dl_dw3 = compute_gradient_wi(x3, y, y_hat)\n",
    "            dl_db = compute_gradient_b( y, y_hat)\n",
    "\n",
    "            # update parameter\n",
    "            w1 = update_weight_wi(w1, dl_dw1, lr)\n",
    "            w2 = update_weight_wi(w2, dl_dw2, lr)\n",
    "            w3 = update_weight_wi(w3, dl_dw3, lr)\n",
    "            b = update_weight_b(b, dl_db, lr)\n",
    "\n",
    "            # logging\n",
    "            losses.append(loss)\n",
    "        print(f\"Loss: {loss}\")\n",
    "\n",
    "    return w1, w2, w3, b, losses\n"
   ]
  },
  {
   "cell_type": "code",
   "execution_count": 27,
   "id": "992c85a8",
   "metadata": {},
   "outputs": [
    {
     "name": "stdout",
     "output_type": "stream",
     "text": [
      "----Epoch 0----\n",
      "Loss 0: 35.88705145412275\n",
      "----Epoch 1----\n",
      "Loss 1: 35.68509778572818\n",
      "----Epoch 2----\n",
      "Loss 2: 34.46253755939457\n",
      "----Epoch 3----\n",
      "Loss 3: 33.86150503029204\n",
      "----Epoch 4----\n",
      "Loss 4: 33.57000377973616\n",
      "----Epoch 5----\n",
      "Loss 5: 33.4155497497633\n",
      "----Epoch 6----\n",
      "Loss 6: 33.3214595349716\n",
      "----Epoch 7----\n",
      "Loss 7: 33.25400823059532\n",
      "----Epoch 8----\n",
      "Loss 8: 33.198341429316024\n",
      "----Epoch 9----\n",
      "Loss 9: 33.14790845198783\n",
      "----Epoch 10----\n",
      "Loss 10: 33.09981879543388\n",
      "----Epoch 11----\n",
      "Loss 11: 33.0527966619299\n",
      "----Epoch 12----\n",
      "Loss 12: 33.00627885757336\n",
      "----Epoch 13----\n",
      "Loss 13: 32.960016728237974\n",
      "----Epoch 14----\n",
      "Loss 14: 32.91390046637394\n",
      "----Epoch 15----\n",
      "Loss 15: 32.867881557184255\n",
      "----Epoch 16----\n",
      "Loss 16: 32.82193854350329\n",
      "----Epoch 17----\n",
      "Loss 17: 32.776061912834315\n",
      "----Epoch 18----\n",
      "Loss 18: 32.73024742572979\n",
      "----Epoch 19----\n",
      "Loss 19: 32.68449317059323\n",
      "----Epoch 20----\n",
      "Loss 20: 32.6387982635126\n",
      "----Epoch 21----\n",
      "Loss 21: 32.59316227429787\n",
      "----Epoch 22----\n",
      "Loss 22: 32.54758497310441\n",
      "----Epoch 23----\n",
      "Loss 23: 32.50206621857741\n",
      "----Epoch 24----\n",
      "Loss 24: 32.45660590847466\n",
      "----Epoch 25----\n",
      "Loss 25: 32.41120395786733\n",
      "----Epoch 26----\n",
      "Loss 26: 32.36586028951707\n",
      "----Epoch 27----\n",
      "Loss 27: 32.320574829628754\n",
      "----Epoch 28----\n",
      "Loss 28: 32.275347505973286\n",
      "----Epoch 29----\n",
      "Loss 29: 32.230178247061524\n",
      "----Epoch 30----\n",
      "Loss 30: 32.18506698177738\n",
      "----Epoch 31----\n",
      "Loss 31: 32.140013639217074\n",
      "----Epoch 32----\n",
      "Loss 32: 32.095018148617804\n",
      "----Epoch 33----\n",
      "Loss 33: 32.05008043932562\n",
      "----Epoch 34----\n",
      "Loss 34: 32.00520044078211\n",
      "----Epoch 35----\n",
      "Loss 35: 31.96037808251773\n",
      "----Epoch 36----\n",
      "Loss 36: 31.915613294149345\n",
      "----Epoch 37----\n",
      "Loss 37: 31.8709060053787\n",
      "----Epoch 38----\n",
      "Loss 38: 31.826256145991923\n",
      "----Epoch 39----\n",
      "Loss 39: 31.78166364585877\n",
      "----Epoch 40----\n",
      "Loss 40: 31.73712843493346\n",
      "----Epoch 41----\n",
      "Loss 41: 31.692650443253164\n",
      "----Epoch 42----\n",
      "Loss 42: 31.64822960093884\n",
      "----Epoch 43----\n",
      "Loss 43: 31.60386583819517\n",
      "----Epoch 44----\n",
      "Loss 44: 31.559559085309584\n",
      "----Epoch 45----\n",
      "Loss 45: 31.515309272653184\n",
      "----Epoch 46----\n",
      "Loss 46: 31.471116330680026\n",
      "----Epoch 47----\n",
      "Loss 47: 31.42698018992697\n",
      "----Epoch 48----\n",
      "Loss 48: 31.38290078101418\n",
      "----Epoch 49----\n",
      "Loss 49: 31.338878034644296\n",
      "0.07405984066396477 0.15917360263437663 0.017561197559948935\n"
     ]
    }
   ],
   "source": [
    "(w1,w2,w3,b, losses) = implement_linear_regression(X,y)\n",
    "print(w1,w2,w3)"
   ]
  },
  {
   "cell_type": "code",
   "execution_count": 26,
   "id": "4b571075",
   "metadata": {},
   "outputs": [
    {
     "data": {
      "image/png": "[encoded data removed]",
      "text/plain": [
       "<Figure size 640x480 with 1 Axes>"
      ]
     },
     "metadata": {},
     "output_type": "display_data"
    }
   ],
   "source": [
    "plt.plot(losses[0:100])\n",
    "plt.xlabel(\"#iteration\")\n",
    "plt.ylabel(\"Loss\")\n",
    "plt.show()"
   ]
  },
  {
   "cell_type": "code",
   "execution_count": 28,
   "id": "a006aaf9",
   "metadata": {},
   "outputs": [
    {
     "name": "stdout",
     "output_type": "stream",
     "text": [
      "----Epoch 0----\n",
      "Loss 0: 35.88705145412275\n",
      "----Epoch 1----\n",
      "Loss 1: 35.68509778572818\n",
      "----Epoch 2----\n",
      "Loss 2: 34.46253755939457\n",
      "----Epoch 3----\n",
      "Loss 3: 33.86150503029204\n",
      "----Epoch 4----\n",
      "Loss 4: 33.57000377973616\n",
      "----Epoch 5----\n",
      "Loss 5: 33.4155497497633\n",
      "----Epoch 6----\n",
      "Loss 6: 33.3214595349716\n",
      "----Epoch 7----\n",
      "Loss 7: 33.25400823059532\n",
      "----Epoch 8----\n",
      "Loss 8: 33.198341429316024\n",
      "----Epoch 9----\n",
      "Loss 9: 33.14790845198783\n",
      "----Epoch 10----\n",
      "Loss 10: 33.09981879543388\n",
      "----Epoch 11----\n",
      "Loss 11: 33.0527966619299\n",
      "----Epoch 12----\n",
      "Loss 12: 33.00627885757336\n",
      "----Epoch 13----\n",
      "Loss 13: 32.960016728237974\n",
      "----Epoch 14----\n",
      "Loss 14: 32.91390046637394\n",
      "----Epoch 15----\n",
      "Loss 15: 32.867881557184255\n",
      "----Epoch 16----\n",
      "Loss 16: 32.82193854350329\n",
      "----Epoch 17----\n",
      "Loss 17: 32.776061912834315\n",
      "----Epoch 18----\n",
      "Loss 18: 32.73024742572979\n",
      "----Epoch 19----\n",
      "Loss 19: 32.68449317059323\n",
      "----Epoch 20----\n",
      "Loss 20: 32.6387982635126\n",
      "----Epoch 21----\n",
      "Loss 21: 32.59316227429787\n",
      "----Epoch 22----\n",
      "Loss 22: 32.54758497310441\n",
      "----Epoch 23----\n",
      "Loss 23: 32.50206621857741\n",
      "----Epoch 24----\n",
      "Loss 24: 32.45660590847466\n",
      "----Epoch 25----\n",
      "Loss 25: 32.41120395786733\n",
      "----Epoch 26----\n",
      "Loss 26: 32.36586028951707\n",
      "----Epoch 27----\n",
      "Loss 27: 32.320574829628754\n",
      "----Epoch 28----\n",
      "Loss 28: 32.275347505973286\n",
      "----Epoch 29----\n",
      "Loss 29: 32.230178247061524\n",
      "----Epoch 30----\n",
      "Loss 30: 32.18506698177738\n",
      "----Epoch 31----\n",
      "Loss 31: 32.140013639217074\n",
      "----Epoch 32----\n",
      "Loss 32: 32.095018148617804\n",
      "----Epoch 33----\n",
      "Loss 33: 32.05008043932562\n",
      "----Epoch 34----\n",
      "Loss 34: 32.00520044078211\n",
      "----Epoch 35----\n",
      "Loss 35: 31.96037808251773\n",
      "----Epoch 36----\n",
      "Loss 36: 31.915613294149345\n",
      "----Epoch 37----\n",
      "Loss 37: 31.8709060053787\n",
      "----Epoch 38----\n",
      "Loss 38: 31.826256145991923\n",
      "----Epoch 39----\n",
      "Loss 39: 31.78166364585877\n",
      "----Epoch 40----\n",
      "Loss 40: 31.73712843493346\n",
      "----Epoch 41----\n",
      "Loss 41: 31.692650443253164\n",
      "----Epoch 42----\n",
      "Loss 42: 31.64822960093884\n",
      "----Epoch 43----\n",
      "Loss 43: 31.60386583819517\n",
      "----Epoch 44----\n",
      "Loss 44: 31.559559085309584\n",
      "----Epoch 45----\n",
      "Loss 45: 31.515309272653184\n",
      "----Epoch 46----\n",
      "Loss 46: 31.471116330680026\n",
      "----Epoch 47----\n",
      "Loss 47: 31.42698018992697\n",
      "----Epoch 48----\n",
      "Loss 48: 31.38290078101418\n",
      "----Epoch 49----\n",
      "Loss 49: 31.338878034644296\n",
      "Predicted Sales is 8.176413319549823\n"
     ]
    }
   ],
   "source": [
    "tv = 19.2\n",
    "radio = 35.9\n",
    "newspaper = 51.3\n",
    "(w1,w2,w3,b, losses) = implement_linear_regression(X,y, epoch_max=50, lr=1e-5)\n",
    "sales = predict(tv, radio, newspaper, w1, w2, w3, b)\n",
    "print(f\"Predicted Sales is {sales}\")"
   ]
  },
  {
   "cell_type": "code",
   "execution_count": null,
   "id": "30295eda",
   "metadata": {},
   "outputs": [],
   "source": []
  }
 ],
 "metadata": {
  "kernelspec": {
   "display_name": "venv",
   "language": "python",
   "name": "python3"
  },
  "language_info": {
   "codemirror_mode": {
    "name": "ipython",
    "version": 3
   },
   "file_extension": ".py",
   "mimetype": "text/x-python",
   "name": "python",
   "nbconvert_exporter": "python",
   "pygments_lexer": "ipython3",
   "version": "3.13.5"
  }
 },
 "nbformat": 4,
 "nbformat_minor": 5
}

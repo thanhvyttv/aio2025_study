{
 "cells": [
  {
   "cell_type": "code",
   "execution_count": 1,
   "id": "62f25739",
   "metadata": {},
   "outputs": [],
   "source": [
    "import numpy as np"
   ]
  },
  {
   "cell_type": "code",
   "execution_count": 4,
   "id": "322efe7f",
   "metadata": {},
   "outputs": [
    {
     "name": "stdout",
     "output_type": "stream",
     "text": [
      "(4, 1)\n",
      "(4,)\n",
      "[[1.]\n",
      " [1.]\n",
      " [1.]\n",
      " [1.]]\n",
      "[1. 1. 1. 1.]\n",
      "[[0. 0. 0. 0.]\n",
      " [0. 0. 0. 0.]\n",
      " [0. 0. 0. 0.]\n",
      " [0. 0. 0. 0.]]\n"
     ]
    }
   ],
   "source": [
    "x = np.ones((4,1))\n",
    "y = np.ones((4,))\n",
    "print(x.shape)\n",
    "print(y.shape)\n",
    "print(x)\n",
    "print(y)\n",
    "z = x-y\n",
    "print(z)"
   ]
  },
  {
   "cell_type": "code",
   "execution_count": 7,
   "id": "e9fef0d3",
   "metadata": {},
   "outputs": [
    {
     "name": "stdout",
     "output_type": "stream",
     "text": [
      "[[13 16]\n",
      " [29 36]]\n",
      "[[18 22]\n",
      " [26 32]]\n",
      "[[11 17]\n",
      " [25 39]]\n"
     ]
    }
   ],
   "source": [
    "x = np.array([[1, 2], [3, 4]])  # x là ma trận 2x2\n",
    "y = np.array([[3, 4], [5, 6]])\n",
    "\n",
    "print(x.dot(y))\n",
    "print(x.T.dot(y))\n",
    "print(x.dot(y.T))"
   ]
  },
  {
   "cell_type": "code",
   "execution_count": 8,
   "id": "0fccf1cd",
   "metadata": {},
   "outputs": [
    {
     "name": "stdout",
     "output_type": "stream",
     "text": [
      "[[0. 0.]\n",
      " [1. 1.]]\n",
      "[0. 0. 1. 1.]\n",
      "[[0.]\n",
      " [0.]\n",
      " [1.]\n",
      " [1.]]\n",
      "[[0. 1.]\n",
      " [0. 1.]]\n"
     ]
    }
   ],
   "source": [
    "print(np.vstack([np.zeros((2,)), np.ones((2,))]))\n",
    "print(np.hstack([np.zeros((2,)), np.ones((2,))]))\n",
    "print(np.vstack([np.zeros((2,1)), np.ones((2,1))]))\n",
    "print(np.hstack([np.zeros((2,1)), np.ones((2,1))]))"
   ]
  },
  {
   "cell_type": "code",
   "execution_count": null,
   "id": "2996b683",
   "metadata": {},
   "outputs": [
    {
     "name": "stdout",
     "output_type": "stream",
     "text": [
      "[1.38 2.06]\n",
      "[1.38 2.06]\n",
      "[1.48 0.36]\n"
     ]
    }
   ],
   "source": [
    "theta = np.array([0.34, 0.02])\n",
    "x = np.array([[4,6],[1,1]])\n",
    "\n",
    "print(theta.T.dot(x))\n",
    "print(theta.dot(x))\n",
    "print(theta.dot(x.T))\n",
    "\n",
    "# Note: Phép chuyển vị .T không làm thay đổi shape của mảng 1 chiều. Do đó theta.T và. theta được Numpy xử lý như nhau"
   ]
  },
  {
   "cell_type": "code",
   "execution_count": null,
   "id": "be510e61",
   "metadata": {},
   "outputs": [],
   "source": []
  }
 ],
 "metadata": {
  "kernelspec": {
   "display_name": "venv",
   "language": "python",
   "name": "python3"
  },
  "language_info": {
   "codemirror_mode": {
    "name": "ipython",
    "version": 3
   },
   "file_extension": ".py",
   "mimetype": "text/x-python",
   "name": "python",
   "nbconvert_exporter": "python",
   "pygments_lexer": "ipython3",
   "version": "3.13.5"
  }
 },
 "nbformat": 4,
 "nbformat_minor": 5
}

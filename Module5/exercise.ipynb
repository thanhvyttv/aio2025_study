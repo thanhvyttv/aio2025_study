{
 "cells": [
  {
   "cell_type": "code",
   "execution_count": 1,
   "id": "1ae1eb82",
   "metadata": {},
   "outputs": [],
   "source": [
    "import random"
   ]
  },
  {
   "cell_type": "code",
   "execution_count": null,
   "id": "07dcaee7",
   "metadata": {},
   "outputs": [
    {
     "name": "stdout",
     "output_type": "stream",
     "text": [
      "[0, 1, 0]\n"
     ]
    }
   ],
   "source": [
    "def proportional_select(population, fitness_scores):\n",
    "    total_fitness = sum(fitness_scores)\n",
    "    if total_fitness == 0:\n",
    "        return random.choice(population)\n",
    "    # threshold = random.uniform(0, total_fitness)\n",
    "    threshold = 4.7\n",
    "    cumulative = 0.0\n",
    "\n",
    "    for individual, fitness in zip(population, fitness_scores):\n",
    "        cumulative += fitness\n",
    "        if cumulative >= threshold:\n",
    "            return individual\n",
    "\n",
    "    return population[-1]\n",
    "\n",
    "\n",
    "population = [[1, 0, 1], [0, 1, 0], [1, 1, 1]]\n",
    "fitness_scores = [2, 3, 5]\n",
    "\n",
    "result = proportional_select(population, fitness_scores)\n",
    "print(result)"
   ]
  },
  {
   "cell_type": "code",
   "execution_count": 13,
   "id": "aa9fe3ac",
   "metadata": {},
   "outputs": [
    {
     "name": "stdout",
     "output_type": "stream",
     "text": [
      "C\n"
     ]
    }
   ],
   "source": [
    "def tournament_select(population, fitness_scores, tournament_size=2):\n",
    "    if not population:\n",
    "        raise ValueError(\"Population must contain at least one individual.\")\n",
    "\n",
    "    k = min(tournament_size, len(population))\n",
    "    # candidate_indices = random.sample(range(len(population)), k=k)\n",
    "    candidate_indices = [0, 2, 3]\n",
    "    best_idx = max(candidate_indices, key=lambda idx: fitness_scores[idx])\n",
    "    return population[best_idx]\n",
    "\n",
    "\n",
    "population = [\"A\", \"B\", \"C\", \"D\"]\n",
    "fitness_scores = [3, 7, 5, 2]\n",
    "tournament_size = 3\n",
    "result = tournament_select(population, fitness_scores, tournament_size)\n",
    "print(result)"
   ]
  },
  {
   "cell_type": "code",
   "execution_count": null,
   "id": "9ccdb19c",
   "metadata": {},
   "outputs": [
    {
     "name": "stdout",
     "output_type": "stream",
     "text": [
      "[0.17241379398335313, 0.6896551707609988, 0.13793103525564804]\n"
     ]
    }
   ],
   "source": [
    "import numpy as np\n",
    "\n",
    "\n",
    "def selection_probs_from_losses(losses, eps=1e-8):\n",
    "    inv = 1.0 / (np.array(losses) + eps)\n",
    "    p = inv / np.sum(inv)\n",
    "    return p.tolist()\n",
    "\n",
    "\n",
    "losses = [4.0, 1.0, 5.0]\n",
    "\n",
    "print(selection_probs_from_losses(losses, eps=1e-8))"
   ]
  },
  {
   "cell_type": "code",
   "execution_count": null,
   "id": "5e6a3b3c",
   "metadata": {},
   "outputs": [
    {
     "name": "stdout",
     "output_type": "stream",
     "text": [
      "0.5\n"
     ]
    }
   ],
   "source": [
    "def proportional_select(population, scores):\n",
    "    shifted = np.array(scores) - min(scores)\n",
    "    probs = shifted + 1e-6\n",
    "    probs /= probs.sum()\n",
    "    pick = np.random.choice(len(population), p=probs)\n",
    "    return population[pick]\n",
    "\n",
    "\n",
    "scores = [0.2, 0.5, 0.5]\n",
    "\n",
    "print(proportional_select(population, scores))"
   ]
  },
  {
   "cell_type": "code",
   "execution_count": 23,
   "id": "ef4d68f8",
   "metadata": {},
   "outputs": [
    {
     "name": "stdout",
     "output_type": "stream",
     "text": [
      "[0.  0.5 0.5]\n"
     ]
    }
   ],
   "source": [
    "shifted = np.array(scores) - min(scores)\n",
    "probs = shifted\n",
    "probs /= probs.sum()\n",
    "print(probs)"
   ]
  },
  {
   "cell_type": "code",
   "execution_count": null,
   "id": "1de9b2c0",
   "metadata": {},
   "outputs": [],
   "source": []
  }
 ],
 "metadata": {
  "kernelspec": {
   "display_name": "venv",
   "language": "python",
   "name": "python3"
  },
  "language_info": {
   "codemirror_mode": {
    "name": "ipython",
    "version": 3
   },
   "file_extension": ".py",
   "mimetype": "text/x-python",
   "name": "python",
   "nbconvert_exporter": "python",
   "pygments_lexer": "ipython3",
   "version": "3.13.5"
  }
 },
 "nbformat": 4,
 "nbformat_minor": 5
}

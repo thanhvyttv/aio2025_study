{
 "cells": [
  {
   "cell_type": "code",
   "execution_count": null,
   "id": "dd507e5d",
   "metadata": {},
   "outputs": [],
   "source": [
    "import numpy as np"
   ]
  },
  {
   "cell_type": "code",
   "execution_count": null,
   "id": "b967638b",
   "metadata": {},
   "outputs": [],
   "source": [
    "X = np.array([[1, 3, 12], [1, 4, 13], [1, 5, 14], [1, 6, 15]])\n",
    "y = np.array([60, 55, 66, 93])"
   ]
  },
  {
   "cell_type": "code",
   "execution_count": null,
   "id": "eab0f7df",
   "metadata": {},
   "outputs": [],
   "source": [
    "theta = np.array([10, 3, 2])\n",
    "learning_rate = 0.001\n",
    "epoch = 2\n",
    "N = len(X)"
   ]
  },
  {
   "cell_type": "code",
   "execution_count": null,
   "id": "44c7105e",
   "metadata": {},
   "outputs": [],
   "source": [
    "y_hat = X.dot(theta)\n",
    "print(y_hat)"
   ]
  },
  {
   "cell_type": "code",
   "execution_count": null,
   "id": "1dc73e78",
   "metadata": {},
   "outputs": [],
   "source": [
    "loss = ((y_hat - y).T.dot(y_hat - y)) / N\n",
    "print(loss)"
   ]
  },
  {
   "cell_type": "code",
   "execution_count": null,
   "id": "e3358e24",
   "metadata": {},
   "outputs": [],
   "source": [
    "k = 2 * (y_hat - y)\n",
    "gradient = X.T.dot(k)\n",
    "print(gradient)"
   ]
  },
  {
   "cell_type": "code",
   "execution_count": null,
   "id": "c9d1473e",
   "metadata": {},
   "outputs": [],
   "source": [
    "theta = theta - learning_rate * gradient / N\n",
    "print(theta)"
   ]
  },
  {
   "cell_type": "code",
   "execution_count": null,
   "id": "83a34ff6",
   "metadata": {},
   "outputs": [],
   "source": [
    "y_hat = X.dot(theta)\n",
    "print(y_hat)\n",
    "loss = ((y_hat - y).T.dot(y_hat - y)) / N\n",
    "print(loss)\n",
    "k = 2 * (y_hat - y)\n",
    "gradient = X.T.dot(k)\n",
    "print(gradient)\n",
    "theta = theta - learning_rate * gradient / N\n",
    "print(theta)"
   ]
  },
  {
   "cell_type": "code",
   "execution_count": null,
   "id": "34b912e6",
   "metadata": {},
   "outputs": [],
   "source": [
    "# y = np.array([60,55,66,93])\n",
    "loss = np.array([-18, -6, -12, -30])\n",
    "gradient = (loss.T.dot(loss)) / 4\n",
    "print(gradient)"
   ]
  },
  {
   "cell_type": "code",
   "execution_count": null,
   "id": "45c50fab",
   "metadata": {},
   "outputs": [],
   "source": [
    "k = np.array([-20, -8, -16, -40])\n",
    "gradient = X.T.dot(k)\n",
    "print(gradient)"
   ]
  },
  {
   "cell_type": "code",
   "execution_count": null,
   "id": "746bf640",
   "metadata": {},
   "outputs": [],
   "source": []
  }
 ],
 "metadata": {
  "kernelspec": {
   "display_name": "venv",
   "language": "python",
   "name": "python3"
  },
  "language_info": {
   "codemirror_mode": {
    "name": "ipython",
    "version": 3
   },
   "file_extension": ".py",
   "mimetype": "text/x-python",
   "name": "python",
   "nbconvert_exporter": "python",
   "pygments_lexer": "ipython3",
   "version": "3.13.5"
  }
 },
 "nbformat": 4,
 "nbformat_minor": 5
}

{
 "cells": [
  {
   "cell_type": "code",
   "execution_count": 2,
   "id": "c27bc69c",
   "metadata": {},
   "outputs": [],
   "source": [
    "import random\n",
    "\n",
    "\n",
    "def generate_random_value():\n",
    "    return random.randint(0, 1)\n",
    "\n",
    "\n",
    "def compute_fitness(individual):\n",
    "    return sum(gen for gen in individual)\n",
    "\n",
    "\n",
    "def create_individual(n):\n",
    "    return [generate_random_value() for _ in range(n)]\n",
    "\n",
    "\n",
    "def crossover(individual1, individual2, crossover_rate=0.9):\n",
    "    individual1_new = individual1.copy()\n",
    "    individual2_new = individual2.copy()\n",
    "\n",
    "    for i in range(len(individual1)):\n",
    "        if random.random() < crossover_rate:\n",
    "            individual1_new[i] = individual2[i]\n",
    "            individual2_new[i] = individual1[i]\n",
    "    return individual1_new, individual2_new\n",
    "\n",
    "\n",
    "def mutate(individual, mutation_rate=0.05):\n",
    "    individual_m = individual.copy()\n",
    "    for i in range(len(individual)):\n",
    "        if random.random() < mutation_rate:\n",
    "            individual_m[i] = individual[i]\n",
    "    return individual_m\n",
    "\n",
    "\n",
    "def selection(sorted_old_population, m):\n",
    "    index1 = random.randint(0, m - 1)\n",
    "    index2 = random.randint(0, m - 1)\n",
    "\n",
    "    while index2 == index1:\n",
    "        index2 = random.randint(0, m - 1)\n",
    "\n",
    "    individual_s = sorted_old_population[index1]\n",
    "    if index2 > index1:\n",
    "        individual_s = sorted_old_population[index2]\n",
    "\n",
    "    return individual_s\n"
   ]
  },
  {
   "cell_type": "code",
   "execution_count": 16,
   "id": "a39898ae",
   "metadata": {},
   "outputs": [
    {
     "name": "stdout",
     "output_type": "stream",
     "text": [
      "BEST: 14\n",
      "BEST: 14\n",
      "BEST: 15\n",
      "BEST: 15\n",
      "BEST: 16\n",
      "BEST: 16\n",
      "BEST: 16\n",
      "BEST: 17\n",
      "BEST: 17\n",
      "BEST: 17\n",
      "BEST: 18\n",
      "BEST: 18\n",
      "BEST: 18\n",
      "BEST: 18\n",
      "BEST: 18\n",
      "BEST: 18\n",
      "BEST: 18\n",
      "BEST: 18\n",
      "BEST: 18\n",
      "BEST: 18\n",
      "BEST: 18\n",
      "BEST: 18\n",
      "BEST: 18\n",
      "BEST: 18\n",
      "BEST: 18\n",
      "BEST: 18\n",
      "BEST: 18\n",
      "BEST: 18\n",
      "BEST: 18\n",
      "BEST: 18\n",
      "BEST: 18\n",
      "BEST: 18\n",
      "BEST: 18\n",
      "BEST: 18\n",
      "BEST: 18\n",
      "BEST: 18\n",
      "BEST: 18\n",
      "BEST: 18\n",
      "BEST: 18\n",
      "BEST: 18\n",
      "BEST: 18\n",
      "BEST: 18\n",
      "BEST: 18\n",
      "BEST: 18\n",
      "BEST: 18\n",
      "BEST: 18\n",
      "BEST: 18\n",
      "BEST: 18\n",
      "BEST: 18\n",
      "BEST: 18\n"
     ]
    }
   ],
   "source": [
    "n = 20\n",
    "m = 20\n",
    "n_generations = 50\n",
    "\n",
    "fitnesses = []\n",
    "# create population\n",
    "population = [create_individual(n) for _ in range(m)]\n",
    "\n",
    "elitism = 2\n",
    "for i in range(n_generations):\n",
    "    sorted_population = sorted(population, key=compute_fitness)\n",
    "\n",
    "    if i % 1 == 0:\n",
    "        fitnesses.append(compute_fitness(sorted_population[-1]))\n",
    "        print(\"BEST:\", compute_fitness(sorted_population[-1]))\n",
    "\n",
    "    new_population = sorted_population[-elitism:]\n",
    "    while len(new_population) < m:\n",
    "        individual_s1 = selection(sorted_population, m)\n",
    "        individual_s2 = selection(sorted_population, m)\n",
    "\n",
    "        individual_c1, individual_c2 = crossover(individual_s1, individual_s2)\n",
    "\n",
    "        individual_m1 = mutate(individual_c1)\n",
    "        individual_m2 = mutate(individual_c2)\n",
    "\n",
    "        new_population.append(individual_m1)\n",
    "        new_population.append(individual_m2)\n",
    "\n",
    "    population = new_population"
   ]
  },
  {
   "cell_type": "code",
   "execution_count": 13,
   "id": "7fa8478d",
   "metadata": {},
   "outputs": [
    {
     "name": "stdout",
     "output_type": "stream",
     "text": [
      "[1, 1, 1, 1, 1, 0, 1, 1, 1, 1, 1, 1, 0, 1, 1, 1, 1, 1, 1, 1]\n"
     ]
    }
   ],
   "source": [
    "sorted_population = sorted(population, key=compute_fitness)\n",
    "individual_best = sorted_population[-1]\n",
    "print(individual_best)"
   ]
  },
  {
   "cell_type": "code",
   "execution_count": null,
   "id": "1b491e22",
   "metadata": {},
   "outputs": [
    {
     "data": {
      "image/png": "[encoded data removed]",
      "text/plain": [
       "<Figure size 640x480 with 1 Axes>"
      ]
     },
     "metadata": {},
     "output_type": "display_data"
    }
   ],
   "source": [
    "import matplotlib.pyplot as plt\n",
    "\n",
    "plt.plot(fitnesses)\n",
    "plt.xlabel(\"Generations\")\n",
    "plt.ylabel(\"Fitness\")\n",
    "plt.show()"
   ]
  },
  {
   "cell_type": "code",
   "execution_count": null,
   "id": "cba6eb3f",
   "metadata": {},
   "outputs": [
    {
     "name": "stdout",
     "output_type": "stream",
     "text": [
      "[[1.   1.2 ]\n",
      " [1.   1.86]\n",
      " [1.   2.09]\n",
      " [1.   3.05]\n",
      " [1.   4.69]\n",
      " [1.   3.57]\n",
      " [1.   5.55]\n",
      " [1.   2.39]\n",
      " [1.   3.94]]\n",
      "[2.43 2.91 3.41 4.71 5.94 5.4  7.04 3.38 5.29]\n"
     ]
    }
   ],
   "source": [
    "import numpy as np\n",
    "import random\n",
    "from numpy import genfromtxt\n",
    "import matplotlib.pyplot as plt\n",
    "\n",
    "data = genfromtxt(\"./data/data_GA.csv\", delimiter=\",\", skip_header=1)\n",
    "\n",
    "X = data[:, :1]\n",
    "y = data[:, 1]\n",
    "\n",
    "X = np.c_[np.ones((X.shape[0], 1)), X]\n",
    "print(X)\n",
    "print(y)"
   ]
  },
  {
   "cell_type": "code",
   "execution_count": null,
   "id": "40927208",
   "metadata": {},
   "outputs": [
    {
     "data": {
      "image/png": "[encoded data removed]",
      "text/plain": [
       "<Figure size 600x400 with 1 Axes>"
      ]
     },
     "metadata": {},
     "output_type": "display_data"
    }
   ],
   "source": [
    "fig, ax = plt.subplots(figsize=(6, 4))\n",
    "ax.set_xlim((0, 7))\n",
    "ax.set_ylim((0, 9))\n",
    "\n",
    "plt.scatter(X[:, 1], y)\n",
    "plt.show()"
   ]
  },
  {
   "cell_type": "code",
   "execution_count": 22,
   "id": "d6c4d11f",
   "metadata": {},
   "outputs": [],
   "source": [
    "def generate_random_value_n(bound=100):\n",
    "    return (random.random() * 2 - 1) * bound\n",
    "\n",
    "\n",
    "def compute_loss(individual):\n",
    "    theta = np.array(individual)\n",
    "    y_hat = X.dot(theta)\n",
    "    loss = np.multiply((y_hat - y), (y_hat - y)).mean()\n",
    "    return loss\n",
    "\n",
    "\n",
    "def compute_fitness(individual):\n",
    "    loss = compute_loss(individual)\n",
    "    fitness = 1 / (loss + 0.000001)\n",
    "    return fitness\n",
    "\n",
    "\n",
    "def create_individual():\n",
    "    return [generate_random_value_n() for _ in range(n)]\n",
    "\n",
    "\n",
    "def crossover(individual1, individual2, crossover_rate=0.9):\n",
    "    individual1_new = individual1.copy()\n",
    "    individual2_new = individual2.copy()\n",
    "\n",
    "    for i in range(n):\n",
    "        if random.random() < crossover_rate:\n",
    "            individual1_new[i] = individual2[i]\n",
    "            individual2_new[i] = individual1[i]\n",
    "    return individual1_new, individual2_new\n",
    "\n",
    "\n",
    "def mutate(individual, mutation_rate=0.05):\n",
    "    individual_m = individual.copy()\n",
    "\n",
    "    for i in range(n):\n",
    "        if random.random() < mutation_rate:\n",
    "            individual_m[i] = generate_random_value_n()\n",
    "\n",
    "    return individual_m\n",
    "\n",
    "\n",
    "def selection(sorted_old_population):\n",
    "    index1 = random.randint(0, m - 1)\n",
    "    index2 = random.randint(0, m - 1)\n",
    "\n",
    "    while index2 == index1:\n",
    "        index2 = random.randint(0, m - 1)\n",
    "\n",
    "    individual_s = sorted_old_population[index1]\n",
    "    if index2 > index1:\n",
    "        individual_s = sorted_old_population[index2]\n",
    "\n",
    "    return individual_s"
   ]
  },
  {
   "cell_type": "code",
   "execution_count": 28,
   "id": "67a1198c",
   "metadata": {},
   "outputs": [
    {
     "name": "stdout",
     "output_type": "stream",
     "text": [
      "Best loss: 21.970446613587008 [12.67217695302092, -2.3844800434508873]\n",
      "Best loss: 21.044490980663042 [11.778986224327381, -2.3441159432157965]\n",
      "Best loss: 16.094674884123275 [10.434506443333103, -1.9133383138040028]\n",
      "Best loss: 7.934756712765662 [5.674927276678643, -0.783211690796759]\n",
      "Best loss: 6.5979450425127295 [6.389807068797015, -0.783211690796759]\n",
      "Best loss: 5.084997473212144 [6.8294360638701646, -0.4967610552893964]\n",
      "Best loss: 4.503290742884938 [6.019412138478986, -0.4967610552893964]\n",
      "Best loss: 3.760127699147095 [6.019412138478986, -0.21664832521601785]\n",
      "Best loss: 3.0626707621224476 [5.1432442256969635, -0.21664832521601785]\n",
      "Best loss: 2.4009123163728208 [4.547288368668578, -0.06047362880452489]\n",
      "Best loss: 2.4009123163728208 [4.547288368668578, -0.06047362880452489]\n",
      "Best loss: 2.4009123163728208 [4.547288368668578, -0.06047362880452489]\n",
      "Best loss: 1.924396940463037 [4.547288368668578, 0.08402567526490934]\n",
      "Best loss: 1.8287527448104608 [4.267028486459168, 0.08402567526490934]\n",
      "Best loss: 0.9970003052434558 [3.4045382798642, 0.35383558516028923]\n",
      "Best loss: 0.9970003052434558 [3.4045382798642, 0.35383558516028923]\n",
      "Best loss: 0.9640482372753938 [3.4045382798642, 0.36803722431213437]\n",
      "Best loss: 0.9640482372753938 [3.4045382798642, 0.36803722431213437]\n",
      "Best loss: 0.9640482372753938 [3.4045382798642, 0.36803722431213437]\n",
      "Best loss: 0.9640482372753938 [3.4045382798642, 0.36803722431213437]\n",
      "Best loss: 0.8909905733960084 [3.4045382798642, 0.5072144887172891]\n",
      "Best loss: 0.6464305881994407 [2.8262985535354446, 0.5072144887172891]\n",
      "Best loss: 0.6074475076751743 [2.8262985535354446, 0.7073448959980633]\n",
      "Best loss: 0.3103737503103783 [2.1830721367477546, 0.7073448959980633]\n",
      "Best loss: 0.3103737503103783 [2.1830721367477546, 0.7073448959980633]\n",
      "Best loss: 0.3054109953985793 [2.2166497927793793, 0.7073448959980633]\n",
      "Best loss: 0.24436296656127535 [2.2166497927793793, 0.7772190375815891]\n",
      "Best loss: 0.24436296656127535 [2.2166497927793793, 0.7772190375815891]\n",
      "Best loss: 0.24436296656127535 [2.2166497927793793, 0.7772190375815891]\n",
      "Best loss: 0.22254947579633225 [1.9849754992773416, 0.7772190375815891]\n"
     ]
    }
   ],
   "source": [
    "n = 2\n",
    "m = 100\n",
    "n_generations = 3000\n",
    "losses = []\n",
    "\n",
    "population = [create_individual() for _ in range(m)]\n",
    "\n",
    "#==== loops\n",
    "elitism = 2\n",
    "for i in range(n_generations):\n",
    "    sorted_population = sorted(population, key=compute_fitness)\n",
    "        \n",
    "    if i%100 == 0:\n",
    "        losses.append(compute_loss(sorted_population[-1]))\n",
    "        print(\"Best loss:\", compute_loss(sorted_population[-1]), sorted_population[-1])      \n",
    "    \n",
    "    # create new_population\n",
    "    new_population = sorted_population[-elitism:] \n",
    "    \n",
    "    while len(new_population) < m:\n",
    "        # selection\n",
    "        individual_s1 = selection(sorted_population)\n",
    "        individual_s2 = selection(sorted_population) # duplication\n",
    "        \n",
    "        # crossover\n",
    "        individual_c1, individual_c2 = crossover(individual_s1, individual_s2)\n",
    "        \n",
    "        # mutation\n",
    "        individual_m1 = mutate(individual_c1)\n",
    "        individual_m2 = mutate(individual_c2)\n",
    "        \n",
    "        new_population.append(individual_m1)\n",
    "        new_population.append(individual_m2)            \n",
    "            \n",
    "    # update population\n",
    "    population = new_population"
   ]
  },
  {
   "cell_type": "code",
   "execution_count": 29,
   "id": "d53eb3c8",
   "metadata": {},
   "outputs": [
    {
     "name": "stdout",
     "output_type": "stream",
     "text": [
      "[1.9849754992773416, 0.7772190375815891]\n"
     ]
    }
   ],
   "source": [
    "sorted_population = sorted(population, key=compute_fitness)\n",
    "print(sorted_population[-1])"
   ]
  },
  {
   "cell_type": "code",
   "execution_count": 30,
   "id": "4b3db934",
   "metadata": {},
   "outputs": [
    {
     "data": {
      "image/png": "[encoded data removed]",
      "text/plain": [
       "<Figure size 1000x600 with 1 Axes>"
      ]
     },
     "metadata": {},
     "output_type": "display_data"
    }
   ],
   "source": [
    "import matplotlib.pyplot as plt\n",
    "\n",
    "fig, ax = plt.subplots(figsize=(10, 6))\n",
    "ax.set_ylim((0, 9))\n",
    "ax.set_xlim((0, 7))\n",
    "\n",
    "plt.scatter(X[:, 1], y)\n",
    "plt.ylabel('House Price')\n",
    "plt.xlabel('Area')\n",
    "\n",
    "x_data = list(range(0, 7))\n",
    "y_data = [0.934*x + 1.554 for x in x_data]\n",
    "plt.plot(x_data, y_data,c='green')    \n",
    "plt.show()"
   ]
  },
  {
   "cell_type": "code",
   "execution_count": 32,
   "id": "81a242ab",
   "metadata": {},
   "outputs": [
    {
     "data": {
      "image/png": "[encoded data removed]",
      "text/plain": [
       "<Figure size 640x480 with 1 Axes>"
      ]
     },
     "metadata": {},
     "output_type": "display_data"
    }
   ],
   "source": [
    "import matplotlib.pyplot as plt\n",
    "\n",
    "plt.plot(losses[:20], c='green')\n",
    "plt.xlabel('Generations')\n",
    "plt.ylabel('losses')\n",
    "plt.show()"
   ]
  },
  {
   "cell_type": "code",
   "execution_count": null,
   "id": "010b6fba",
   "metadata": {},
   "outputs": [],
   "source": []
  }
 ],
 "metadata": {
  "kernelspec": {
   "display_name": "venv",
   "language": "python",
   "name": "python3"
  },
  "language_info": {
   "codemirror_mode": {
    "name": "ipython",
    "version": 3
   },
   "file_extension": ".py",
   "mimetype": "text/x-python",
   "name": "python",
   "nbconvert_exporter": "python",
   "pygments_lexer": "ipython3",
   "version": "3.13.5"
  }
 },
 "nbformat": 4,
 "nbformat_minor": 5
}

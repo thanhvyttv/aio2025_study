{
 "cells": [
  {
   "cell_type": "code",
   "execution_count": null,
   "id": "37ad40c3",
   "metadata": {},
   "outputs": [
    {
     "name": "stdout",
     "output_type": "stream",
     "text": [
      "[['Sunny' 'Hot' 'High' 'Weak' 'no']\n",
      " ['Sunny' 'Hot' 'High' 'Strong' 'no']\n",
      " ['Overcast' 'Hot' 'High' 'Weak' 'yes']\n",
      " ['Rain' 'Mild' 'High' 'Weak' 'yes']\n",
      " ['Rain' 'Cool' 'Normal' 'Weak' 'yes']\n",
      " ['Rain' 'Cool' 'Normal' 'Strong' 'no']\n",
      " ['Overcast' 'Cool' 'Normal' 'Strong' 'yes']\n",
      " ['Overcast' 'Mild' 'High' 'Weak' 'no']\n",
      " ['Sunny' 'Cool' 'Normal' 'Weak' 'yes']\n",
      " ['Rain' 'Mild' 'Normal' 'Weak' 'yes']]\n",
      "(10, 5)\n",
      "['Rain' 'Cool' 'Normal' 'Weak' 'yes']\n"
     ]
    }
   ],
   "source": [
    "import numpy as np\n",
    "\n",
    "\n",
    "def create_training_data():\n",
    "    data = [\n",
    "        [\"Sunny\", \"Hot\", \"High\", \"Weak\", \"no\"],\n",
    "        [\"Sunny\", \"Hot\", \"High\", \"Strong\", \"no\"],\n",
    "        [\"Overcast\", \"Hot\", \"High\", \"Weak\", \"yes\"],\n",
    "        [\"Rain\", \"Mild\", \"High\", \"Weak\", \"yes\"],\n",
    "        [\"Rain\", \"Cool\", \"Normal\", \"Weak\", \"yes\"],\n",
    "        [\"Rain\", \"Cool\", \"Normal\", \"Strong\", \"no\"],\n",
    "        [\"Overcast\", \"Cool\", \"Normal\", \"Strong\", \"yes\"],\n",
    "        [\"Overcast\", \"Mild\", \"High\", \"Weak\", \"no\"],\n",
    "        [\"Sunny\", \"Cool\", \"Normal\", \"Weak\", \"yes\"],\n",
    "        [\"Rain\", \"Mild\", \"Normal\", \"Weak\", \"yes\"],\n",
    "    ]\n",
    "    return np.array(data)\n",
    "\n",
    "\n",
    "train_data = create_training_data()\n",
    "print(train_data)\n",
    "print(train_data.shape)"
   ]
  },
  {
   "cell_type": "code",
   "execution_count": null,
   "id": "53e59ab2",
   "metadata": {},
   "outputs": [
    {
     "name": "stdout",
     "output_type": "stream",
     "text": [
      "P('Play Tennis' = No) 0.4\n",
      "P('Play Tennis' = Yes) 0.6\n"
     ]
    }
   ],
   "source": [
    "def compute_prior_probabilities(train_data):\n",
    "    class_names = [\"no\", \"yes\"]\n",
    "    total_samples = len(train_data)\n",
    "    prior_probs = np.zeros(len(class_names))\n",
    "    # your code here\n",
    "    labels = train_data[:, -1]\n",
    "    for i, class_name in enumerate(class_names):\n",
    "        count = np.sum(labels == class_name)\n",
    "        prior_probs[i] = count / total_samples\n",
    "\n",
    "    return prior_probs\n",
    "\n",
    "\n",
    "prior_probability = compute_prior_probabilities(train_data)\n",
    "print(\"P('Play Tennis' = No)\", prior_probability[0])\n",
    "print(\"P('Play Tennis' = Yes)\", prior_probability[1])"
   ]
  },
  {
   "cell_type": "code",
   "execution_count": null,
   "id": "3c9102ed",
   "metadata": {},
   "outputs": [
    {
     "name": "stdout",
     "output_type": "stream",
     "text": [
      "[array([[0.25      , 0.25      , 0.5       ],\n",
      "       [0.33333333, 0.5       , 0.16666667]]), array([[0.25      , 0.5       , 0.25      ],\n",
      "       [0.5       , 0.16666667, 0.33333333]]), array([[0.75      , 0.25      ],\n",
      "       [0.33333333, 0.66666667]]), array([[0.5       , 0.5       ],\n",
      "       [0.16666667, 0.83333333]])]\n",
      "x1 =  ['Overcast' 'Rain' 'Sunny']\n",
      "x2 =  ['Cool' 'Hot' 'Mild']\n",
      "x3 =  ['High' 'Normal']\n",
      "x4 =  ['Strong' 'Weak']\n"
     ]
    }
   ],
   "source": [
    "def compute_conditional_probabilities(train_data):\n",
    "    class_names = [\"no\", \"yes\"]\n",
    "    n_features = train_data.shape[1] - 1  # Exclude target column\n",
    "    conditional_probs = []\n",
    "    feature_values = []\n",
    "    labels = train_data[:, -1]\n",
    "\n",
    "    for feature_idx in range(n_features):\n",
    "        unique_values = np.unique(train_data[:, feature_idx])\n",
    "        feature_values.append(unique_values)\n",
    "\n",
    "        feature_cond_probs = np.zeros((len(class_names), len(unique_values)))\n",
    "\n",
    "        for class_idx, class_name in enumerate(class_names):\n",
    "            # get samples for this class\n",
    "            samples_in_class = train_data[labels == class_name]\n",
    "            feature_col_in_class = samples_in_class[:, feature_idx]\n",
    "            count_class = np.sum(labels == class_name)\n",
    "\n",
    "            for value_idx, value in enumerate(unique_values):\n",
    "                # count occurrences of this feature value in this class\n",
    "                count_val_in_class = np.sum(feature_col_in_class == value)\n",
    "                # calculate conditional probability\n",
    "                conditinal_probability = count_val_in_class / count_class\n",
    "\n",
    "                feature_cond_probs[class_idx, value_idx] = conditinal_probability\n",
    "        conditional_probs.append(feature_cond_probs)\n",
    "\n",
    "    return conditional_probs, feature_values\n",
    "\n",
    "\n",
    "# Test\n",
    "_, feature_values = compute_conditional_probabilities(train_data)\n",
    "print(_)\n",
    "print(\"x1 = \", feature_values[0])\n",
    "print(\"x2 = \", feature_values[1])\n",
    "print(\"x3 = \", feature_values[2])\n",
    "print(\"x4 = \", feature_values[3])"
   ]
  },
  {
   "cell_type": "code",
   "execution_count": null,
   "id": "acce16ce",
   "metadata": {},
   "outputs": [
    {
     "name": "stdout",
     "output_type": "stream",
     "text": [
      "Index of 'Overcast': 0\n",
      "Index of 'Rain': 1\n",
      "Index of 'Sunny': 2\n",
      "Combined print: 0, 1, 2\n"
     ]
    }
   ],
   "source": [
    "def get_feature_index(feature_value, feature_values):\n",
    "    index_array = np.where(feature_values == feature_value)\n",
    "    if len(index_array[0] > 0):\n",
    "        return index_array[0][0]\n",
    "    else:\n",
    "        return -1\n",
    "\n",
    "\n",
    "train_data = create_training_data()\n",
    "_, feature_values = compute_conditional_probabilities(train_data)\n",
    "\n",
    "outlook = feature_values[0]\n",
    "\n",
    "i1 = get_feature_index(\"Overcast\", outlook)\n",
    "i2 = get_feature_index(\"Rain\", outlook)\n",
    "i3 = get_feature_index(\"Sunny\", outlook)\n",
    "\n",
    "print(f\"Index of 'Overcast': {i1}\")\n",
    "print(f\"Index of 'Rain': {i2}\")\n",
    "print(f\"Index of 'Sunny': {i3}\")\n",
    "print(f\"Combined print: {i1}, {i2}, {i3}\")"
   ]
  },
  {
   "cell_type": "code",
   "execution_count": null,
   "id": "410542c9",
   "metadata": {},
   "outputs": [
    {
     "name": "stdout",
     "output_type": "stream",
     "text": [
      "[0.4 0.6] [array([[0.25      , 0.25      , 0.5       ],\n",
      "       [0.33333333, 0.5       , 0.16666667]]), array([[0.25      , 0.5       , 0.25      ],\n",
      "       [0.5       , 0.16666667, 0.33333333]]), array([[0.75      , 0.25      ],\n",
      "       [0.33333333, 0.66666667]]), array([[0.5       , 0.5       ],\n",
      "       [0.16666667, 0.83333333]])] [array(['Overcast', 'Rain', 'Sunny'], dtype='<U8'), array(['Cool', 'Hot', 'Mild'], dtype='<U8'), array(['High', 'Normal'], dtype='<U8'), array(['Strong', 'Weak'], dtype='<U8')]\n"
     ]
    }
   ],
   "source": [
    "def train_naive_bayes(train_data):\n",
    "    prior_probabilities = compute_prior_probabilities(train_data)\n",
    "\n",
    "    conditional_probabilites, feature_names = compute_conditional_probabilities(\n",
    "        train_data\n",
    "    )\n",
    "\n",
    "    return prior_probabilities, conditional_probabilites, feature_names\n",
    "\n",
    "\n",
    "prior_probs, conditional_probs, feature_names = train_naive_bayes(train_data)\n",
    "\n",
    "print(prior_probs, conditional_probs, feature_names)"
   ]
  },
  {
   "cell_type": "code",
   "execution_count": null,
   "id": "348bfd4c",
   "metadata": {},
   "outputs": [
    {
     "name": "stdout",
     "output_type": "stream",
     "text": [
      "no\n",
      "{'no': 0.87, 'yes': 0.13}\n"
     ]
    }
   ],
   "source": [
    "def predict_tennis(X, prior_probabilities, conditional_probabilites, feature_names):\n",
    "    class_names = [\"no\", \"yes\"]\n",
    "    feature_indices = []\n",
    "    for i, feature_value in enumerate(X):\n",
    "        feature_indices.append(get_feature_index(feature_value, feature_names[i]))\n",
    "\n",
    "    class_probabilities = []\n",
    "\n",
    "    for class_idx in range(len(class_names)):\n",
    "        # start with prior probability\n",
    "        current_class_prob = prior_probabilities[class_idx]\n",
    "        # Multiply by conditional probabilities\n",
    "        for feature_idx_in_X, val_index in enumerate(feature_indices):\n",
    "            cond_prob = conditional_probabilites[feature_idx_in_X][class_idx, val_index]\n",
    "            current_class_prob *= cond_prob\n",
    "        class_probabilities.append(current_class_prob)\n",
    "\n",
    "    total_prob = sum(class_probabilities)\n",
    "    if total_prob > 0:\n",
    "        normalized_probs = [p / total_prob for p in class_probabilities]\n",
    "    else:\n",
    "        normalized_probs = [0.5, 0.5]\n",
    "\n",
    "    predicted_class_idx = np.argmax(class_probabilities)\n",
    "    prediction = class_names[predicted_class_idx]\n",
    "\n",
    "    prob_dict = {\n",
    "        \"no\": round(normalized_probs[0].item(), 2),\n",
    "        \"yes\": round(normalized_probs[1].item(), 2),\n",
    "    }\n",
    "\n",
    "    return prediction, prob_dict\n",
    "\n",
    "\n",
    "X = [\"Sunny\", \"Cool\", \"High\", \"Strong\"]\n",
    "prior_probs, conditional_probs, feature_names = train_naive_bayes(train_data)\n",
    "prediction, prob_dict = predict_tennis(X, prior_probs, conditional_probs, feature_names)\n",
    "print(prediction)\n",
    "print(prob_dict)"
   ]
  },
  {
   "cell_type": "code",
   "execution_count": null,
   "id": "65d3997d",
   "metadata": {},
   "outputs": [],
   "source": []
  }
 ],
 "metadata": {
  "kernelspec": {
   "display_name": "pytorch_intel_env",
   "language": "python",
   "name": "python3"
  },
  "language_info": {
   "codemirror_mode": {
    "name": "ipython",
    "version": 3
   },
   "file_extension": ".py",
   "mimetype": "text/x-python",
   "name": "python",
   "nbconvert_exporter": "python",
   "pygments_lexer": "ipython3",
   "version": "3.11.13"
  }
 },
 "nbformat": 4,
 "nbformat_minor": 5
}

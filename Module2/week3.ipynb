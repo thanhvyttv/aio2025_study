{
 "cells": [
  {
   "cell_type": "code",
   "execution_count": 5,
   "id": "c81ec708",
   "metadata": {},
   "outputs": [
    {
     "name": "stdout",
     "output_type": "stream",
     "text": [
      "Mean :  1.8\n"
     ]
    }
   ],
   "source": [
    "import numpy as np\n",
    "\n",
    "\n",
    "def compute_mean(X):\n",
    "    return np.mean(X)\n",
    "\n",
    "\n",
    "X = [2, 0, 2, 2, 7, 4, -2, 5, -1, -1]\n",
    "print(\"Mean : \", compute_mean(X))"
   ]
  },
  {
   "cell_type": "code",
   "execution_count": 6,
   "id": "a2bf7002",
   "metadata": {},
   "outputs": [
    {
     "name": "stdout",
     "output_type": "stream",
     "text": [
      "Median :  4.5\n",
      "Median :  5\n"
     ]
    }
   ],
   "source": [
    "def compute_median(X):\n",
    "    size = len(X)\n",
    "    X = np.sort(X)\n",
    "    if size % 2 == 0:\n",
    "        return (X[int(size / 2)] + X[int(size / 2) - 1]) / 2\n",
    "    else:\n",
    "\n",
    "        return X[int(size // 2)]\n",
    "\n",
    "\n",
    "X = [1, 5, 4, 4, 9, 13]\n",
    "Y = [1, 5, 4, 4, 9, 13, 8]\n",
    "\n",
    "print(\"Median : \", compute_median(X))\n",
    "print(\"Median : \", compute_median(Y))"
   ]
  },
  {
   "cell_type": "code",
   "execution_count": 7,
   "id": "68aa6b64",
   "metadata": {},
   "outputs": [
    {
     "name": "stdout",
     "output_type": "stream",
     "text": [
      "8.32666399786453\n"
     ]
    }
   ],
   "source": [
    "def compute_std(X):\n",
    "    mean = compute_mean(X)\n",
    "    variance = 0\n",
    "    for x in X:\n",
    "        variance += (x - mean) ** 2\n",
    "    variance = variance / len(X)\n",
    "\n",
    "    return np.sqrt(variance)\n",
    "\n",
    "\n",
    "X = [171, 176, 155, 167, 169, 182]\n",
    "print(compute_std(X))"
   ]
  },
  {
   "cell_type": "code",
   "execution_count": null,
   "id": "7922f514",
   "metadata": {},
   "outputs": [
    {
     "name": "stdout",
     "output_type": "stream",
     "text": [
      "Correlation:  0.42\n"
     ]
    }
   ],
   "source": [
    "def compute_correlation_cofficient(X, Y):\n",
    "    N = len(X)\n",
    "\n",
    "    # Calculate sums required for the raw score formula\n",
    "    sum_XY = np.sum(X * Y)\n",
    "    sum_X = np.sum(X)\n",
    "    sum_Y = np.sum(Y)\n",
    "    sum_X_squared = np.sum(X**2)\n",
    "    sum_Y_squared = np.sum(Y**2)\n",
    "\n",
    "    # Calculate the numerator\n",
    "    numerator = (N * sum_XY) - (sum_X * sum_Y)\n",
    "\n",
    "    # Calculate the components for the denominator\n",
    "    part1_denominator = (N * sum_X_squared) - (sum_X**2)\n",
    "    part2_denominator = (N * sum_Y_squared) - (sum_Y**2)\n",
    "\n",
    "    # Calculate the denominator\n",
    "    denominator = np.sqrt(part1_denominator * part2_denominator)\n",
    "\n",
    "    # Handle the case where the denominator is zero (e.g., no variance in X or Y)\n",
    "    if denominator == 0:\n",
    "        return 0.0  # Or np.nan, depending on desired behavior\n",
    "\n",
    "    return np.round(numerator / denominator, 2)\n",
    "\n",
    "\n",
    "X = np.asarray([-2, -5, -11, 6, 4, 15, 9])\n",
    "Y = np.asarray([4, 25, 121, 36, 16, 225, 81])\n",
    "\n",
    "print(\"Correlation: \", compute_correlation_cofficient(X, Y))"
   ]
  },
  {
   "cell_type": "code",
   "execution_count": null,
   "id": "323a6956",
   "metadata": {},
   "outputs": [
    {
     "name": "stdout",
     "output_type": "stream",
     "text": [
      "Correlation Coeficient of TV and TV: 1.0\n",
      "Correlation Coeficient of TV and Radio: 0.05\n",
      "Correlation Coeficient of TV and Newspaper: 0.06\n",
      "Correlation Coeficient of Radio and TV: 0.05\n",
      "Correlation Coeficient of Radio and Radio: 1.0\n",
      "Correlation Coeficient of Radio and Newspaper: 0.35\n",
      "Correlation Coeficient of Newspaper and TV: 0.06\n",
      "Correlation Coeficient of Newspaper and Radio: 0.35\n",
      "Correlation Coeficient of Newspaper and Newspaper: 1.0\n"
     ]
    }
   ],
   "source": [
    "import pandas as pd\n",
    "\n",
    "data = pd.read_csv(\"./data/advertising.csv\")\n",
    "\n",
    "\n",
    "def correlation(x, y):\n",
    "    return np.corrcoef(x, y)\n",
    "\n",
    "\n",
    "features = [\"TV\", \"Radio\", \"Newspaper\"]\n",
    "for feature_1 in features:\n",
    "    for feature_2 in features:\n",
    "        correlation_value = compute_correlation_cofficient(\n",
    "            data[feature_1], data[feature_2]\n",
    "        )\n",
    "        print(\n",
    "            f\"Correlation Coeficient of {feature_1} and {feature_2}: {np.round(correlation_value, 2)}\"\n",
    "        )"
   ]
  },
  {
   "cell_type": "code",
   "execution_count": null,
   "id": "3c6f09d4",
   "metadata": {},
   "outputs": [
    {
     "name": "stdout",
     "output_type": "stream",
     "text": [
      "                 TV     Radio  Newspaper     Sales\n",
      "TV         1.000000  0.054809   0.056648  0.901208\n",
      "Radio      0.054809  1.000000   0.354104  0.349631\n",
      "Newspaper  0.056648  0.354104   1.000000  0.157960\n",
      "Sales      0.901208  0.349631   0.157960  1.000000\n"
     ]
    }
   ],
   "source": [
    "x = data[\"TV\"]\n",
    "y = data[\"Newspaper\"]\n",
    "result = np.corrcoef(x, y)\n",
    "data_corr = data.corr()\n",
    "print(data.corr())"
   ]
  },
  {
   "cell_type": "code",
   "execution_count": null,
   "id": "598a6612",
   "metadata": {},
   "outputs": [
    {
     "data": {
      "image/png": "[encoded data removed]",
      "text/plain": [
       "<Figure size 1000x800 with 2 Axes>"
      ]
     },
     "metadata": {},
     "output_type": "display_data"
    }
   ],
   "source": [
    "import matplotlib.pyplot as plt\n",
    "import seaborn as sns\n",
    "\n",
    "plt.figure(figsize=(10, 8))\n",
    "sns.heatmap(data_corr, annot=True, fmt=\".2f\", linewidth=0.5)\n",
    "plt.show()"
   ]
  },
  {
   "cell_type": "code",
   "execution_count": null,
   "id": "f680be76",
   "metadata": {},
   "outputs": [],
   "source": []
  }
 ],
 "metadata": {
  "kernelspec": {
   "display_name": "pytorch_intel_env",
   "language": "python",
   "name": "python3"
  },
  "language_info": {
   "codemirror_mode": {
    "name": "ipython",
    "version": 3
   },
   "file_extension": ".py",
   "mimetype": "text/x-python",
   "name": "python",
   "nbconvert_exporter": "python",
   "pygments_lexer": "ipython3",
   "version": "3.11.13"
  }
 },
 "nbformat": 4,
 "nbformat_minor": 5
}

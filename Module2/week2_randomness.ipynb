{
 "cells": [
  {
   "cell_type": "code",
   "execution_count": null,
   "id": "45b97a60",
   "metadata": {},
   "outputs": [
    {
     "name": "stdout",
     "output_type": "stream",
     "text": [
      "[1 9 7 8 1]\n"
     ]
    }
   ],
   "source": [
    "import numpy as np\n",
    "\n",
    "possibilities = np.array([1, 2, 3, 4, 5, 6, 7, 8, 9])\n",
    "\n",
    "size = 5\n",
    "\n",
    "sample = np.random.choice(\n",
    "    possibilities, size\n",
    ")  # cứ mỗi lần chạy sẽ ra kết quả khác nhau\n",
    "\n",
    "print(sample)"
   ]
  },
  {
   "cell_type": "code",
   "execution_count": 4,
   "id": "1d77806b",
   "metadata": {},
   "outputs": [
    {
     "name": "stdout",
     "output_type": "stream",
     "text": [
      "[9.87494319 5.61022177 4.59511415 3.95999539 2.80022059 9.69523185\n",
      " 8.39748924 0.82216804 3.06089696 7.48707246]\n"
     ]
    }
   ],
   "source": [
    "# Uniform distribution\n",
    "low = 0\n",
    "high = 10\n",
    "size = 10\n",
    "\n",
    "sample = np.random.uniform(low, high, size)\n",
    "\n",
    "print(sample)"
   ]
  },
  {
   "cell_type": "code",
   "execution_count": 5,
   "id": "48f5458c",
   "metadata": {},
   "outputs": [
    {
     "name": "stdout",
     "output_type": "stream",
     "text": [
      "Tổng số lần tung đồng xu: 10000\n",
      "Tổng số lần mặt sấp xuất hiện: 5047\n",
      "Tổng số lần mặt ngửa xuất hiện: 4953\n"
     ]
    }
   ],
   "source": [
    "import random\n",
    "\n",
    "# Tổng số lần tung đồng xu\n",
    "total_flips = 0\n",
    "\n",
    "# Số lần mặt sấp xuất hiện\n",
    "total_tails = 0\n",
    "\n",
    "# Số lần mặt ngửa xuất hiện\n",
    "total_heads = 0\n",
    "\n",
    "for _ in range(10_000):\n",
    "    # Tung đồng xu\n",
    "    flip = random.randint(0, 1)\n",
    "    if flip == 0:\n",
    "        total_heads += 1\n",
    "    else:\n",
    "        total_tails += 1\n",
    "\n",
    "    total_flips += 1\n",
    "\n",
    "print(\"Tổng số lần tung đồng xu:\", total_flips)\n",
    "print(\"Tổng số lần mặt sấp xuất hiện:\", total_tails)\n",
    "print(\"Tổng số lần mặt ngửa xuất hiện:\", total_heads)"
   ]
  },
  {
   "cell_type": "code",
   "execution_count": null,
   "id": "cb66730b",
   "metadata": {},
   "outputs": [],
   "source": []
  }
 ],
 "metadata": {
  "kernelspec": {
   "display_name": "venv",
   "language": "python",
   "name": "python3"
  },
  "language_info": {
   "codemirror_mode": {
    "name": "ipython",
    "version": 3
   },
   "file_extension": ".py",
   "mimetype": "text/x-python",
   "name": "python",
   "nbconvert_exporter": "python",
   "pygments_lexer": "ipython3",
   "version": "3.13.4"
  }
 },
 "nbformat": 4,
 "nbformat_minor": 5
}

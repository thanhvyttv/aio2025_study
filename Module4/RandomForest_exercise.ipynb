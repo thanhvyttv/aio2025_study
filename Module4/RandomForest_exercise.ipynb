{
 "cells": [
  {
   "cell_type": "code",
   "execution_count": null,
   "id": "979ff652",
   "metadata": {},
   "outputs": [],
   "source": [
    "import pandas as pd\n",
    "import matplotlib.pyplot as plt\n",
    "import seaborn as sns\n",
    "from sklearn.ensemble import (\n",
    "    RandomForestRegressor,\n",
    "    AdaBoostRegressor,\n",
    "    GradientBoostingRegressor,\n",
    ")\n",
    "from sklearn.preprocessing import OrdinalEncoder, StandardScaler\n",
    "from sklearn.model_selection import train_test_split\n",
    "from sklearn.metrics import (\n",
    "    mean_absolute_error,\n",
    "    mean_squared_error,\n",
    "    r2_score,\n",
    "    accuracy_score,\n",
    ")"
   ]
  },
  {
   "cell_type": "code",
   "execution_count": null,
   "id": "d5d7c067",
   "metadata": {},
   "outputs": [
    {
     "name": "stdout",
     "output_type": "stream",
     "text": [
      "      price  area  bedrooms  ...  parking  prefarea furnishingstatus\n",
      "0  13300000  7420         4  ...        2       yes        furnished\n",
      "1  12250000  8960         4  ...        3        no        furnished\n",
      "2  12250000  9960         3  ...        2       yes   semi-furnished\n",
      "3  12215000  7500         4  ...        3       yes        furnished\n",
      "4  11410000  7420         4  ...        2        no        furnished\n",
      "\n",
      "[5 rows x 13 columns]\n"
     ]
    }
   ],
   "source": [
    "# Load dataset\n",
    "df = pd.read_csv(\"./data/Housing.csv\")\n",
    "print(df.head())"
   ]
  },
  {
   "cell_type": "code",
   "execution_count": null,
   "id": "063b06a0",
   "metadata": {},
   "outputs": [
    {
     "name": "stdout",
     "output_type": "stream",
     "text": [
      "['mainroad', 'guestroom', 'basement', 'hotwaterheating', 'airconditioning', 'prefarea', 'furnishingstatus']\n"
     ]
    }
   ],
   "source": [
    "# Encoding những columns không phải dạng số thành dạng số để dễ xử lý\n",
    "\n",
    "# Lấy ra columns không có dạng số\n",
    "categorical_cols = df.select_dtypes(include=[\"object\"]).columns.to_list()\n",
    "\n",
    "print(categorical_cols)"
   ]
  },
  {
   "cell_type": "code",
   "execution_count": null,
   "id": "30e4d15c",
   "metadata": {},
   "outputs": [
    {
     "data": {
      "text/html": [
       "<div>\n",
       "<style scoped>\n",
       "    .dataframe tbody tr th:only-of-type {\n",
       "        vertical-align: middle;\n",
       "    }\n",
       "\n",
       "    .dataframe tbody tr th {\n",
       "        vertical-align: top;\n",
       "    }\n",
       "\n",
       "    .dataframe thead th {\n",
       "        text-align: right;\n",
       "    }\n",
       "</style>\n",
       "<table border=\"1\" class=\"dataframe\">\n",
       "  <thead>\n",
       "    <tr style=\"text-align: right;\">\n",
       "      <th></th>\n",
       "      <th>mainroad</th>\n",
       "      <th>guestroom</th>\n",
       "      <th>basement</th>\n",
       "      <th>hotwaterheating</th>\n",
       "      <th>airconditioning</th>\n",
       "      <th>prefarea</th>\n",
       "      <th>furnishingstatus</th>\n",
       "    </tr>\n",
       "  </thead>\n",
       "  <tbody>\n",
       "    <tr>\n",
       "      <th>0</th>\n",
       "      <td>1.0</td>\n",
       "      <td>0.0</td>\n",
       "      <td>0.0</td>\n",
       "      <td>0.0</td>\n",
       "      <td>1.0</td>\n",
       "      <td>1.0</td>\n",
       "      <td>0.0</td>\n",
       "    </tr>\n",
       "    <tr>\n",
       "      <th>1</th>\n",
       "      <td>1.0</td>\n",
       "      <td>0.0</td>\n",
       "      <td>0.0</td>\n",
       "      <td>0.0</td>\n",
       "      <td>1.0</td>\n",
       "      <td>0.0</td>\n",
       "      <td>0.0</td>\n",
       "    </tr>\n",
       "    <tr>\n",
       "      <th>2</th>\n",
       "      <td>1.0</td>\n",
       "      <td>0.0</td>\n",
       "      <td>1.0</td>\n",
       "      <td>0.0</td>\n",
       "      <td>0.0</td>\n",
       "      <td>1.0</td>\n",
       "      <td>1.0</td>\n",
       "    </tr>\n",
       "    <tr>\n",
       "      <th>3</th>\n",
       "      <td>1.0</td>\n",
       "      <td>0.0</td>\n",
       "      <td>1.0</td>\n",
       "      <td>0.0</td>\n",
       "      <td>1.0</td>\n",
       "      <td>1.0</td>\n",
       "      <td>0.0</td>\n",
       "    </tr>\n",
       "    <tr>\n",
       "      <th>4</th>\n",
       "      <td>1.0</td>\n",
       "      <td>1.0</td>\n",
       "      <td>1.0</td>\n",
       "      <td>0.0</td>\n",
       "      <td>1.0</td>\n",
       "      <td>0.0</td>\n",
       "      <td>0.0</td>\n",
       "    </tr>\n",
       "    <tr>\n",
       "      <th>...</th>\n",
       "      <td>...</td>\n",
       "      <td>...</td>\n",
       "      <td>...</td>\n",
       "      <td>...</td>\n",
       "      <td>...</td>\n",
       "      <td>...</td>\n",
       "      <td>...</td>\n",
       "    </tr>\n",
       "    <tr>\n",
       "      <th>540</th>\n",
       "      <td>1.0</td>\n",
       "      <td>0.0</td>\n",
       "      <td>1.0</td>\n",
       "      <td>0.0</td>\n",
       "      <td>0.0</td>\n",
       "      <td>0.0</td>\n",
       "      <td>2.0</td>\n",
       "    </tr>\n",
       "    <tr>\n",
       "      <th>541</th>\n",
       "      <td>0.0</td>\n",
       "      <td>0.0</td>\n",
       "      <td>0.0</td>\n",
       "      <td>0.0</td>\n",
       "      <td>0.0</td>\n",
       "      <td>0.0</td>\n",
       "      <td>1.0</td>\n",
       "    </tr>\n",
       "    <tr>\n",
       "      <th>542</th>\n",
       "      <td>1.0</td>\n",
       "      <td>0.0</td>\n",
       "      <td>0.0</td>\n",
       "      <td>0.0</td>\n",
       "      <td>0.0</td>\n",
       "      <td>0.0</td>\n",
       "      <td>2.0</td>\n",
       "    </tr>\n",
       "    <tr>\n",
       "      <th>543</th>\n",
       "      <td>0.0</td>\n",
       "      <td>0.0</td>\n",
       "      <td>0.0</td>\n",
       "      <td>0.0</td>\n",
       "      <td>0.0</td>\n",
       "      <td>0.0</td>\n",
       "      <td>0.0</td>\n",
       "    </tr>\n",
       "    <tr>\n",
       "      <th>544</th>\n",
       "      <td>1.0</td>\n",
       "      <td>0.0</td>\n",
       "      <td>0.0</td>\n",
       "      <td>0.0</td>\n",
       "      <td>0.0</td>\n",
       "      <td>0.0</td>\n",
       "      <td>2.0</td>\n",
       "    </tr>\n",
       "  </tbody>\n",
       "</table>\n",
       "<p>545 rows × 7 columns</p>\n",
       "</div>"
      ],
      "text/plain": [
       "     mainroad  guestroom  basement  ...  airconditioning  prefarea  furnishingstatus\n",
       "0         1.0        0.0       0.0  ...              1.0       1.0               0.0\n",
       "1         1.0        0.0       0.0  ...              1.0       0.0               0.0\n",
       "2         1.0        0.0       1.0  ...              0.0       1.0               1.0\n",
       "3         1.0        0.0       1.0  ...              1.0       1.0               0.0\n",
       "4         1.0        1.0       1.0  ...              1.0       0.0               0.0\n",
       "..        ...        ...       ...  ...              ...       ...               ...\n",
       "540       1.0        0.0       1.0  ...              0.0       0.0               2.0\n",
       "541       0.0        0.0       0.0  ...              0.0       0.0               1.0\n",
       "542       1.0        0.0       0.0  ...              0.0       0.0               2.0\n",
       "543       0.0        0.0       0.0  ...              0.0       0.0               0.0\n",
       "544       1.0        0.0       0.0  ...              0.0       0.0               2.0\n",
       "\n",
       "[545 rows x 7 columns]"
      ]
     },
     "execution_count": 6,
     "metadata": {},
     "output_type": "execute_result"
    }
   ],
   "source": [
    "# Dùng OrdinalEncoder để convert những columns trên sang dạng số\n",
    "ordinal_encoder = OrdinalEncoder()\n",
    "encoded_categorical_cols = ordinal_encoder.fit_transform(df[categorical_cols])\n",
    "encoded_categorical_df = pd.DataFrame(\n",
    "    encoded_categorical_cols, columns=categorical_cols\n",
    ")\n",
    "encoded_categorical_df"
   ]
  },
  {
   "cell_type": "code",
   "execution_count": null,
   "id": "4a1b63af",
   "metadata": {},
   "outputs": [
    {
     "name": "stdout",
     "output_type": "stream",
     "text": [
      "        price  area  bedrooms  ...  airconditioning  prefarea  furnishingstatus\n",
      "0    13300000  7420         4  ...              1.0       1.0               0.0\n",
      "1    12250000  8960         4  ...              1.0       0.0               0.0\n",
      "2    12250000  9960         3  ...              0.0       1.0               1.0\n",
      "3    12215000  7500         4  ...              1.0       1.0               0.0\n",
      "4    11410000  7420         4  ...              1.0       0.0               0.0\n",
      "..        ...   ...       ...  ...              ...       ...               ...\n",
      "540   1820000  3000         2  ...              0.0       0.0               2.0\n",
      "541   1767150  2400         3  ...              0.0       0.0               1.0\n",
      "542   1750000  3620         2  ...              0.0       0.0               2.0\n",
      "543   1750000  2910         3  ...              0.0       0.0               0.0\n",
      "544   1750000  3850         3  ...              0.0       0.0               2.0\n",
      "\n",
      "[545 rows x 13 columns]\n"
     ]
    }
   ],
   "source": [
    "# Tách columns có dạng số ở df ban đầu và nối với columns không có dạng số đã được encoded để tạo ra df mới\n",
    "numerical_df = df.drop(categorical_cols, axis=1)\n",
    "encoded_df = pd.concat([numerical_df, encoded_categorical_df], axis=1)\n",
    "print(encoded_df)"
   ]
  },
  {
   "cell_type": "code",
   "execution_count": 10,
   "id": "db7c8d85",
   "metadata": {},
   "outputs": [
    {
     "name": "stdout",
     "output_type": "stream",
     "text": [
      "[[ 4.56636513  1.04672629  1.40341936 ...  1.4726183   1.80494113\n",
      "  -1.40628573]\n",
      " [ 4.00448405  1.75700953  1.40341936 ...  1.4726183  -0.55403469\n",
      "  -1.40628573]\n",
      " [ 4.00448405  2.21823241  0.04727831 ... -0.67906259  1.80494113\n",
      "  -0.09166185]\n",
      " ...\n",
      " [-1.61432675 -0.70592066 -1.30886273 ... -0.67906259 -0.55403469\n",
      "   1.22296203]\n",
      " [-1.61432675 -1.03338891  0.04727831 ... -0.67906259 -0.55403469\n",
      "  -1.40628573]\n",
      " [-1.61432675 -0.5998394   0.04727831 ... -0.67906259 -0.55403469\n",
      "   1.22296203]]\n"
     ]
    }
   ],
   "source": [
    "# Từ df mới, tiến hành normalization\n",
    "normalization = StandardScaler()\n",
    "dataset_arr = normalization.fit_transform(encoded_df)\n",
    "\n",
    "print(dataset_arr)"
   ]
  },
  {
   "cell_type": "code",
   "execution_count": null,
   "id": "e7259a19",
   "metadata": {},
   "outputs": [
    {
     "name": "stdout",
     "output_type": "stream",
     "text": [
      "Number of training samples: 381\n",
      "Number of val samples: 164\n"
     ]
    }
   ],
   "source": [
    "# Train Test Split\n",
    "X, y = dataset_arr[:, 1:], dataset_arr[:, 0]  # y = price\n",
    "test_size = 0.3\n",
    "random_state = 1\n",
    "is_shuffle = True\n",
    "\n",
    "X_train, X_val, y_train, y_val = train_test_split(\n",
    "    X, y, test_size=test_size, random_state=random_state, shuffle=is_shuffle\n",
    ")\n",
    "\n",
    "print(f\"Number of training samples: {X_train.shape[0]}\")\n",
    "print(f\"Number of val samples: {X_val.shape[0]}\")\n"
   ]
  },
  {
   "cell_type": "code",
   "execution_count": 12,
   "id": "b3afa008",
   "metadata": {},
   "outputs": [
    {
     "name": "stdout",
     "output_type": "stream",
     "text": [
      "Evaluation results on validation set:\n",
      "Mean Absolute Error: 0.46855804545893837\n",
      "Mean Squared Error: 0.39899228962513233\n"
     ]
    }
   ],
   "source": [
    "# Training bằng RandomForestRegressor\n",
    "regressor = RandomForestRegressor(n_estimators=100)\n",
    "regressor.fit(X_train, y_train)\n",
    "y_pred = regressor.predict(X_val)\n",
    "mae = mean_absolute_error(y_val, y_pred)\n",
    "mse = mean_squared_error(y_val, y_pred)\n",
    "\n",
    "print(\"Evaluation results on validation set:\")\n",
    "print(f\"Mean Absolute Error: {mae}\")\n",
    "print(f\"Mean Squared Error: {mse}\")"
   ]
  },
  {
   "cell_type": "code",
   "execution_count": null,
   "id": "5241aa07",
   "metadata": {},
   "outputs": [
    {
     "data": {
      "image/png": "[encoded data removed]",
      "text/plain": [
       "<Figure size 1000x800 with 1 Axes>"
      ]
     },
     "metadata": {},
     "output_type": "display_data"
    }
   ],
   "source": [
    "# Cấu hình Seaborn để biểu đồ trông đẹp hơn\n",
    "sns.set_style(\"whitegrid\")\n",
    "\n",
    "# Tạo một hình vẽ và một trục\n",
    "plt.figure(figsize=(10, 8))\n",
    "\n",
    "# Vẽ biểu đồ cho giá trị thực tế\n",
    "plt.scatter(X_val[:, 0], y_val, color=\"green\", label=\"True\", alpha=0.7, edgecolor=\"k\")\n",
    "\n",
    "# Vẽ biểu đồ cho giá trị dự đoán\n",
    "plt.scatter(\n",
    "    X_val[:, 0], y_pred, color=\"orange\", label=\"Prediction\", alpha=0.7, edgecolor=\"k\"\n",
    ")\n",
    "\n",
    "# Thêm tiêu đề và nhãn\n",
    "plt.title(\"Random Forest Regression\")\n",
    "plt.xlabel(\"Area\")\n",
    "plt.ylabel(\"Price\")\n",
    "\n",
    "# Thêm chú thích và lưới\n",
    "plt.legend()\n",
    "plt.grid(True)\n",
    "\n",
    "# Hiển thị biểu đồ\n",
    "plt.show()"
   ]
  },
  {
   "cell_type": "code",
   "execution_count": 18,
   "id": "771a7c3b",
   "metadata": {},
   "outputs": [
    {
     "name": "stdout",
     "output_type": "stream",
     "text": [
      "   ID Gender  Experience (Years)               Position  Salary\n",
      "0   1      F                   4        DevOps Engineer  109976\n",
      "1   2      M                   6        DevOps Engineer  120088\n",
      "2   3      M                  17          Web Developer  181301\n",
      "3   4      M                   7  Systems Administrator   77530\n",
      "4   5      F                  13  Systems Administrator  152397\n"
     ]
    }
   ],
   "source": [
    "# Load dataset\n",
    "df = pd.read_csv(\"./data/my_xxxx.csv\")\n",
    "print(df.head())"
   ]
  },
  {
   "cell_type": "code",
   "execution_count": 19,
   "id": "dbf3d091",
   "metadata": {},
   "outputs": [
    {
     "data": {
      "text/html": [
       "<div>\n",
       "<style scoped>\n",
       "    .dataframe tbody tr th:only-of-type {\n",
       "        vertical-align: middle;\n",
       "    }\n",
       "\n",
       "    .dataframe tbody tr th {\n",
       "        vertical-align: top;\n",
       "    }\n",
       "\n",
       "    .dataframe thead th {\n",
       "        text-align: right;\n",
       "    }\n",
       "</style>\n",
       "<table border=\"1\" class=\"dataframe\">\n",
       "  <thead>\n",
       "    <tr style=\"text-align: right;\">\n",
       "      <th></th>\n",
       "      <th>Gender</th>\n",
       "      <th>Position</th>\n",
       "    </tr>\n",
       "  </thead>\n",
       "  <tbody>\n",
       "    <tr>\n",
       "      <th>0</th>\n",
       "      <td>0.0</td>\n",
       "      <td>2.0</td>\n",
       "    </tr>\n",
       "    <tr>\n",
       "      <th>1</th>\n",
       "      <td>1.0</td>\n",
       "      <td>2.0</td>\n",
       "    </tr>\n",
       "    <tr>\n",
       "      <th>2</th>\n",
       "      <td>1.0</td>\n",
       "      <td>10.0</td>\n",
       "    </tr>\n",
       "    <tr>\n",
       "      <th>3</th>\n",
       "      <td>1.0</td>\n",
       "      <td>8.0</td>\n",
       "    </tr>\n",
       "    <tr>\n",
       "      <th>4</th>\n",
       "      <td>0.0</td>\n",
       "      <td>8.0</td>\n",
       "    </tr>\n",
       "    <tr>\n",
       "      <th>...</th>\n",
       "      <td>...</td>\n",
       "      <td>...</td>\n",
       "    </tr>\n",
       "    <tr>\n",
       "      <th>345</th>\n",
       "      <td>1.0</td>\n",
       "      <td>7.0</td>\n",
       "    </tr>\n",
       "    <tr>\n",
       "      <th>346</th>\n",
       "      <td>0.0</td>\n",
       "      <td>10.0</td>\n",
       "    </tr>\n",
       "    <tr>\n",
       "      <th>347</th>\n",
       "      <td>0.0</td>\n",
       "      <td>2.0</td>\n",
       "    </tr>\n",
       "    <tr>\n",
       "      <th>348</th>\n",
       "      <td>1.0</td>\n",
       "      <td>8.0</td>\n",
       "    </tr>\n",
       "    <tr>\n",
       "      <th>349</th>\n",
       "      <td>1.0</td>\n",
       "      <td>10.0</td>\n",
       "    </tr>\n",
       "  </tbody>\n",
       "</table>\n",
       "<p>350 rows × 2 columns</p>\n",
       "</div>"
      ],
      "text/plain": [
       "     Gender  Position\n",
       "0       0.0       2.0\n",
       "1       1.0       2.0\n",
       "2       1.0      10.0\n",
       "3       1.0       8.0\n",
       "4       0.0       8.0\n",
       "..      ...       ...\n",
       "345     1.0       7.0\n",
       "346     0.0      10.0\n",
       "347     0.0       2.0\n",
       "348     1.0       8.0\n",
       "349     1.0      10.0\n",
       "\n",
       "[350 rows x 2 columns]"
      ]
     },
     "execution_count": 19,
     "metadata": {},
     "output_type": "execute_result"
    }
   ],
   "source": [
    "categorical_cols = df.select_dtypes(include=[\"object\"]).columns.to_list()\n",
    "ordinal_encoder = OrdinalEncoder()\n",
    "encoded_categorical_cols = ordinal_encoder.fit_transform(df[categorical_cols])\n",
    "encoded_categorical_df = pd.DataFrame(\n",
    "    encoded_categorical_cols, columns=categorical_cols\n",
    ")\n",
    "encoded_categorical_df"
   ]
  },
  {
   "cell_type": "code",
   "execution_count": 20,
   "id": "42f567b4",
   "metadata": {},
   "outputs": [
    {
     "name": "stdout",
     "output_type": "stream",
     "text": [
      "      ID  Experience (Years)  Salary  Gender  Position\n",
      "0      1                   4  109976     0.0       2.0\n",
      "1      2                   6  120088     1.0       2.0\n",
      "2      3                  17  181301     1.0      10.0\n",
      "3      4                   7   77530     1.0       8.0\n",
      "4      5                  13  152397     0.0       8.0\n",
      "..   ...                 ...     ...     ...       ...\n",
      "345  346                   4  107647     1.0       7.0\n",
      "346  347                  12  147836     0.0      10.0\n",
      "347  348                  19  242819     0.0       2.0\n",
      "348  349                   9  115769     1.0       8.0\n",
      "349  350                  16   93819     1.0      10.0\n",
      "\n",
      "[350 rows x 5 columns]\n"
     ]
    }
   ],
   "source": [
    "# Tách columns có dạng số ở df ban đầu và nối với columns không có dạng số đã được encoded để tạo ra df mới\n",
    "numerical_df = df.drop(categorical_cols, axis=1)\n",
    "encoded_df = pd.concat([numerical_df, encoded_categorical_df], axis=1)\n",
    "print(encoded_df)"
   ]
  },
  {
   "cell_type": "code",
   "execution_count": null,
   "id": "53159cbc",
   "metadata": {},
   "outputs": [
    {
     "data": {
      "text/html": [
       "<div>\n",
       "<style scoped>\n",
       "    .dataframe tbody tr th:only-of-type {\n",
       "        vertical-align: middle;\n",
       "    }\n",
       "\n",
       "    .dataframe tbody tr th {\n",
       "        vertical-align: top;\n",
       "    }\n",
       "\n",
       "    .dataframe thead th {\n",
       "        text-align: right;\n",
       "    }\n",
       "</style>\n",
       "<table border=\"1\" class=\"dataframe\">\n",
       "  <thead>\n",
       "    <tr style=\"text-align: right;\">\n",
       "      <th></th>\n",
       "      <th>ID</th>\n",
       "      <th>Experience (Years)</th>\n",
       "      <th>Gender</th>\n",
       "      <th>Position</th>\n",
       "      <th>Salary</th>\n",
       "    </tr>\n",
       "  </thead>\n",
       "  <tbody>\n",
       "    <tr>\n",
       "      <th>0</th>\n",
       "      <td>1</td>\n",
       "      <td>4</td>\n",
       "      <td>0.0</td>\n",
       "      <td>2.0</td>\n",
       "      <td>109976</td>\n",
       "    </tr>\n",
       "    <tr>\n",
       "      <th>1</th>\n",
       "      <td>2</td>\n",
       "      <td>6</td>\n",
       "      <td>1.0</td>\n",
       "      <td>2.0</td>\n",
       "      <td>120088</td>\n",
       "    </tr>\n",
       "    <tr>\n",
       "      <th>2</th>\n",
       "      <td>3</td>\n",
       "      <td>17</td>\n",
       "      <td>1.0</td>\n",
       "      <td>10.0</td>\n",
       "      <td>181301</td>\n",
       "    </tr>\n",
       "    <tr>\n",
       "      <th>3</th>\n",
       "      <td>4</td>\n",
       "      <td>7</td>\n",
       "      <td>1.0</td>\n",
       "      <td>8.0</td>\n",
       "      <td>77530</td>\n",
       "    </tr>\n",
       "    <tr>\n",
       "      <th>4</th>\n",
       "      <td>5</td>\n",
       "      <td>13</td>\n",
       "      <td>0.0</td>\n",
       "      <td>8.0</td>\n",
       "      <td>152397</td>\n",
       "    </tr>\n",
       "    <tr>\n",
       "      <th>...</th>\n",
       "      <td>...</td>\n",
       "      <td>...</td>\n",
       "      <td>...</td>\n",
       "      <td>...</td>\n",
       "      <td>...</td>\n",
       "    </tr>\n",
       "    <tr>\n",
       "      <th>345</th>\n",
       "      <td>346</td>\n",
       "      <td>4</td>\n",
       "      <td>1.0</td>\n",
       "      <td>7.0</td>\n",
       "      <td>107647</td>\n",
       "    </tr>\n",
       "    <tr>\n",
       "      <th>346</th>\n",
       "      <td>347</td>\n",
       "      <td>12</td>\n",
       "      <td>0.0</td>\n",
       "      <td>10.0</td>\n",
       "      <td>147836</td>\n",
       "    </tr>\n",
       "    <tr>\n",
       "      <th>347</th>\n",
       "      <td>348</td>\n",
       "      <td>19</td>\n",
       "      <td>0.0</td>\n",
       "      <td>2.0</td>\n",
       "      <td>242819</td>\n",
       "    </tr>\n",
       "    <tr>\n",
       "      <th>348</th>\n",
       "      <td>349</td>\n",
       "      <td>9</td>\n",
       "      <td>1.0</td>\n",
       "      <td>8.0</td>\n",
       "      <td>115769</td>\n",
       "    </tr>\n",
       "    <tr>\n",
       "      <th>349</th>\n",
       "      <td>350</td>\n",
       "      <td>16</td>\n",
       "      <td>1.0</td>\n",
       "      <td>10.0</td>\n",
       "      <td>93819</td>\n",
       "    </tr>\n",
       "  </tbody>\n",
       "</table>\n",
       "<p>350 rows × 5 columns</p>\n",
       "</div>"
      ],
      "text/plain": [
       "      ID  Experience (Years)  Gender  Position  Salary\n",
       "0      1                   4     0.0       2.0  109976\n",
       "1      2                   6     1.0       2.0  120088\n",
       "2      3                  17     1.0      10.0  181301\n",
       "3      4                   7     1.0       8.0   77530\n",
       "4      5                  13     0.0       8.0  152397\n",
       "..   ...                 ...     ...       ...     ...\n",
       "345  346                   4     1.0       7.0  107647\n",
       "346  347                  12     0.0      10.0  147836\n",
       "347  348                  19     0.0       2.0  242819\n",
       "348  349                   9     1.0       8.0  115769\n",
       "349  350                  16     1.0      10.0   93819\n",
       "\n",
       "[350 rows x 5 columns]"
      ]
     },
     "execution_count": 21,
     "metadata": {},
     "output_type": "execute_result"
    }
   ],
   "source": [
    "new_df = encoded_df.drop(columns=[\"Salary\"])\n",
    "new_df = pd.concat([new_df, encoded_df[\"Salary\"]], axis=1)\n",
    "new_df\n"
   ]
  },
  {
   "cell_type": "code",
   "execution_count": 44,
   "id": "7bf0502f",
   "metadata": {},
   "outputs": [
    {
     "name": "stdout",
     "output_type": "stream",
     "text": [
      "     Experience (Years)  Gender  Position\n",
      "0                     4     0.0       2.0\n",
      "1                     6     1.0       2.0\n",
      "2                    17     1.0      10.0\n",
      "3                     7     1.0       8.0\n",
      "4                    13     0.0       8.0\n",
      "..                  ...     ...       ...\n",
      "345                   4     1.0       7.0\n",
      "346                  12     0.0      10.0\n",
      "347                  19     0.0       2.0\n",
      "348                   9     1.0       8.0\n",
      "349                  16     1.0      10.0\n",
      "\n",
      "[350 rows x 3 columns]\n"
     ]
    }
   ],
   "source": [
    "X, y = new_df.iloc[:,1:-1], new_df.iloc[:,-1]\n",
    "print(X)"
   ]
  },
  {
   "cell_type": "code",
   "execution_count": 45,
   "id": "abc44443",
   "metadata": {},
   "outputs": [],
   "source": [
    "X_train, X_test, y_train, y_test = train_test_split(X, y, test_size=0.2, shuffle=True, random_state=42)\n",
    "\n",
    "normalizer = StandardScaler()\n",
    "X_train_scaled = normalizer.fit_transform(X_train)\n",
    "X_test_scaled = normalizer.fit_transform(X_test)"
   ]
  },
  {
   "cell_type": "code",
   "execution_count": 47,
   "id": "f2019de0",
   "metadata": {},
   "outputs": [],
   "source": [
    "import xgboost as xgb"
   ]
  },
  {
   "cell_type": "code",
   "execution_count": 48,
   "id": "97d5d483",
   "metadata": {},
   "outputs": [
    {
     "ename": "ValueError",
     "evalue": "Invalid classes inferred from unique values of `y`.  Expected: [  0   1   2   3   4   5   6   7   8   9  10  11  12  13  14  15  16  17\n  18  19  20  21  22  23  24  25  26  27  28  29  30  31  32  33  34  35\n  36  37  38  39  40  41  42  43  44  45  46  47  48  49  50  51  52  53\n  54  55  56  57  58  59  60  61  62  63  64  65  66  67  68  69  70  71\n  72  73  74  75  76  77  78  79  80  81  82  83  84  85  86  87  88  89\n  90  91  92  93  94  95  96  97  98  99 100 101 102 103 104 105 106 107\n 108 109 110 111 112 113 114 115 116 117 118 119 120 121 122 123 124 125\n 126 127 128 129 130 131 132 133 134 135 136 137 138 139 140 141 142 143\n 144 145 146 147 148 149 150 151 152 153 154 155 156 157 158 159 160 161\n 162 163 164 165 166 167 168 169 170 171 172 173 174 175 176 177 178 179\n 180 181 182 183 184 185 186 187 188 189 190 191 192 193 194 195 196 197\n 198 199 200 201 202 203 204 205 206 207 208 209 210 211 212 213 214 215\n 216 217 218 219 220 221 222 223 224 225 226 227 228 229 230 231 232 233\n 234 235 236 237 238 239 240 241 242 243 244 245 246 247 248 249 250 251\n 252 253 254 255 256 257 258 259 260 261 262 263 264 265 266 267 268 269\n 270 271 272 273 274 275 276 277 278 279], got [ 43643  48710  49817  54739  55964  57567  57838  59145  61236  62204\n  62301  64736  65646  67127  67396  67910  68000  70195  70591  70610\n  70941  71211  71389  72006  73364  74688  75749  77058  78006  79108\n  79431  79944  82328  82987  83147  84342  84510  85199  85246  86110\n  86225  86362  86818  87698  87871  87875  89662  90049  90340  90393\n  90576  90721  91480  91842  92288  92514  92927  93165  93558  93819\n  93860  94615  94797  94989  95631  95988  97051  97317  97706  98814\n 100026 100091 100616 101107 101278 102783 103124 103201 103746 103940\n 105182 105563 106131 106204 107263 107647 108040 108050 108860 108998\n 109573 109601 109928 109976 110084 110321 110734 111025 111156 111250\n 111316 111362 111494 112471 112487 113345 114492 114608 114764 114791\n 114996 115201 115263 115698 115769 116363 116529 116853 116964 117934\n 119320 120088 120102 120104 120142 120172 120406 121293 122207 123049\n 124153 125282 125514 125521 126171 126492 126811 127148 127533 127764\n 128179 128220 128503 129155 129205 130002 130058 130119 131176 131530\n 131757 131847 131849 132171 132311 132670 132950 133155 133508 133765\n 134208 134293 134437 134871 135066 135205 135496 135999 136355 136537\n 136900 137302 137535 137662 137897 139069 139766 140147 140241 141261\n 142031 142525 143412 145253 145530 145856 146249 147270 147836 148118\n 148410 148634 149040 149160 149360 149569 149762 149970 150031 150102\n 150286 150681 150802 150854 152397 152404 153634 153779 154443 154557\n 155017 156027 156738 157380 157705 157825 158031 158415 158855 158856\n 159549 159630 161408 162398 162487 164340 166104 168536 168554 171297\n 172094 173720 174612 175368 176976 177180 178265 179006 180331 180669\n 181201 181301 181654 181711 181774 183382 183411 186239 187353 188681\n 188959 190192 190752 193399 196175 196310 196839 200409 204549 205418\n 205579 206324 207518 207529 214282 214420 215034 217422 218258 224671\n 226461 232972 235235 242808 242819 244446 252949 260594 268774 269950]",
     "output_type": "error",
     "traceback": [
      "\u001b[31m---------------------------------------------------------------------------\u001b[39m",
      "\u001b[31mValueError\u001b[39m                                Traceback (most recent call last)",
      "\u001b[36mCell\u001b[39m\u001b[36m \u001b[39m\u001b[32mIn[48]\u001b[39m\u001b[32m, line 2\u001b[39m\n\u001b[32m      1\u001b[39m xg_class = xgb.XGBClassifier(seed=\u001b[32m7\u001b[39m)\n\u001b[32m----> \u001b[39m\u001b[32m2\u001b[39m \u001b[43mxg_class\u001b[49m\u001b[43m.\u001b[49m\u001b[43mfit\u001b[49m\u001b[43m(\u001b[49m\u001b[43mX_train_scaled\u001b[49m\u001b[43m,\u001b[49m\u001b[43m \u001b[49m\u001b[43my_train\u001b[49m\u001b[43m)\u001b[49m\n",
      "\u001b[36mFile \u001b[39m\u001b[32m~/Coding/AIO2025/Code/aio2025_study/venv/lib/python3.13/site-packages/xgboost/core.py:729\u001b[39m, in \u001b[36mrequire_keyword_args.<locals>.throw_if.<locals>.inner_f\u001b[39m\u001b[34m(*args, **kwargs)\u001b[39m\n\u001b[32m    727\u001b[39m \u001b[38;5;28;01mfor\u001b[39;00m k, arg \u001b[38;5;129;01min\u001b[39;00m \u001b[38;5;28mzip\u001b[39m(sig.parameters, args):\n\u001b[32m    728\u001b[39m     kwargs[k] = arg\n\u001b[32m--> \u001b[39m\u001b[32m729\u001b[39m \u001b[38;5;28;01mreturn\u001b[39;00m \u001b[43mfunc\u001b[49m\u001b[43m(\u001b[49m\u001b[43m*\u001b[49m\u001b[43m*\u001b[49m\u001b[43mkwargs\u001b[49m\u001b[43m)\u001b[49m\n",
      "\u001b[36mFile \u001b[39m\u001b[32m~/Coding/AIO2025/Code/aio2025_study/venv/lib/python3.13/site-packages/xgboost/sklearn.py:1641\u001b[39m, in \u001b[36mXGBClassifier.fit\u001b[39m\u001b[34m(self, X, y, sample_weight, base_margin, eval_set, verbose, xgb_model, sample_weight_eval_set, base_margin_eval_set, feature_weights)\u001b[39m\n\u001b[32m   1636\u001b[39m     expected_classes = \u001b[38;5;28mself\u001b[39m.classes_\n\u001b[32m   1637\u001b[39m \u001b[38;5;28;01mif\u001b[39;00m (\n\u001b[32m   1638\u001b[39m     classes.shape != expected_classes.shape\n\u001b[32m   1639\u001b[39m     \u001b[38;5;129;01mor\u001b[39;00m \u001b[38;5;129;01mnot\u001b[39;00m (classes == expected_classes).all()\n\u001b[32m   1640\u001b[39m ):\n\u001b[32m-> \u001b[39m\u001b[32m1641\u001b[39m     \u001b[38;5;28;01mraise\u001b[39;00m \u001b[38;5;167;01mValueError\u001b[39;00m(\n\u001b[32m   1642\u001b[39m         \u001b[33mf\u001b[39m\u001b[33m\"\u001b[39m\u001b[33mInvalid classes inferred from unique values of `y`.  \u001b[39m\u001b[33m\"\u001b[39m\n\u001b[32m   1643\u001b[39m         \u001b[33mf\u001b[39m\u001b[33m\"\u001b[39m\u001b[33mExpected: \u001b[39m\u001b[38;5;132;01m{\u001b[39;00mexpected_classes\u001b[38;5;132;01m}\u001b[39;00m\u001b[33m, got \u001b[39m\u001b[38;5;132;01m{\u001b[39;00mclasses\u001b[38;5;132;01m}\u001b[39;00m\u001b[33m\"\u001b[39m\n\u001b[32m   1644\u001b[39m     )\n\u001b[32m   1646\u001b[39m params = \u001b[38;5;28mself\u001b[39m.get_xgb_params()\n\u001b[32m   1648\u001b[39m \u001b[38;5;28;01mif\u001b[39;00m \u001b[38;5;28mcallable\u001b[39m(\u001b[38;5;28mself\u001b[39m.objective):\n",
      "\u001b[31mValueError\u001b[39m: Invalid classes inferred from unique values of `y`.  Expected: [  0   1   2   3   4   5   6   7   8   9  10  11  12  13  14  15  16  17\n  18  19  20  21  22  23  24  25  26  27  28  29  30  31  32  33  34  35\n  36  37  38  39  40  41  42  43  44  45  46  47  48  49  50  51  52  53\n  54  55  56  57  58  59  60  61  62  63  64  65  66  67  68  69  70  71\n  72  73  74  75  76  77  78  79  80  81  82  83  84  85  86  87  88  89\n  90  91  92  93  94  95  96  97  98  99 100 101 102 103 104 105 106 107\n 108 109 110 111 112 113 114 115 116 117 118 119 120 121 122 123 124 125\n 126 127 128 129 130 131 132 133 134 135 136 137 138 139 140 141 142 143\n 144 145 146 147 148 149 150 151 152 153 154 155 156 157 158 159 160 161\n 162 163 164 165 166 167 168 169 170 171 172 173 174 175 176 177 178 179\n 180 181 182 183 184 185 186 187 188 189 190 191 192 193 194 195 196 197\n 198 199 200 201 202 203 204 205 206 207 208 209 210 211 212 213 214 215\n 216 217 218 219 220 221 222 223 224 225 226 227 228 229 230 231 232 233\n 234 235 236 237 238 239 240 241 242 243 244 245 246 247 248 249 250 251\n 252 253 254 255 256 257 258 259 260 261 262 263 264 265 266 267 268 269\n 270 271 272 273 274 275 276 277 278 279], got [ 43643  48710  49817  54739  55964  57567  57838  59145  61236  62204\n  62301  64736  65646  67127  67396  67910  68000  70195  70591  70610\n  70941  71211  71389  72006  73364  74688  75749  77058  78006  79108\n  79431  79944  82328  82987  83147  84342  84510  85199  85246  86110\n  86225  86362  86818  87698  87871  87875  89662  90049  90340  90393\n  90576  90721  91480  91842  92288  92514  92927  93165  93558  93819\n  93860  94615  94797  94989  95631  95988  97051  97317  97706  98814\n 100026 100091 100616 101107 101278 102783 103124 103201 103746 103940\n 105182 105563 106131 106204 107263 107647 108040 108050 108860 108998\n 109573 109601 109928 109976 110084 110321 110734 111025 111156 111250\n 111316 111362 111494 112471 112487 113345 114492 114608 114764 114791\n 114996 115201 115263 115698 115769 116363 116529 116853 116964 117934\n 119320 120088 120102 120104 120142 120172 120406 121293 122207 123049\n 124153 125282 125514 125521 126171 126492 126811 127148 127533 127764\n 128179 128220 128503 129155 129205 130002 130058 130119 131176 131530\n 131757 131847 131849 132171 132311 132670 132950 133155 133508 133765\n 134208 134293 134437 134871 135066 135205 135496 135999 136355 136537\n 136900 137302 137535 137662 137897 139069 139766 140147 140241 141261\n 142031 142525 143412 145253 145530 145856 146249 147270 147836 148118\n 148410 148634 149040 149160 149360 149569 149762 149970 150031 150102\n 150286 150681 150802 150854 152397 152404 153634 153779 154443 154557\n 155017 156027 156738 157380 157705 157825 158031 158415 158855 158856\n 159549 159630 161408 162398 162487 164340 166104 168536 168554 171297\n 172094 173720 174612 175368 176976 177180 178265 179006 180331 180669\n 181201 181301 181654 181711 181774 183382 183411 186239 187353 188681\n 188959 190192 190752 193399 196175 196310 196839 200409 204549 205418\n 205579 206324 207518 207529 214282 214420 215034 217422 218258 224671\n 226461 232972 235235 242808 242819 244446 252949 260594 268774 269950]"
     ]
    }
   ],
   "source": [
    "xg_class = xgb.XGBClassifier(seed=7)\n",
    "xg_class.fit(X_train_scaled, y_train)"
   ]
  },
  {
   "cell_type": "code",
   "execution_count": 46,
   "id": "f630ef9c",
   "metadata": {},
   "outputs": [
    {
     "name": "stdout",
     "output_type": "stream",
     "text": [
      "Evaluation results on validation set:\n",
      "Mean Absolute Error: 100135.2408629315\n",
      "Mean Squared Error: 10250350868.286627\n",
      "Mean Squared Error: -13363310004.838163\n"
     ]
    },
    {
     "name": "stderr",
     "output_type": "stream",
     "text": [
      "/Users/vychan/Coding/AIO2025/Code/aio2025_study/venv/lib/python3.13/site-packages/sklearn/utils/validation.py:2749: UserWarning: X does not have valid feature names, but RandomForestRegressor was fitted with feature names\n",
      "  warnings.warn(\n"
     ]
    }
   ],
   "source": [
    "# Training bằng RandomForestRegressor\n",
    "regressor = RandomForestRegressor(n_estimators=50, random_state=42)\n",
    "regressor.fit(X_train, y_train)\n",
    "y_pred = regressor.predict(X_val)\n",
    "mae = mean_absolute_error(y_val, y_pred)\n",
    "mse = mean_squared_error(y_val, y_pred)\n",
    "r2 = r2_score(y_val, y_pred)\n",
    "print(\"Evaluation results on validation set:\")\n",
    "print(f\"Mean Absolute Error: {mae}\")\n",
    "print(f\"Mean Squared Error: {mse}\")\n",
    "print(f\"Mean Squared Error: {r2}\")"
   ]
  },
  {
   "cell_type": "code",
   "execution_count": null,
   "id": "d0674a1a",
   "metadata": {},
   "outputs": [
    {
     "name": "stdout",
     "output_type": "stream",
     "text": [
      "The accuracy_score of the model is: 0.4267\n"
     ]
    }
   ],
   "source": [
    "ab = AdaBoostRegressor(n_estimators=50)\n",
    "ab.fit(X_train, y_train)\n",
    "y_pred = ab.predict(X_val)\n",
    "print(\"The accuracy_score of the model is:\", round(r2_score(y_val, y_pred), 4))"
   ]
  },
  {
   "cell_type": "code",
   "execution_count": 36,
   "id": "6397f6d3",
   "metadata": {},
   "outputs": [
    {
     "name": "stdout",
     "output_type": "stream",
     "text": [
      "      ID  Experience (Years)  Gender  Position  Salary\n",
      "0      1                   4     0.0       2.0  109976\n",
      "1      2                   6     1.0       2.0  120088\n",
      "2      3                  17     1.0      10.0  181301\n",
      "3      4                   7     1.0       8.0   77530\n",
      "4      5                  13     0.0       8.0  152397\n",
      "..   ...                 ...     ...       ...     ...\n",
      "345  346                   4     1.0       7.0  107647\n",
      "346  347                  12     0.0      10.0  147836\n",
      "347  348                  19     0.0       2.0  242819\n",
      "348  349                   9     1.0       8.0  115769\n",
      "349  350                  16     1.0      10.0   93819\n",
      "\n",
      "[350 rows x 5 columns]\n"
     ]
    }
   ],
   "source": [
    "print(new_df)"
   ]
  },
  {
   "cell_type": "code",
   "execution_count": null,
   "id": "f1600d72",
   "metadata": {},
   "outputs": [],
   "source": []
  }
 ],
 "metadata": {
  "kernelspec": {
   "display_name": "venv",
   "language": "python",
   "name": "python3"
  },
  "language_info": {
   "codemirror_mode": {
    "name": "ipython",
    "version": 3
   },
   "file_extension": ".py",
   "mimetype": "text/x-python",
   "name": "python",
   "nbconvert_exporter": "python",
   "pygments_lexer": "ipython3",
   "version": "3.13.5"
  }
 },
 "nbformat": 4,
 "nbformat_minor": 5
}

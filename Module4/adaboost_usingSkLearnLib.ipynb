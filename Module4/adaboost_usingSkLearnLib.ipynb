{
 "cells": [
  {
   "cell_type": "code",
   "execution_count": 2,
   "id": "dd6ad581",
   "metadata": {},
   "outputs": [],
   "source": [
    "import pandas as pd\n",
    "import seaborn as sns\n",
    "import matplotlib.pyplot as plt\n",
    "from sklearn.datasets import make_classification\n",
    "from sklearn.metrics import accuracy_score\n",
    "from sklearn.model_selection import train_test_split\n",
    "from sklearn.ensemble import AdaBoostClassifier\n"
   ]
  },
  {
   "cell_type": "code",
   "execution_count": null,
   "id": "fb9dc5e6",
   "metadata": {},
   "outputs": [],
   "source": [
    "# Prepare data\n",
    "X, y = make_classification(n_samples=1000, n_features=20, random_state=42)\n",
    "y = y * 2 - 1 # Original AdaBoost uses {1, -1} as class labels\n",
    "\n",
    "# Train/test split\n",
    "X_train, X_test, y_train, y_test = train_test_split(\n",
    "    X, y, test_size=0.2, random_state=42\n",
    ")"
   ]
  },
  {
   "cell_type": "code",
   "execution_count": 5,
   "id": "6339da97",
   "metadata": {},
   "outputs": [],
   "source": [
    "# Prepare spam dataset\n",
    "df = pd.read_csv(\"./data/spambase.data\", header=None)\n",
    "names = pd.read_csv(\n",
    "    \"./data/spambase.names\", sep=\":\", skiprows=range(0, 33), header=None\n",
    ")\n",
    "col_names = list(names[0])\n",
    "col_names.append(\"Spam\")\n",
    "df.columns = col_names\n",
    "df.head()\n",
    "\n",
    "df[\"Spam\"] = df[\"Spam\"] * 2 - 1\n",
    "X_train, X_test, y_train, y_test = train_test_split(\n",
    "    df.drop(columns = \"Spam\").values, df[\"Spam\"].values, test_size=0.2, random_state=2\n",
    ")"
   ]
  },
  {
   "cell_type": "code",
   "execution_count": 6,
   "id": "e3a7527c",
   "metadata": {},
   "outputs": [
    {
     "name": "stdout",
     "output_type": "stream",
     "text": [
      "The accuracy_score of the model is: 0.9392\n"
     ]
    }
   ],
   "source": [
    "# Fit model\n",
    "ab = AdaBoostClassifier(n_estimators = 50)\n",
    "ab.fit(X_train, y_train)\n",
    "y_pred = ab.predict(X_test)\n",
    "print('The accuracy_score of the model is:', round(accuracy_score(y_test, y_pred), 4))"
   ]
  },
  {
   "cell_type": "code",
   "execution_count": null,
   "id": "516842cb",
   "metadata": {},
   "outputs": [],
   "source": []
  }
 ],
 "metadata": {
  "kernelspec": {
   "display_name": "venv",
   "language": "python",
   "name": "python3"
  },
  "language_info": {
   "codemirror_mode": {
    "name": "ipython",
    "version": 3
   },
   "file_extension": ".py",
   "mimetype": "text/x-python",
   "name": "python",
   "nbconvert_exporter": "python",
   "pygments_lexer": "ipython3",
   "version": "3.13.5"
  }
 },
 "nbformat": 4,
 "nbformat_minor": 5
}

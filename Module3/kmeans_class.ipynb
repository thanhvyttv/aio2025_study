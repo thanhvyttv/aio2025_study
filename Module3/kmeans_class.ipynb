{
 "cells": [
  {
   "cell_type": "code",
   "execution_count": 4,
   "id": "d1759d80",
   "metadata": {},
   "outputs": [
    {
     "name": "stdout",
     "output_type": "stream",
     "text": [
      "(64, 2)\n",
      "(5, 2)\n"
     ]
    },
    {
     "ename": "ValueError",
     "evalue": "operands could not be broadcast together with shapes (64,2) (5,2) ",
     "output_type": "error",
     "traceback": [
      "\u001b[31m---------------------------------------------------------------------------\u001b[39m",
      "\u001b[31mValueError\u001b[39m                                Traceback (most recent call last)",
      "\u001b[36mCell\u001b[39m\u001b[36m \u001b[39m\u001b[32mIn[4]\u001b[39m\u001b[32m, line 9\u001b[39m\n\u001b[32m      6\u001b[39m centroids = np.random.rand(\u001b[32m5\u001b[39m, \u001b[32m2\u001b[39m)\n\u001b[32m      7\u001b[39m \u001b[38;5;28mprint\u001b[39m(centroids.shape)\n\u001b[32m----> \u001b[39m\u001b[32m9\u001b[39m distances = \u001b[43mdata\u001b[49m\u001b[43m \u001b[49m\u001b[43m-\u001b[49m\u001b[43m \u001b[49m\u001b[43mcentroids\u001b[49m\n\u001b[32m     10\u001b[39m \u001b[38;5;28mprint\u001b[39m(distances.shape)\n",
      "\u001b[31mValueError\u001b[39m: operands could not be broadcast together with shapes (64,2) (5,2) "
     ]
    }
   ],
   "source": [
    "import numpy as np\n",
    "\n",
    "data = np.random.rand(64, 2)\n",
    "print(data.shape)\n",
    "\n",
    "centroids = np.random.rand(5, 2)\n",
    "print(centroids.shape)\n",
    "\n",
    "distances = data - centroids\n",
    "print(distances.shape)"
   ]
  },
  {
   "cell_type": "code",
   "execution_count": 6,
   "id": "3b634985",
   "metadata": {},
   "outputs": [
    {
     "data": {
      "text/html": [
       "<div>\n",
       "<style scoped>\n",
       "    .dataframe tbody tr th:only-of-type {\n",
       "        vertical-align: middle;\n",
       "    }\n",
       "\n",
       "    .dataframe tbody tr th {\n",
       "        vertical-align: top;\n",
       "    }\n",
       "\n",
       "    .dataframe thead th {\n",
       "        text-align: right;\n",
       "    }\n",
       "</style>\n",
       "<table border=\"1\" class=\"dataframe\">\n",
       "  <thead>\n",
       "    <tr style=\"text-align: right;\">\n",
       "      <th></th>\n",
       "      <th>Petal_Length</th>\n",
       "      <th>Label</th>\n",
       "    </tr>\n",
       "  </thead>\n",
       "  <tbody>\n",
       "    <tr>\n",
       "      <th>0</th>\n",
       "      <td>1.4</td>\n",
       "      <td>0.0</td>\n",
       "    </tr>\n",
       "    <tr>\n",
       "      <th>1</th>\n",
       "      <td>1.0</td>\n",
       "      <td>0.0</td>\n",
       "    </tr>\n",
       "    <tr>\n",
       "      <th>2</th>\n",
       "      <td>1.5</td>\n",
       "      <td>0.0</td>\n",
       "    </tr>\n",
       "    <tr>\n",
       "      <th>3</th>\n",
       "      <td>3.1</td>\n",
       "      <td>1.0</td>\n",
       "    </tr>\n",
       "    <tr>\n",
       "      <th>4</th>\n",
       "      <td>3.8</td>\n",
       "      <td>1.0</td>\n",
       "    </tr>\n",
       "    <tr>\n",
       "      <th>5</th>\n",
       "      <td>4.1</td>\n",
       "      <td>1.0</td>\n",
       "    </tr>\n",
       "  </tbody>\n",
       "</table>\n",
       "</div>"
      ],
      "text/plain": [
       "   Petal_Length  Label\n",
       "0           1.4    0.0\n",
       "1           1.0    0.0\n",
       "2           1.5    0.0\n",
       "3           3.1    1.0\n",
       "4           3.8    1.0\n",
       "5           4.1    1.0"
      ]
     },
     "execution_count": 6,
     "metadata": {},
     "output_type": "execute_result"
    }
   ],
   "source": [
    "import numpy as np\n",
    "import pandas as pd\n",
    "\n",
    "data = pd.read_csv(\"./data/iris_1D.csv\")\n",
    "data"
   ]
  },
  {
   "cell_type": "code",
   "execution_count": null,
   "id": "2c544309",
   "metadata": {},
   "outputs": [
    {
     "name": "stdout",
     "output_type": "stream",
     "text": [
      "[1.4 1.  1.5 3.1 3.8 4.1]\n"
     ]
    }
   ],
   "source": [
    "# X = np.array(data[\"Petal_Length\"])\n",
    "X = data[\"Petal_Length\"].to_numpy()\n",
    "print(X)"
   ]
  },
  {
   "cell_type": "code",
   "execution_count": 28,
   "id": "fb962550",
   "metadata": {},
   "outputs": [],
   "source": [
    "centroids = np.array([1.4, 1.0])\n"
   ]
  },
  {
   "cell_type": "code",
   "execution_count": null,
   "id": "9562e32f",
   "metadata": {},
   "outputs": [
    {
     "data": {
      "text/plain": [
       "array([[0. , 0.3],\n",
       "       [0.4, 0.1],\n",
       "       [0.1, 0.4],\n",
       "       [1.7, 2. ],\n",
       "       [2.4, 2.7],\n",
       "       [2.7, 3. ]])"
      ]
     },
     "execution_count": 18,
     "metadata": {},
     "output_type": "execute_result"
    }
   ],
   "source": [
    "distances = np.abs(X.reshape(-1, 1) - centroids)\n",
    "distances"
   ]
  },
  {
   "cell_type": "code",
   "execution_count": 19,
   "id": "573c5cfb",
   "metadata": {},
   "outputs": [
    {
     "name": "stdout",
     "output_type": "stream",
     "text": [
      "[0 1 0 0 0 0]\n"
     ]
    }
   ],
   "source": [
    "labels = np.argmin(distances, axis=1)\n",
    "print(labels)"
   ]
  },
  {
   "cell_type": "code",
   "execution_count": 20,
   "id": "956ce5c3",
   "metadata": {},
   "outputs": [
    {
     "data": {
      "text/plain": [
       "array([1.4, 1. , 1.5, 3.1, 3.8, 4.1])"
      ]
     },
     "execution_count": 20,
     "metadata": {},
     "output_type": "execute_result"
    }
   ],
   "source": [
    "X"
   ]
  },
  {
   "cell_type": "code",
   "execution_count": null,
   "id": "45b7a07f",
   "metadata": {},
   "outputs": [
    {
     "data": {
      "text/plain": [
       "array([2.78, 1.  ])"
      ]
     },
     "execution_count": 21,
     "metadata": {},
     "output_type": "execute_result"
    }
   ],
   "source": [
    "centroids = np.array([X[labels == i].mean() for i in range(2)])\n",
    "centroids"
   ]
  },
  {
   "cell_type": "code",
   "execution_count": null,
   "id": "0a54668e",
   "metadata": {},
   "outputs": [
    {
     "data": {
      "text/plain": [
       "array([[1.38, 0.4 ],\n",
       "       [1.78, 0.  ],\n",
       "       [1.28, 0.5 ],\n",
       "       [0.32, 2.1 ],\n",
       "       [1.02, 2.8 ],\n",
       "       [1.32, 3.1 ]])"
      ]
     },
     "execution_count": 22,
     "metadata": {},
     "output_type": "execute_result"
    }
   ],
   "source": [
    "# Sau khi có centroids mới thì quay lại bước tính distances -> labels -> centroids\n",
    "distances = np.abs(X.reshape(-1, 1) - centroids)\n",
    "distances"
   ]
  },
  {
   "cell_type": "code",
   "execution_count": 23,
   "id": "72b0b80b",
   "metadata": {},
   "outputs": [
    {
     "name": "stdout",
     "output_type": "stream",
     "text": [
      "[1 1 1 0 0 0]\n"
     ]
    }
   ],
   "source": [
    "labels = np.argmin(distances, axis=1)\n",
    "print(labels)"
   ]
  },
  {
   "cell_type": "code",
   "execution_count": 24,
   "id": "8af39d49",
   "metadata": {},
   "outputs": [
    {
     "data": {
      "text/plain": [
       "array([3.66666667, 1.3       ])"
      ]
     },
     "execution_count": 24,
     "metadata": {},
     "output_type": "execute_result"
    }
   ],
   "source": [
    "centroids = np.array([X[labels == i].mean() for i in range(2)])\n",
    "centroids"
   ]
  },
  {
   "cell_type": "code",
   "execution_count": 25,
   "id": "80e320b3",
   "metadata": {},
   "outputs": [
    {
     "name": "stdout",
     "output_type": "stream",
     "text": [
      "[1 1 1 0 0 0]\n"
     ]
    }
   ],
   "source": [
    "distances = np.abs(X.reshape(-1, 1) - centroids)\n",
    "labels = np.argmin(distances, axis=1)\n",
    "print(labels)"
   ]
  },
  {
   "cell_type": "code",
   "execution_count": 26,
   "id": "ce85c4eb",
   "metadata": {},
   "outputs": [
    {
     "data": {
      "text/plain": [
       "array([3.66666667, 1.3       ])"
      ]
     },
     "execution_count": 26,
     "metadata": {},
     "output_type": "execute_result"
    }
   ],
   "source": [
    "centroids = np.array([X[labels == i].mean() for i in range(2)])\n",
    "centroids"
   ]
  },
  {
   "cell_type": "code",
   "execution_count": 27,
   "id": "7ffffe46",
   "metadata": {},
   "outputs": [
    {
     "name": "stdout",
     "output_type": "stream",
     "text": [
      "Labels: [0 1 0 0 0 0]\n",
      "Centroids: [2.78 1.  ]\n",
      "\n",
      "Labels: [1 1 1 0 0 0]\n",
      "Centroids: [3.66666667 1.3       ]\n",
      "\n"
     ]
    }
   ],
   "source": [
    "centroids = X[:2]\n",
    "for _ in range(10):\n",
    "    distances = np.abs(X.reshape(-1, 1) - centroids)\n",
    "    labels = np.argmin(distances, axis=1)\n",
    "    new_centroids = np.array([X[labels == i].mean() for i in range(2)])\n",
    "\n",
    "    if np.all(centroids == new_centroids):\n",
    "        break\n",
    "\n",
    "    centroids = new_centroids\n",
    "    # print\n",
    "    print(\"Labels:\", labels)\n",
    "    print(\"Centroids:\", centroids)\n",
    "    print()\n"
   ]
  },
  {
   "cell_type": "code",
   "execution_count": null,
   "id": "b1c00030",
   "metadata": {},
   "outputs": [
    {
     "name": "stdout",
     "output_type": "stream",
     "text": [
      "[1 1 1 0 0 0]\n",
      "0.6666666666666662\n",
      "Cluster 1: 1.4\n",
      "Cluster 1: 1.0\n",
      "Cluster 1: 1.5\n",
      "Cluster 0: 3.1\n",
      "Cluster 0: 3.8\n",
      "Cluster 0: 4.1\n"
     ]
    }
   ],
   "source": [
    "from sklearn.cluster import KMeans\n",
    "\n",
    "kmeans = KMeans(n_clusters=2)\n",
    "kmeans.fit(X.reshape(-1, 1))\n",
    "labels = kmeans.labels_\n",
    "print(labels)\n",
    "print(kmeans.inertia_)\n",
    "\n",
    "for x, label in zip(X, labels):\n",
    "    print(f\"Cluster {label}: {x}\")\n"
   ]
  },
  {
   "cell_type": "code",
   "execution_count": 34,
   "id": "e992c6ad",
   "metadata": {},
   "outputs": [],
   "source": [
    "X= np.random.rand(3)\n",
    "C = np.random.rand(2)\n",
    "distances = X.reshape(3,1) - C"
   ]
  },
  {
   "cell_type": "code",
   "execution_count": 2,
   "id": "8627c90c",
   "metadata": {},
   "outputs": [],
   "source": [
    "import cv2\n",
    "import os\n",
    "import numpy as np\n",
    "\n",
    "def load_images_from_folder(folder):\n",
    "    data = []\n",
    "    for filename in os.listdir(folder):\n",
    "        if filename.lower().endswith('.jpg'):\n",
    "            img= cv2.imread(os.path.join(folder, filename))\n",
    "            data.append(img)\n",
    "\n",
    "    return data\n",
    "\n",
    "dog_images = load_images_from_folder(\"./data/training/dog/\")\n",
    "cat_images = load_images_from_folder(\"./data/training/cat/\")"
   ]
  },
  {
   "cell_type": "code",
   "execution_count": 4,
   "id": "d1fdbf35",
   "metadata": {},
   "outputs": [
    {
     "data": {
      "text/plain": [
       "(224, 224, 3)"
      ]
     },
     "execution_count": 4,
     "metadata": {},
     "output_type": "execute_result"
    }
   ],
   "source": [
    "dog_images[0].shape"
   ]
  },
  {
   "cell_type": "code",
   "execution_count": 5,
   "id": "dce15b44",
   "metadata": {},
   "outputs": [],
   "source": [
    "dog_images = np.array(dog_images)\n",
    "cat_images = np.array(cat_images)"
   ]
  },
  {
   "cell_type": "code",
   "execution_count": 6,
   "id": "d0360f74",
   "metadata": {},
   "outputs": [
    {
     "data": {
      "text/plain": [
       "(10, 224, 224, 3)"
      ]
     },
     "execution_count": 6,
     "metadata": {},
     "output_type": "execute_result"
    }
   ],
   "source": [
    "dog_images.shape"
   ]
  },
  {
   "cell_type": "code",
   "execution_count": 8,
   "id": "7577247a",
   "metadata": {},
   "outputs": [
    {
     "data": {
      "text/plain": [
       "(20, 150528)"
      ]
     },
     "execution_count": 8,
     "metadata": {},
     "output_type": "execute_result"
    }
   ],
   "source": [
    "# merge dog and cat image features\n",
    "merged_features = np.concatenate((dog_images.reshape(10, -1), cat_images.reshape(10, -1) ), axis=0)\n",
    "merged_features.shape"
   ]
  },
  {
   "cell_type": "code",
   "execution_count": 9,
   "id": "ce09314c",
   "metadata": {},
   "outputs": [
    {
     "name": "stdout",
     "output_type": "stream",
     "text": [
      "[0 1 0 1 0 0 1 0 0 1 0 0 1 1 0 0 1 1 1 1]\n"
     ]
    },
    {
     "name": "stderr",
     "output_type": "stream",
     "text": [
      "/Users/vychan/Coding/AIO2025/Code/aio2025_study/venv/lib/python3.13/site-packages/sklearn/utils/extmath.py:203: RuntimeWarning: divide by zero encountered in matmul\n",
      "  ret = a @ b\n",
      "/Users/vychan/Coding/AIO2025/Code/aio2025_study/venv/lib/python3.13/site-packages/sklearn/utils/extmath.py:203: RuntimeWarning: overflow encountered in matmul\n",
      "  ret = a @ b\n",
      "/Users/vychan/Coding/AIO2025/Code/aio2025_study/venv/lib/python3.13/site-packages/sklearn/utils/extmath.py:203: RuntimeWarning: invalid value encountered in matmul\n",
      "  ret = a @ b\n"
     ]
    }
   ],
   "source": [
    "from sklearn.cluster import KMeans\n",
    "kmeans = KMeans(n_clusters=2).fit(merged_features)\n",
    "print(kmeans.labels_)"
   ]
  },
  {
   "cell_type": "code",
   "execution_count": null,
   "id": "34df89da",
   "metadata": {},
   "outputs": [],
   "source": []
  }
 ],
 "metadata": {
  "kernelspec": {
   "display_name": "venv",
   "language": "python",
   "name": "python3"
  },
  "language_info": {
   "codemirror_mode": {
    "name": "ipython",
    "version": 3
   },
   "file_extension": ".py",
   "mimetype": "text/x-python",
   "name": "python",
   "nbconvert_exporter": "python",
   "pygments_lexer": "ipython3",
   "version": "3.13.5"
  }
 },
 "nbformat": 4,
 "nbformat_minor": 5
}

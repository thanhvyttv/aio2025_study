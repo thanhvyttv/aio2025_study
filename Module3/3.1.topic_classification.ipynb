{
 "cells": [
  {
   "cell_type": "code",
   "execution_count": 3,
   "id": "1e85f736",
   "metadata": {},
   "outputs": [],
   "source": [
    "from collections import Counter, defaultdict\n",
    "from typing import List, Dict, Literal, Union\n",
    "\n",
    "import re\n",
    "import math\n",
    "import numpy as np\n",
    "import matplotlib.pyplot as plt\n",
    "import seaborn as sns\n",
    "\n",
    "from datasets import load_dataset\n",
    "from sentence_transformers import SentenceTransformer\n",
    "\n",
    "from sklearn.model_selection import train_test_split\n",
    "from sklearn.metrics import accuracy_score, classification_report, confusion_matrix\n",
    "from sklearn.feature_extraction.text import CountVectorizer, TfidfVectorizer\n",
    "from sklearn.cluster import KMeans\n",
    "from sklearn.neighbors import KNeighborsClassifier\n",
    "from sklearn.tree import DecisionTreeClassifier"
   ]
  },
  {
   "cell_type": "code",
   "execution_count": 4,
   "id": "6ccd47cd",
   "metadata": {},
   "outputs": [
    {
     "name": "stderr",
     "output_type": "stream",
     "text": [
      "Generating train split: 100%|██████████| 2292057/2292057 [00:03<00:00, 723035.26 examples/s]\n"
     ]
    },
    {
     "data": {
      "text/plain": [
       "DatasetDict({\n",
       "    train: Dataset({\n",
       "        features: ['id', 'submitter', 'authors', 'title', 'comments', 'journal-ref', 'doi', 'report-no', 'categories', 'license', 'abstract', 'versions', 'update_date', 'authors_parsed'],\n",
       "        num_rows: 2292057\n",
       "    })\n",
       "})"
      ]
     },
     "execution_count": 4,
     "metadata": {},
     "output_type": "execute_result"
    }
   ],
   "source": [
    "ds = load_dataset(\"UniverseTBD/arxiv-abstracts-large\")\n",
    "ds"
   ]
  },
  {
   "cell_type": "code",
   "execution_count": null,
   "id": "9b9edfa4",
   "metadata": {},
   "outputs": [
    {
     "name": "stdout",
     "output_type": "stream",
     "text": [
      "Example 1:\n",
      "  A fully differential calculation in perturbative quantum chromodynamics is\n",
      "presented for the production of massive photon pairs at hadron colliders. All\n",
      "next-to-leading order perturbative contributions from quark-antiquark,\n",
      "gluon-(anti)quark, and gluon-gluon subprocesses are included, as well as\n",
      "all-orders resummation of initial-state gluon radiation valid at\n",
      "next-to-next-to-leading logarithmic accuracy. The region of phase space is\n",
      "specified in which the calculation is most reliable. Good agreement is\n",
      "demonstrated with data from the Fermilab Tevatron, and predictions are made for\n",
      "more detailed tests with CDF and DO data. Predictions are shown for\n",
      "distributions of diphoton pairs produced at the energy of the Large Hadron\n",
      "Collider (LHC). Distributions of the diphoton pairs from the decay of a Higgs\n",
      "boson are contrasted with those produced from QCD processes at the LHC, showing\n",
      "that enhanced sensitivity to the signal can be obtained with judicious\n",
      "selection of events.\n",
      "\n",
      "hep-ph\n",
      "------------------------------------------------------------\n",
      "Example 2:\n",
      "  We describe a new algorithm, the $(k,\\ell)$-pebble game with colors, and use\n",
      "it obtain a characterization of the family of $(k,\\ell)$-sparse graphs and\n",
      "algorithmic solutions to a family of problems concerning tree decompositions of\n",
      "graphs. Special instances of sparse graphs appear in rigidity theory and have\n",
      "received increased attention in recent years. In particular, our colored\n",
      "pebbles generalize and strengthen the previous results of Lee and Streinu and\n",
      "give a new proof of the Tutte-Nash-Williams characterization of arboricity. We\n",
      "also present a new decomposition that certifies sparsity based on the\n",
      "$(k,\\ell)$-pebble game with colors. Our work also exposes connections between\n",
      "pebble game algorithms and previous sparse graph algorithms by Gabow, Gabow and\n",
      "Westermann and Hendrickson.\n",
      "\n",
      "math.CO cs.CG\n",
      "------------------------------------------------------------\n",
      "Example 3:\n",
      "  The evolution of Earth-Moon system is described by the dark matter field\n",
      "fluid model proposed in the Meeting of Division of Particle and Field 2004,\n",
      "American Physical Society. The current behavior of the Earth-Moon system agrees\n",
      "with this model very well and the general pattern of the evolution of the\n",
      "Moon-Earth system described by this model agrees with geological and fossil\n",
      "evidence. The closest distance of the Moon to Earth was about 259000 km at 4.5\n",
      "billion years ago, which is far beyond the Roche's limit. The result suggests\n",
      "that the tidal friction may not be the primary cause for the evolution of the\n",
      "Earth-Moon system. The average dark matter field fluid constant derived from\n",
      "Earth-Moon system data is 4.39 x 10^(-22) s^(-1)m^(-1). This model predicts\n",
      "that the Mars's rotation is also slowing with the angular acceleration rate\n",
      "about -4.38 x 10^(-22) rad s^(-2).\n",
      "\n",
      "physics.gen-ph\n",
      "------------------------------------------------------------\n"
     ]
    }
   ],
   "source": [
    "for i in range(3):\n",
    "    print(f\"Example {i + 1}:\")\n",
    "    print(ds[\"train\"][i][\"abstract\"])\n",
    "    print(ds[\"train\"][i][\"categories\"])\n",
    "    print(\"---\" * 20)"
   ]
  },
  {
   "cell_type": "code",
   "execution_count": null,
   "id": "c662a282",
   "metadata": {},
   "outputs": [
    {
     "name": "stdout",
     "output_type": "stream",
     "text": [
      "There are 38 unique primary categories in the dataset:\n",
      "acc-phys\n",
      "adap-org\n",
      "alg-geom\n",
      "ao-sci\n",
      "astro-ph\n",
      "atom-ph\n",
      "bayes-an\n",
      "chao-dyn\n",
      "chem-ph\n",
      "cmp-lg\n",
      "comp-gas\n",
      "cond-mat\n",
      "cs\n",
      "dg-ga\n",
      "econ\n",
      "eess\n",
      "funct-an\n",
      "gr-qc\n",
      "hep-ex\n",
      "hep-lat\n",
      "hep-ph\n",
      "hep-th\n",
      "math\n",
      "math-ph\n",
      "mtrl-th\n",
      "nlin\n",
      "nucl-ex\n",
      "nucl-th\n",
      "patt-sol\n",
      "physics\n",
      "plasm-ph\n",
      "q-alg\n",
      "q-bio\n",
      "q-fin\n",
      "quant-ph\n",
      "solv-int\n",
      "stat\n",
      "supr-con\n"
     ]
    }
   ],
   "source": [
    "all_categories = ds[\"train\"][\"categories\"]\n",
    "categories_set = set()\n",
    "\n",
    "# Collect unique labels\n",
    "for category in all_categories:\n",
    "    parts = category.split(\" \")\n",
    "    for part in parts:\n",
    "        topic = part.split(\".\")[0]\n",
    "        categories_set.add(topic)\n",
    "\n",
    "# Sort the labels and print them\n",
    "sorted_categories = sorted(list(categories_set), key=lambda x: x.lower())\n",
    "print(f\"There are {len(sorted_categories)} unique primary categories in the dataset:\")\n",
    "for category in sorted_categories:\n",
    "    print(category)"
   ]
  },
  {
   "cell_type": "code",
   "execution_count": null,
   "id": "6810ed08",
   "metadata": {},
   "outputs": [
    {
     "name": "stdout",
     "output_type": "stream",
     "text": [
      "Number of samples: 1000\n"
     ]
    }
   ],
   "source": [
    "# load samples with single label beloging to specific categories\n",
    "samples = []\n",
    "CATEGORIES_TO_SELECT = [\"astro-ph\", \"cond-mat\", \"cs\", \"math\", \"physics\"]\n",
    "for s in ds[\"train\"]:\n",
    "    if len(s[\"categories\"].split(\" \")) != 1:\n",
    "        continue\n",
    "\n",
    "    cur_category = s[\"categories\"].strip().split(\".\")[0]\n",
    "    if cur_category not in CATEGORIES_TO_SELECT:\n",
    "        continue\n",
    "    samples.append(s)\n",
    "\n",
    "    if len(samples) >= 1000:\n",
    "        break\n",
    "\n",
    "print(f\"Number of samples: {len(samples)}\")"
   ]
  },
  {
   "cell_type": "code",
   "execution_count": null,
   "id": "6c300fb9",
   "metadata": {},
   "outputs": [],
   "source": []
  }
 ],
 "metadata": {
  "kernelspec": {
   "display_name": "venv",
   "language": "python",
   "name": "python3"
  },
  "language_info": {
   "codemirror_mode": {
    "name": "ipython",
    "version": 3
   },
   "file_extension": ".py",
   "mimetype": "text/x-python",
   "name": "python",
   "nbconvert_exporter": "python",
   "pygments_lexer": "ipython3",
   "version": "3.13.5"
  }
 },
 "nbformat": 4,
 "nbformat_minor": 5
}

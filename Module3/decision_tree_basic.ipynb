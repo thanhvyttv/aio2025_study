{
 "cells": [
  {
   "cell_type": "code",
   "execution_count": 1,
   "id": "9e4cc8ac",
   "metadata": {},
   "outputs": [
    {
     "name": "stderr",
     "output_type": "stream",
     "text": [
      "/Users/vychan/Coding/AIO2025/Code/aio2025_study/venv/lib/python3.13/site-packages/tqdm/auto.py:21: TqdmWarning: IProgress not found. Please update jupyter and ipywidgets. See https://ipywidgets.readthedocs.io/en/stable/user_install.html\n",
      "  from .autonotebook import tqdm as notebook_tqdm\n"
     ]
    }
   ],
   "source": [
    "import pandas as pd\n",
    "import numpy as np\n",
    "import gradio as gr\n",
    "import matplotlib.pyplot as plt\n",
    "from IPython.display import display\n",
    "from sklearn.tree import DecisionTreeClassifier, plot_tree"
   ]
  },
  {
   "cell_type": "code",
   "execution_count": 2,
   "id": "6f4fde52",
   "metadata": {},
   "outputs": [
    {
     "name": "stdout",
     "output_type": "stream",
     "text": [
      "Original dataset:\n"
     ]
    },
    {
     "data": {
      "text/html": [
       "<div>\n",
       "<style scoped>\n",
       "    .dataframe tbody tr th:only-of-type {\n",
       "        vertical-align: middle;\n",
       "    }\n",
       "\n",
       "    .dataframe tbody tr th {\n",
       "        vertical-align: top;\n",
       "    }\n",
       "\n",
       "    .dataframe thead th {\n",
       "        text-align: right;\n",
       "    }\n",
       "</style>\n",
       "<table border=\"1\" class=\"dataframe\">\n",
       "  <thead>\n",
       "    <tr style=\"text-align: right;\">\n",
       "      <th></th>\n",
       "      <th>Điểm_Tốt_Nghiệp</th>\n",
       "      <th>Chứng_chỉ_Ielts</th>\n",
       "      <th>Cộng_điểm_dân_tộc</th>\n",
       "      <th>Đậu_ĐH</th>\n",
       "    </tr>\n",
       "  </thead>\n",
       "  <tbody>\n",
       "    <tr>\n",
       "      <th>0</th>\n",
       "      <td>12.0</td>\n",
       "      <td>Không</td>\n",
       "      <td>Không</td>\n",
       "      <td>Không</td>\n",
       "    </tr>\n",
       "    <tr>\n",
       "      <th>1</th>\n",
       "      <td>14.5</td>\n",
       "      <td>Không</td>\n",
       "      <td>Có</td>\n",
       "      <td>Không</td>\n",
       "    </tr>\n",
       "    <tr>\n",
       "      <th>2</th>\n",
       "      <td>16.0</td>\n",
       "      <td>Không</td>\n",
       "      <td>Không</td>\n",
       "      <td>Không</td>\n",
       "    </tr>\n",
       "    <tr>\n",
       "      <th>3</th>\n",
       "      <td>18.0</td>\n",
       "      <td>Không</td>\n",
       "      <td>Có</td>\n",
       "      <td>Không</td>\n",
       "    </tr>\n",
       "    <tr>\n",
       "      <th>4</th>\n",
       "      <td>20.0</td>\n",
       "      <td>Có</td>\n",
       "      <td>Không</td>\n",
       "      <td>Có</td>\n",
       "    </tr>\n",
       "    <tr>\n",
       "      <th>5</th>\n",
       "      <td>22.0</td>\n",
       "      <td>Không</td>\n",
       "      <td>Không</td>\n",
       "      <td>Không</td>\n",
       "    </tr>\n",
       "    <tr>\n",
       "      <th>6</th>\n",
       "      <td>24.0</td>\n",
       "      <td>Có</td>\n",
       "      <td>Có</td>\n",
       "      <td>Có</td>\n",
       "    </tr>\n",
       "    <tr>\n",
       "      <th>7</th>\n",
       "      <td>26.0</td>\n",
       "      <td>Không</td>\n",
       "      <td>Không</td>\n",
       "      <td>Có</td>\n",
       "    </tr>\n",
       "  </tbody>\n",
       "</table>\n",
       "</div>"
      ],
      "text/plain": [
       "   Điểm_Tốt_Nghiệp Chứng_chỉ_Ielts Cộng_điểm_dân_tộc Đậu_ĐH\n",
       "0             12.0           Không             Không  Không\n",
       "1             14.5           Không                Có  Không\n",
       "2             16.0           Không             Không  Không\n",
       "3             18.0           Không                Có  Không\n",
       "4             20.0              Có             Không     Có\n",
       "5             22.0           Không             Không  Không\n",
       "6             24.0              Có                Có     Có\n",
       "7             26.0           Không             Không     Có"
      ]
     },
     "metadata": {},
     "output_type": "display_data"
    }
   ],
   "source": [
    "# Step 1: Load the dataset\n",
    "df = pd.read_csv(\n",
    "    \"./data/Student_Pass_Dataset.csv\",\n",
    "    names=[\"Điểm_Tốt_Nghiệp\", \"Chứng_chỉ_Ielts\", \"Cộng_điểm_dân_tộc\", \"Đậu_ĐH\"],\n",
    "    header=0,\n",
    ")\n",
    "print(\"Original dataset:\")\n",
    "display(df)"
   ]
  },
  {
   "cell_type": "code",
   "execution_count": 3,
   "id": "4134d3fb",
   "metadata": {},
   "outputs": [
    {
     "data": {
      "text/html": [
       "<div>\n",
       "<style scoped>\n",
       "    .dataframe tbody tr th:only-of-type {\n",
       "        vertical-align: middle;\n",
       "    }\n",
       "\n",
       "    .dataframe tbody tr th {\n",
       "        vertical-align: top;\n",
       "    }\n",
       "\n",
       "    .dataframe thead th {\n",
       "        text-align: right;\n",
       "    }\n",
       "</style>\n",
       "<table border=\"1\" class=\"dataframe\">\n",
       "  <thead>\n",
       "    <tr style=\"text-align: right;\">\n",
       "      <th></th>\n",
       "      <th>Điểm_Tốt_Nghiệp</th>\n",
       "      <th>Chứng_chỉ_Ielts</th>\n",
       "      <th>Cộng_điểm_dân_tộc</th>\n",
       "      <th>Đậu_ĐH</th>\n",
       "    </tr>\n",
       "  </thead>\n",
       "  <tbody>\n",
       "    <tr>\n",
       "      <th>0</th>\n",
       "      <td>12.0</td>\n",
       "      <td>1</td>\n",
       "      <td>1</td>\n",
       "      <td>0</td>\n",
       "    </tr>\n",
       "    <tr>\n",
       "      <th>1</th>\n",
       "      <td>14.5</td>\n",
       "      <td>1</td>\n",
       "      <td>0</td>\n",
       "      <td>0</td>\n",
       "    </tr>\n",
       "    <tr>\n",
       "      <th>2</th>\n",
       "      <td>16.0</td>\n",
       "      <td>1</td>\n",
       "      <td>1</td>\n",
       "      <td>0</td>\n",
       "    </tr>\n",
       "    <tr>\n",
       "      <th>3</th>\n",
       "      <td>18.0</td>\n",
       "      <td>1</td>\n",
       "      <td>0</td>\n",
       "      <td>0</td>\n",
       "    </tr>\n",
       "    <tr>\n",
       "      <th>4</th>\n",
       "      <td>20.0</td>\n",
       "      <td>0</td>\n",
       "      <td>1</td>\n",
       "      <td>1</td>\n",
       "    </tr>\n",
       "    <tr>\n",
       "      <th>5</th>\n",
       "      <td>22.0</td>\n",
       "      <td>1</td>\n",
       "      <td>1</td>\n",
       "      <td>0</td>\n",
       "    </tr>\n",
       "    <tr>\n",
       "      <th>6</th>\n",
       "      <td>24.0</td>\n",
       "      <td>0</td>\n",
       "      <td>0</td>\n",
       "      <td>1</td>\n",
       "    </tr>\n",
       "    <tr>\n",
       "      <th>7</th>\n",
       "      <td>26.0</td>\n",
       "      <td>1</td>\n",
       "      <td>1</td>\n",
       "      <td>1</td>\n",
       "    </tr>\n",
       "  </tbody>\n",
       "</table>\n",
       "</div>"
      ],
      "text/plain": [
       "   Điểm_Tốt_Nghiệp  Chứng_chỉ_Ielts  Cộng_điểm_dân_tộc  Đậu_ĐH\n",
       "0             12.0                1                  1       0\n",
       "1             14.5                1                  0       0\n",
       "2             16.0                1                  1       0\n",
       "3             18.0                1                  0       0\n",
       "4             20.0                0                  1       1\n",
       "5             22.0                1                  1       0\n",
       "6             24.0                0                  0       1\n",
       "7             26.0                1                  1       1"
      ]
     },
     "metadata": {},
     "output_type": "display_data"
    }
   ],
   "source": [
    "# Step 2: Load and encode dataset\n",
    "def encode_df(df):\n",
    "    df2 = df.copy()\n",
    "    bin_map = {\"Có\": 0, \"Không\": 1}\n",
    "    df2[\"Chứng_chỉ_Ielts\"] = df2[\"Chứng_chỉ_Ielts\"].map(bin_map)\n",
    "    df2[\"Cộng_điểm_dân_tộc\"] = df2[\"Cộng_điểm_dân_tộc\"].map(bin_map)\n",
    "    df2[\"Đậu_ĐH\"] = df2[\"Đậu_ĐH\"].map({\"Có\": 1, \"Không\": 0})\n",
    "\n",
    "    return df2\n",
    "\n",
    "\n",
    "df_encoded = encode_df(df)\n",
    "display(df_encoded)"
   ]
  },
  {
   "cell_type": "code",
   "execution_count": 4,
   "id": "030cb10e",
   "metadata": {},
   "outputs": [
    {
     "name": "stdout",
     "output_type": "stream",
     "text": [
      "Root Gini impurity của Đậu_ĐH = 0.4688\n"
     ]
    }
   ],
   "source": [
    "# Step 3: Compute root entropy of the target\n",
    "def gini(probs):\n",
    "    return 1 - np.sum(np.square(probs))\n",
    "\n",
    "\n",
    "root_probs = df_encoded[\"Đậu_ĐH\"].value_counts(normalize=True).sort_index().values\n",
    "root_gini = gini(root_probs)\n",
    "print(f\"Root Gini impurity của Đậu_ĐH = {root_gini:.4f}\")"
   ]
  },
  {
   "cell_type": "code",
   "execution_count": 5,
   "id": "3c793362",
   "metadata": {},
   "outputs": [
    {
     "name": "stdout",
     "output_type": "stream",
     "text": [
      "[1 0]\n"
     ]
    }
   ],
   "source": [
    "print(df_encoded[np.array(df.columns)[1]].unique())"
   ]
  },
  {
   "cell_type": "code",
   "execution_count": null,
   "id": "9683587f",
   "metadata": {},
   "outputs": [
    {
     "name": "stdout",
     "output_type": "stream",
     "text": [
      "\n",
      "Gini Gain cho từng thuộc tính:\n",
      "\n",
      "- Thuộc tính: Chứng_chỉ_Ielts\n",
      "  Ngưỡng ≦ 0.5: Gini(L)=0.0000, Gini(R) = 0.2778, Gini trọng số: 0.2083, Gain=0.2604\n",
      "→ Chọn ngưỡng 0.5 với Gini Gain = 0.2604\n",
      "\n",
      "- Thuộc tính: Điểm_Tốt_Nghiệp\n",
      "  Ngưỡng ≦ 13.25: Gini(L)=0.0000, Gini(R) = 0.4898, Gini trọng số: 0.4286, Gain=0.0402\n",
      "  Ngưỡng ≦ 15.25: Gini(L)=0.0000, Gini(R) = 0.5000, Gini trọng số: 0.3750, Gain=0.0938\n",
      "  Ngưỡng ≦ 17.0: Gini(L)=0.0000, Gini(R) = 0.4800, Gini trọng số: 0.3000, Gain=0.1688\n",
      "  Ngưỡng ≦ 19.0: Gini(L)=0.0000, Gini(R) = 0.3750, Gini trọng số: 0.1875, Gain=0.2812\n",
      "  Ngưỡng ≦ 21.0: Gini(L)=0.3200, Gini(R) = 0.4444, Gini trọng số: 0.3667, Gain=0.1021\n",
      "  Ngưỡng ≦ 23.0: Gini(L)=0.2778, Gini(R) = 0.0000, Gini trọng số: 0.2083, Gain=0.2604\n",
      "  Ngưỡng ≦ 25.0: Gini(L)=0.4082, Gini(R) = 0.0000, Gini trọng số: 0.3571, Gain=0.1116\n",
      "→ Chọn ngưỡng 19.0 với Gini Gain = 0.2812\n",
      "\n",
      "- Thuộc tính: Cộng_điểm_dân_tộc\n",
      "  Ngưỡng ≦ 0.5: Gini(L)=0.4444, Gini(R) = 0.4800, Gini trọng số: 0.4667, Gain=0.0021\n",
      "→ Chọn ngưỡng 0.5 với Gini Gain = 0.0021\n"
     ]
    }
   ],
   "source": [
    "# Step 4: Compute Information Gain for each feature\n",
    "print(\"\\nGini Gain cho từng thuộc tính:\")\n",
    "features = [\"Chứng_chỉ_Ielts\", \"Điểm_Tốt_Nghiệp\", \"Cộng_điểm_dân_tộc\"]\n",
    "for feature in features:\n",
    "    print(f\"\\n- Thuộc tính: {feature}\")\n",
    "    vals = sorted(df_encoded[feature].unique())\n",
    "    if feature in [\"Chứng_chỉ_Ielts\", \"Cộng_điểm_dân_tộc\"]:\n",
    "        thresholds = [0.5]\n",
    "    else:\n",
    "        thresholds = [(vals[i] + vals[i + 1]) / 2 for i in range(len(vals) - 1)]\n",
    "\n",
    "    best_gain, best_thr = -1, None\n",
    "    for thr in thresholds:\n",
    "        left = df_encoded[df_encoded[feature] <= thr][\"Đậu_ĐH\"]\n",
    "        right = df_encoded[df_encoded[feature] > thr][\"Đậu_ĐH\"]\n",
    "        pL = left.value_counts(normalize=True).values\n",
    "        pR = right.value_counts(normalize=True).values\n",
    "\n",
    "        gL, gR = gini(pL), gini(pR)\n",
    "        wG = (len(left) / len(df_encoded)) * gL + (len(right) / len(df_encoded)) * gR\n",
    "        gain = root_gini - wG\n",
    "        print(\n",
    "            f\"  Ngưỡng ≦ {thr}: Gini(L)={gL:.4f}, Gini(R) = {gR:.4f}, Gini trọng số: {wG:.4f}, Gain={gain:.4f}\"\n",
    "        )\n",
    "        if gain > best_gain:\n",
    "            best_gain, best_thr = gain, thr\n",
    "\n",
    "    print(f\"→ Chọn ngưỡng {best_thr} với Gini Gain = {best_gain:.4f}\")\n"
   ]
  },
  {
   "cell_type": "code",
   "execution_count": 7,
   "id": "a9694da1",
   "metadata": {},
   "outputs": [
    {
     "data": {
      "image/png": "[encoded data removed]",
      "text/plain": [
       "<Figure size 1000x600 with 1 Axes>"
      ]
     },
     "metadata": {},
     "output_type": "display_data"
    }
   ],
   "source": [
    "# Step 5: Train a full-depth tree and visualize\n",
    "X = df_encoded[features]\n",
    "y = df_encoded[\"Đậu_ĐH\"]\n",
    "clf = DecisionTreeClassifier(criterion=\"gini\", random_state=0)\n",
    "clf.fit(X, y)\n",
    "\n",
    "plt.figure(figsize=(10, 6))\n",
    "plot_tree(\n",
    "    clf,\n",
    "    feature_names=[\"Chứng chỉ IELTS\", \"Điểm tốt nghiệp\", \"Cộng điểm dân tộc\"],\n",
    "    class_names=[\"Không\", \"Có\"],\n",
    "    filled=True,\n",
    "    rounded=True,\n",
    "    proportion=True,\n",
    "    impurity=False,\n",
    "    fontsize=10,\n",
    ")\n",
    "\n",
    "plt.title(\"Decision Tree (Gini)\")\n",
    "plt.show()"
   ]
  },
  {
   "cell_type": "code",
   "execution_count": null,
   "id": "a8b5ccba",
   "metadata": {},
   "outputs": [
    {
     "name": "stdout",
     "output_type": "stream",
     "text": [
      "Kết quả dự đoán: Có\n"
     ]
    }
   ],
   "source": [
    "# Step 6: Test\n",
    "_mapping = {\"Có\": 0, \"Không\": 1}\n",
    "\n",
    "\n",
    "def encode_input(record):\n",
    "    return [\n",
    "        _mapping[record[\"Chứng_chỉ_Ielts\"]],\n",
    "        record[\"Điểm_Tốt_Nghiệp\"],\n",
    "        _mapping[record[\"Cộng_điểm_dân_tộc\"]],\n",
    "    ]\n",
    "\n",
    "\n",
    "def predict_pass(record):\n",
    "    x_list = encode_input(record)\n",
    "    df_new = pd.DataFrame([x_list], columns=features)\n",
    "    pred = clf.predict(df_new)[0]\n",
    "    return \"Có\" if pred == 1 else \"Không\"\n",
    "\n",
    "\n",
    "new_student = {\n",
    "    \"Điểm_Tốt_Nghiệp\": 27.0,\n",
    "    \"Chứng_chỉ_Ielts\": \"Có\",\n",
    "    \"Cộng_điểm_dân_tộc\": \"Không\",\n",
    "}\n",
    "\n",
    "print(f\"Kết quả dự đoán: {predict_pass(new_student)}\")"
   ]
  },
  {
   "cell_type": "code",
   "execution_count": 9,
   "id": "fcba34dc",
   "metadata": {},
   "outputs": [
    {
     "name": "stdout",
     "output_type": "stream",
     "text": [
      "* Running on local URL:  http://127.0.0.1:7860\n",
      "* To create a public link, set `share=True` in `launch()`.\n"
     ]
    },
    {
     "data": {
      "text/html": [
       "<div><iframe src=\"http://127.0.0.1:7860/\" width=\"100%\" height=\"500\" allow=\"autoplay; camera; microphone; clipboard-read; clipboard-write;\" frameborder=\"0\" allowfullscreen></iframe></div>"
      ],
      "text/plain": [
       "<IPython.core.display.HTML object>"
      ]
     },
     "metadata": {},
     "output_type": "display_data"
    },
    {
     "data": {
      "text/plain": []
     },
     "execution_count": 9,
     "metadata": {},
     "output_type": "execute_result"
    }
   ],
   "source": [
    "# Demo\n",
    "def predict_and_plot(diem, ielts, dan_toc):\n",
    "    try:\n",
    "        record = {\n",
    "            \"Điểm_Tốt_Nghiệp\": float(diem),\n",
    "            \"Chứng_chỉ_Ielts\": ielts,\n",
    "            \"Cộng_điểm_dân_tộc\": dan_toc,\n",
    "        }\n",
    "        result = predict_pass(record)\n",
    "        fig, ax = plt.subplots(figsize=(8, 6))\n",
    "        plot_tree(\n",
    "            clf,\n",
    "            feature_names=[\"Chứng chỉ IELTS\", \"Điểm tốt nghiệp\", \"Cộng điểm dân tộc\"],\n",
    "            class_names=[\"Không\", \"Có\"],\n",
    "            filled=True,\n",
    "            rounded=True,\n",
    "            proportion=True,\n",
    "            impurity=False,\n",
    "            fontsize=8,\n",
    "            ax=ax,\n",
    "        )\n",
    "        ax.set_title(\"Decision Tree (Gini)\")\n",
    "        plt.tight_layout()\n",
    "\n",
    "        return result, fig\n",
    "    except Exception as e:\n",
    "        return f\"Lỗi nhập liệu: {e}\", None\n",
    "\n",
    "\n",
    "iface = gr.Interface(\n",
    "    fn=predict_and_plot,\n",
    "    inputs=[\n",
    "        gr.Number(label=\"Điểm tốt nghiệp\", value=None, placeholder=\"Ví dụ: 27.0\"),\n",
    "        gr.Radio([\"Có\", \"Không\"], label=\"Chứng chỉ IELTS\", value=\"Có\"),\n",
    "        gr.Radio([\"Có\", \"Không\"], label=\"Cộng điểm dân tộc\", value=\"Có\"),\n",
    "    ],\n",
    "    outputs=[gr.Textbox(label=\"Dự đoán đậu đại học\"), gr.Plot(label=\"Decision Tree\")],\n",
    "    title=\"DEMO student Pass Predictor (GINI)\",\n",
    "    description=\"\"\"\n",
    "    ****Hướng dẫn nhập liệu***\n",
    "\"\"\",\n",
    ")\n",
    "iface.launch()"
   ]
  },
  {
   "cell_type": "code",
   "execution_count": null,
   "id": "7c00e63b",
   "metadata": {},
   "outputs": [],
   "source": []
  }
 ],
 "metadata": {
  "kernelspec": {
   "display_name": "venv",
   "language": "python",
   "name": "python3"
  },
  "language_info": {
   "codemirror_mode": {
    "name": "ipython",
    "version": 3
   },
   "file_extension": ".py",
   "mimetype": "text/x-python",
   "name": "python",
   "nbconvert_exporter": "python",
   "pygments_lexer": "ipython3",
   "version": "3.13.5"
  }
 },
 "nbformat": 4,
 "nbformat_minor": 5
}
